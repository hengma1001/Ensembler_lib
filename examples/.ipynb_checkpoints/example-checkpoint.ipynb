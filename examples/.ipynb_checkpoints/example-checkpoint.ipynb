{
 "cells": [
  {
   "cell_type": "code",
   "execution_count": 1,
   "metadata": {},
   "outputs": [],
   "source": [
    "import sys, os\n",
    "\n",
    "sys.path.append('../')\n",
    "\n",
    "import ensembler\n",
    "\n",
    "from ensembler.build_env import Ensembler_proj_init, GatherTargetsFromUniprot\n",
    "from ensembler.core import default_project_dirnames"
   ]
  },
  {
   "cell_type": "code",
   "execution_count": 2,
   "metadata": {},
   "outputs": [],
   "source": [
    "search_string = 'accession:p42336 taxonomy:\"Homo sapiens (Human) [9606]\"'"
   ]
  },
  {
   "cell_type": "markdown",
   "metadata": {},
   "source": [
    "# Initializaion of the project"
   ]
  },
  {
   "cell_type": "code",
   "execution_count": 3,
   "metadata": {},
   "outputs": [
    {
     "name": "stdout",
     "output_type": "stream",
     "text": [
      "File ./targets exists, pass...\n",
      "File ./templates exists, pass...\n",
      "File ./structures exists, pass...\n",
      "File ./models exists, pass...\n",
      "File ./packaged_models exists, pass...\n",
      "File ./structures/pdb exists, pass...\n",
      "File ./structures/sifts exists, pass...\n",
      "File ./templates/structures-resolved exists, pass...\n",
      "File ./templates/structures-modeled-loops exists, pass...\n",
      "Done.\n"
     ]
    },
    {
     "data": {
      "text/plain": [
       "<ensembler.build_env.Ensembler_proj_init at 0x10c5c3be0>"
      ]
     },
     "execution_count": 3,
     "metadata": {},
     "output_type": "execute_result"
    }
   ],
   "source": [
    "Ensembler_proj_init()"
   ]
  },
  {
   "cell_type": "markdown",
   "metadata": {},
   "source": [
    "# Download target from Uniprot"
   ]
  },
  {
   "cell_type": "code",
   "execution_count": 4,
   "metadata": {},
   "outputs": [
    {
     "name": "stdout",
     "output_type": "stream",
     "text": [
      "Querying Uniprot web server...\n",
      "Number of entries returned from initial UniProt search: 2\n",
      "\n",
      "Set of unique domain names returned from the initial UniProt search using the query string 'accession:p42336 taxonomy:\"Homo sapiens (Human) [9606]\"':\n",
      "{'PI3K-ABD', 'PI3K/PI4K', 'PIK helical', 'PI3K-RBD', 'C2 PI3K-type'}\n",
      "\n",
      "Done.\n"
     ]
    },
    {
     "data": {
      "text/plain": [
       "<ensembler.build_env.GatherTargetsFromUniprot at 0x10cf0a160>"
      ]
     },
     "execution_count": 4,
     "metadata": {},
     "output_type": "execute_result"
    }
   ],
   "source": [
    "GatherTargetsFromUniprot(search_string)"
   ]
  },
  {
   "cell_type": "markdown",
   "metadata": {},
   "source": [
    "# Download templates from Uniprot"
   ]
  },
  {
   "cell_type": "code",
   "execution_count": null,
   "metadata": {},
   "outputs": [],
   "source": []
  }
 ],
 "metadata": {
  "kernelspec": {
   "display_name": "Python 3",
   "language": "python",
   "name": "python3"
  },
  "language_info": {
   "codemirror_mode": {
    "name": "ipython",
    "version": 3
   },
   "file_extension": ".py",
   "mimetype": "text/x-python",
   "name": "python",
   "nbconvert_exporter": "python",
   "pygments_lexer": "ipython3",
   "version": "3.7.1"
  }
 },
 "nbformat": 4,
 "nbformat_minor": 2
}
