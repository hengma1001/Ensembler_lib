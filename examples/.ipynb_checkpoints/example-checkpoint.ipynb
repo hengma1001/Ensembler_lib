{
 "cells": [
  {
   "cell_type": "code",
   "execution_count": 1,
   "metadata": {},
   "outputs": [],
   "source": [
    "import sys, os\n",
    "\n",
    "sys.path.append('../')\n",
    "\n",
    "import ensembler\n",
    "\n",
    "# from ensembler.build_env import Ensembler_proj_init, GatherTargetsFromUniprot, gather_templates_from_uniprot \n",
    "# from ensembler.modeling import model_template_loops, align_targets_and_templates\n",
    "# from ensembler.core import default_project_dirnames, mpistate \n",
    "\n",
    "search_string = 'accession:p42336 taxonomy:\"Homo sapiens (Human) [9606]\"' \n",
    "loglevel='debug'"
   ]
  },
  {
   "cell_type": "markdown",
   "metadata": {},
   "source": [
    "# Initializaion of the project"
   ]
  },
  {
   "cell_type": "code",
   "execution_count": 2,
   "metadata": {},
   "outputs": [
    {
     "name": "stdout",
     "output_type": "stream",
     "text": [
      "File ./targets exists, pass...\n",
      "File ./templates exists, pass...\n",
      "File ./structures exists, pass...\n",
      "File ./models exists, pass...\n",
      "File ./simulations exists, pass...\n",
      "File ./packaged_models exists, pass...\n",
      "File ./structures/pdb exists, pass...\n",
      "File ./structures/sifts exists, pass...\n",
      "File ./templates/structures-resolved exists, pass...\n",
      "File ./templates/structures-modeled-loops exists, pass...\n",
      "Done.\n"
     ]
    },
    {
     "data": {
      "text/plain": [
       "<ensembler.build_env.Ensembler_proj_init at 0x7fee7c16cc88>"
      ]
     },
     "execution_count": 2,
     "metadata": {},
     "output_type": "execute_result"
    }
   ],
   "source": [
    "ensembler.build_env.Ensembler_proj_init()"
   ]
  },
  {
   "cell_type": "markdown",
   "metadata": {},
   "source": [
    "# Download target from Uniprot"
   ]
  },
  {
   "cell_type": "code",
   "execution_count": 4,
   "metadata": {},
   "outputs": [
    {
     "name": "stdout",
     "output_type": "stream",
     "text": [
      "Querying Uniprot web server...\n",
      "Number of entries returned from initial UniProt search: 2\n",
      "\n",
      "Set of unique domain names returned from the initial UniProt search using the query string 'accession:p42336 taxonomy:\"Homo sapiens (Human) [9606]\"':\n",
      "{'PIK helical', 'PI3K-RBD', 'PI3K/PI4K', 'PI3K-ABD', 'C2 PI3K-type'}\n",
      "\n",
      "Done.\n"
     ]
    },
    {
     "data": {
      "text/plain": [
       "<ensembler.build_env.GatherTargetsFromUniprot at 0x1191a1d68>"
      ]
     },
     "execution_count": 4,
     "metadata": {},
     "output_type": "execute_result"
    }
   ],
   "source": [
    "ensembler.build_env.GatherTargetsFromUniprot(search_string)"
   ]
  },
  {
   "cell_type": "markdown",
   "metadata": {},
   "source": [
    "# Download templates from Uniprot"
   ]
  },
  {
   "cell_type": "code",
   "execution_count": 5,
   "metadata": {
    "scrolled": false
   },
   "outputs": [
    {
     "name": "stdout",
     "output_type": "stream",
     "text": [
      "Set of unique domain names returned from the initial UniProt search using the query string 'accession:p42336 taxonomy:\"Homo sapiens (Human) [9606]\"':\n",
      "{'PIK helical', 'PI3K-RBD', 'PI3K/PI4K', 'PI3K-ABD', 'C2 PI3K-type'}\n",
      "\n",
      "45 PDB chains selected.\n",
      "Selected PDB chains: ['PK3CA_HUMAN_2ENQ_A', 'PK3CA_HUMAN_2RD0_A', 'PK3CA_HUMAN_3HHM_A', 'PK3CA_HUMAN_3HIZ_A', 'PK3CA_HUMAN_3ZIM_A', 'PK3CA_HUMAN_4JPS_A', 'PK3CA_HUMAN_4L1B_A', 'PK3CA_HUMAN_4L23_A', 'PK3CA_HUMAN_4L2Y_A', 'PK3CA_HUMAN_4OVU_A', 'PK3CA_HUMAN_4OVV_A', 'PK3CA_HUMAN_4TUU_A', 'PK3CA_HUMAN_4TV3_A', 'PK3CA_HUMAN_4WAF_A', 'PK3CA_HUMAN_4YKN_A', 'PK3CA_HUMAN_4ZOP_A', 'PK3CA_HUMAN_5DXH_A', 'PK3CA_HUMAN_5DXH_D', 'PK3CA_HUMAN_5DXT_A', 'PK3CA_HUMAN_5FI4_A', 'PK3CA_HUMAN_5ITD_A', 'PK3CA_HUMAN_5SW8_A', 'PK3CA_HUMAN_5SWG_A', 'PK3CA_HUMAN_5SWO_A', 'PK3CA_HUMAN_5SWP_A', 'PK3CA_HUMAN_5SWR_A', 'PK3CA_HUMAN_5SWT_A', 'PK3CA_HUMAN_5SX8_A', 'PK3CA_HUMAN_5SX9_A', 'PK3CA_HUMAN_5SXA_A', 'PK3CA_HUMAN_5SXB_A', 'PK3CA_HUMAN_5SXC_A', 'PK3CA_HUMAN_5SXD_A', 'PK3CA_HUMAN_5SXE_A', 'PK3CA_HUMAN_5SXF_A', 'PK3CA_HUMAN_5SXI_A', 'PK3CA_HUMAN_5SXJ_A', 'PK3CA_HUMAN_5SXK_A', 'PK3CA_HUMAN_5UBR_A', 'PK3CA_HUMAN_5UK8_A', 'PK3CA_HUMAN_5UKJ_A', 'PK3CA_HUMAN_5UL1_A', 'PK3CA_HUMAN_5XGH_A', 'PK3CA_HUMAN_5XGI_A', 'PK3CA_HUMAN_5XGJ_A']\n",
      "Extracting residues from PDB chains...\n",
      "45 templates selected.\n",
      "\n",
      "Writing template structures...\n",
      "Done.\n"
     ]
    }
   ],
   "source": [
    "ensembler.build_env.gather_templates_from_uniprot(search_string, loglevel='debug')"
   ]
  },
  {
   "cell_type": "markdown",
   "metadata": {
    "slideshow": {
     "slide_type": "-"
    }
   },
   "source": [
    "# Loop model"
   ]
  },
  {
   "cell_type": "raw",
   "metadata": {},
   "source": [
    "model_template_loops(loglevel='debug')"
   ]
  },
  {
   "cell_type": "markdown",
   "metadata": {},
   "source": [
    "# Alignment "
   ]
  },
  {
   "cell_type": "code",
   "execution_count": 2,
   "metadata": {},
   "outputs": [
    {
     "name": "stdout",
     "output_type": "stream",
     "text": [
      "Working on target PK3CA_HUMAN...\n",
      "File models/PK3CA_HUMAN exists, pass...\n",
      "File /Users/hm0/Documents/Research/Ensembler/Ensembler_lib/examples/models/PK3CA_HUMAN/PK3CA_HUMAN_2ENQ_A exists, pass...\n",
      "File /Users/hm0/Documents/Research/Ensembler/Ensembler_lib/examples/models/PK3CA_HUMAN/PK3CA_HUMAN_2RD0_A exists, pass...\n",
      "File /Users/hm0/Documents/Research/Ensembler/Ensembler_lib/examples/models/PK3CA_HUMAN/PK3CA_HUMAN_3HHM_A exists, pass...\n",
      "File /Users/hm0/Documents/Research/Ensembler/Ensembler_lib/examples/models/PK3CA_HUMAN/PK3CA_HUMAN_3HIZ_A exists, pass...\n",
      "File /Users/hm0/Documents/Research/Ensembler/Ensembler_lib/examples/models/PK3CA_HUMAN/PK3CA_HUMAN_3ZIM_A exists, pass...\n",
      "File /Users/hm0/Documents/Research/Ensembler/Ensembler_lib/examples/models/PK3CA_HUMAN/PK3CA_HUMAN_4JPS_A exists, pass...\n",
      "File /Users/hm0/Documents/Research/Ensembler/Ensembler_lib/examples/models/PK3CA_HUMAN/PK3CA_HUMAN_4L1B_A exists, pass...\n",
      "File /Users/hm0/Documents/Research/Ensembler/Ensembler_lib/examples/models/PK3CA_HUMAN/PK3CA_HUMAN_4L23_A exists, pass...\n",
      "File /Users/hm0/Documents/Research/Ensembler/Ensembler_lib/examples/models/PK3CA_HUMAN/PK3CA_HUMAN_4L2Y_A exists, pass...\n",
      "File /Users/hm0/Documents/Research/Ensembler/Ensembler_lib/examples/models/PK3CA_HUMAN/PK3CA_HUMAN_4OVU_A exists, pass...\n",
      "File /Users/hm0/Documents/Research/Ensembler/Ensembler_lib/examples/models/PK3CA_HUMAN/PK3CA_HUMAN_4OVV_A exists, pass...\n",
      "File /Users/hm0/Documents/Research/Ensembler/Ensembler_lib/examples/models/PK3CA_HUMAN/PK3CA_HUMAN_4TUU_A exists, pass...\n",
      "File /Users/hm0/Documents/Research/Ensembler/Ensembler_lib/examples/models/PK3CA_HUMAN/PK3CA_HUMAN_4TV3_A exists, pass...\n",
      "File /Users/hm0/Documents/Research/Ensembler/Ensembler_lib/examples/models/PK3CA_HUMAN/PK3CA_HUMAN_4WAF_A exists, pass...\n",
      "File /Users/hm0/Documents/Research/Ensembler/Ensembler_lib/examples/models/PK3CA_HUMAN/PK3CA_HUMAN_4YKN_A exists, pass...\n",
      "File /Users/hm0/Documents/Research/Ensembler/Ensembler_lib/examples/models/PK3CA_HUMAN/PK3CA_HUMAN_4ZOP_A exists, pass...\n",
      "File /Users/hm0/Documents/Research/Ensembler/Ensembler_lib/examples/models/PK3CA_HUMAN/PK3CA_HUMAN_5DXH_A exists, pass...\n",
      "File /Users/hm0/Documents/Research/Ensembler/Ensembler_lib/examples/models/PK3CA_HUMAN/PK3CA_HUMAN_5DXH_D exists, pass...\n",
      "File /Users/hm0/Documents/Research/Ensembler/Ensembler_lib/examples/models/PK3CA_HUMAN/PK3CA_HUMAN_5DXT_A exists, pass...\n",
      "File /Users/hm0/Documents/Research/Ensembler/Ensembler_lib/examples/models/PK3CA_HUMAN/PK3CA_HUMAN_5FI4_A exists, pass...\n",
      "File /Users/hm0/Documents/Research/Ensembler/Ensembler_lib/examples/models/PK3CA_HUMAN/PK3CA_HUMAN_5ITD_A exists, pass...\n",
      "File /Users/hm0/Documents/Research/Ensembler/Ensembler_lib/examples/models/PK3CA_HUMAN/PK3CA_HUMAN_5SW8_A exists, pass...\n",
      "File /Users/hm0/Documents/Research/Ensembler/Ensembler_lib/examples/models/PK3CA_HUMAN/PK3CA_HUMAN_5SWG_A exists, pass...\n",
      "File /Users/hm0/Documents/Research/Ensembler/Ensembler_lib/examples/models/PK3CA_HUMAN/PK3CA_HUMAN_5SWO_A exists, pass...\n",
      "File /Users/hm0/Documents/Research/Ensembler/Ensembler_lib/examples/models/PK3CA_HUMAN/PK3CA_HUMAN_5SWP_A exists, pass...\n",
      "File /Users/hm0/Documents/Research/Ensembler/Ensembler_lib/examples/models/PK3CA_HUMAN/PK3CA_HUMAN_5SWR_A exists, pass...\n",
      "File /Users/hm0/Documents/Research/Ensembler/Ensembler_lib/examples/models/PK3CA_HUMAN/PK3CA_HUMAN_5SWT_A exists, pass...\n",
      "File /Users/hm0/Documents/Research/Ensembler/Ensembler_lib/examples/models/PK3CA_HUMAN/PK3CA_HUMAN_5SX8_A exists, pass...\n",
      "File /Users/hm0/Documents/Research/Ensembler/Ensembler_lib/examples/models/PK3CA_HUMAN/PK3CA_HUMAN_5SX9_A exists, pass...\n",
      "File /Users/hm0/Documents/Research/Ensembler/Ensembler_lib/examples/models/PK3CA_HUMAN/PK3CA_HUMAN_5SXA_A exists, pass...\n",
      "File /Users/hm0/Documents/Research/Ensembler/Ensembler_lib/examples/models/PK3CA_HUMAN/PK3CA_HUMAN_5SXB_A exists, pass...\n",
      "File /Users/hm0/Documents/Research/Ensembler/Ensembler_lib/examples/models/PK3CA_HUMAN/PK3CA_HUMAN_5SXC_A exists, pass...\n",
      "File /Users/hm0/Documents/Research/Ensembler/Ensembler_lib/examples/models/PK3CA_HUMAN/PK3CA_HUMAN_5SXD_A exists, pass...\n",
      "File /Users/hm0/Documents/Research/Ensembler/Ensembler_lib/examples/models/PK3CA_HUMAN/PK3CA_HUMAN_5SXE_A exists, pass...\n",
      "File /Users/hm0/Documents/Research/Ensembler/Ensembler_lib/examples/models/PK3CA_HUMAN/PK3CA_HUMAN_5SXF_A exists, pass...\n",
      "File /Users/hm0/Documents/Research/Ensembler/Ensembler_lib/examples/models/PK3CA_HUMAN/PK3CA_HUMAN_5SXI_A exists, pass...\n",
      "File /Users/hm0/Documents/Research/Ensembler/Ensembler_lib/examples/models/PK3CA_HUMAN/PK3CA_HUMAN_5SXJ_A exists, pass...\n",
      "File /Users/hm0/Documents/Research/Ensembler/Ensembler_lib/examples/models/PK3CA_HUMAN/PK3CA_HUMAN_5SXK_A exists, pass...\n",
      "File /Users/hm0/Documents/Research/Ensembler/Ensembler_lib/examples/models/PK3CA_HUMAN/PK3CA_HUMAN_5UBR_A exists, pass...\n",
      "File /Users/hm0/Documents/Research/Ensembler/Ensembler_lib/examples/models/PK3CA_HUMAN/PK3CA_HUMAN_5UK8_A exists, pass...\n",
      "File /Users/hm0/Documents/Research/Ensembler/Ensembler_lib/examples/models/PK3CA_HUMAN/PK3CA_HUMAN_5UKJ_A exists, pass...\n",
      "File /Users/hm0/Documents/Research/Ensembler/Ensembler_lib/examples/models/PK3CA_HUMAN/PK3CA_HUMAN_5UL1_A exists, pass...\n",
      "File /Users/hm0/Documents/Research/Ensembler/Ensembler_lib/examples/models/PK3CA_HUMAN/PK3CA_HUMAN_5XGH_A exists, pass...\n",
      "File /Users/hm0/Documents/Research/Ensembler/Ensembler_lib/examples/models/PK3CA_HUMAN/PK3CA_HUMAN_5XGI_A exists, pass...\n",
      "File /Users/hm0/Documents/Research/Ensembler/Ensembler_lib/examples/models/PK3CA_HUMAN/PK3CA_HUMAN_5XGJ_A exists, pass...\n",
      "Done.\n"
     ]
    }
   ],
   "source": [
    "ensembler.modeling.align_targets_and_templates(loglevel=loglevel) "
   ]
  },
  {
   "cell_type": "markdown",
   "metadata": {},
   "source": [
    "# Modeling "
   ]
  },
  {
   "cell_type": "code",
   "execution_count": 2,
   "metadata": {},
   "outputs": [
    {
     "name": "stdout",
     "output_type": "stream",
     "text": [
      "=========================================================================\n",
      "Working on target \"PK3CA_HUMAN\"\n",
      "=========================================================================\n",
      "Skipping template PK3CA_HUMAN_2ENQ_A for low sequence matching ratio 0.141000. \n",
      "-------------------------------------------------------------------------\n",
      "Modelling \"PK3CA_HUMAN\" => \"PK3CA_HUMAN_2RD0_A\"\n",
      "   Generating 10 model(s)\n",
      "-------------------------------------------------------------------------\n"
     ]
    },
    {
     "ename": "KeyboardInterrupt",
     "evalue": "",
     "output_type": "error",
     "traceback": [
      "\u001b[0;31m---------------------------------------------------------------------------\u001b[0m",
      "\u001b[0;31mKeyboardInterrupt\u001b[0m                         Traceback (most recent call last)",
      "\u001b[0;32m<ipython-input-2-b9fbba659b30>\u001b[0m in \u001b[0;36m<module>\u001b[0;34m\u001b[0m\n\u001b[0;32m----> 1\u001b[0;31m \u001b[0mensembler\u001b[0m\u001b[0;34m.\u001b[0m\u001b[0mmodeling\u001b[0m\u001b[0;34m.\u001b[0m\u001b[0mbuild_models\u001b[0m\u001b[0;34m(\u001b[0m\u001b[0mloglevel\u001b[0m\u001b[0;34m=\u001b[0m\u001b[0mloglevel\u001b[0m\u001b[0;34m,\u001b[0m \u001b[0mnumber_of_models\u001b[0m\u001b[0;34m=\u001b[0m\u001b[0;36m10\u001b[0m\u001b[0;34m,\u001b[0m \u001b[0msequence_matching_ratio\u001b[0m\u001b[0;34m=\u001b[0m\u001b[0;36m0.95\u001b[0m\u001b[0;34m)\u001b[0m\u001b[0;34m\u001b[0m\u001b[0;34m\u001b[0m\u001b[0m\n\u001b[0m",
      "\u001b[0;32m../ensembler/utils.py\u001b[0m in \u001b[0;36mprint_done\u001b[0;34m(*args, **kwargs)\u001b[0m\n",
      "\u001b[0;32m../ensembler/modeling.py\u001b[0m in \u001b[0;36mbuild_models\u001b[0;34m(process_only_these_targets, process_only_these_templates, model_seqid_cutoff, write_modeller_restraints_file, number_of_models, sequence_matching_ratio, loglevel)\u001b[0m\n",
      "\u001b[0;32m../ensembler/modeling.py\u001b[0m in \u001b[0;36mbuild_model\u001b[0;34m(target, template_resolved_seq, target_setup_data, write_modeller_restraints_file, number_of_models, loglevel)\u001b[0m\n",
      "\u001b[0;32m../ensembler/modeling.py\u001b[0m in \u001b[0;36mrun_rosettaCM\u001b[0;34m(target, template, model_dir, model_pdbfilepath, model_pdbfilepath_uncompressed, template_structure_dir, number_of_models)\u001b[0m\n",
      "\u001b[0;32m~/anaconda2/envs/py3/lib/python3.6/subprocess.py\u001b[0m in \u001b[0;36mwait\u001b[0;34m(self, timeout, endtime)\u001b[0m\n\u001b[1;32m   1455\u001b[0m                         \u001b[0;32mif\u001b[0m \u001b[0mself\u001b[0m\u001b[0;34m.\u001b[0m\u001b[0mreturncode\u001b[0m \u001b[0;32mis\u001b[0m \u001b[0;32mnot\u001b[0m \u001b[0;32mNone\u001b[0m\u001b[0;34m:\u001b[0m\u001b[0;34m\u001b[0m\u001b[0;34m\u001b[0m\u001b[0m\n\u001b[1;32m   1456\u001b[0m                             \u001b[0;32mbreak\u001b[0m  \u001b[0;31m# Another thread waited.\u001b[0m\u001b[0;34m\u001b[0m\u001b[0;34m\u001b[0m\u001b[0m\n\u001b[0;32m-> 1457\u001b[0;31m                         \u001b[0;34m(\u001b[0m\u001b[0mpid\u001b[0m\u001b[0;34m,\u001b[0m \u001b[0msts\u001b[0m\u001b[0;34m)\u001b[0m \u001b[0;34m=\u001b[0m \u001b[0mself\u001b[0m\u001b[0;34m.\u001b[0m\u001b[0m_try_wait\u001b[0m\u001b[0;34m(\u001b[0m\u001b[0;36m0\u001b[0m\u001b[0;34m)\u001b[0m\u001b[0;34m\u001b[0m\u001b[0;34m\u001b[0m\u001b[0m\n\u001b[0m\u001b[1;32m   1458\u001b[0m                         \u001b[0;31m# Check the pid and loop as waitpid has been known to\u001b[0m\u001b[0;34m\u001b[0m\u001b[0;34m\u001b[0m\u001b[0;34m\u001b[0m\u001b[0m\n\u001b[1;32m   1459\u001b[0m                         \u001b[0;31m# return 0 even without WNOHANG in odd situations.\u001b[0m\u001b[0;34m\u001b[0m\u001b[0;34m\u001b[0m\u001b[0;34m\u001b[0m\u001b[0m\n",
      "\u001b[0;32m~/anaconda2/envs/py3/lib/python3.6/subprocess.py\u001b[0m in \u001b[0;36m_try_wait\u001b[0;34m(self, wait_flags)\u001b[0m\n\u001b[1;32m   1402\u001b[0m             \u001b[0;34m\"\"\"All callers to this function MUST hold self._waitpid_lock.\"\"\"\u001b[0m\u001b[0;34m\u001b[0m\u001b[0;34m\u001b[0m\u001b[0m\n\u001b[1;32m   1403\u001b[0m             \u001b[0;32mtry\u001b[0m\u001b[0;34m:\u001b[0m\u001b[0;34m\u001b[0m\u001b[0;34m\u001b[0m\u001b[0m\n\u001b[0;32m-> 1404\u001b[0;31m                 \u001b[0;34m(\u001b[0m\u001b[0mpid\u001b[0m\u001b[0;34m,\u001b[0m \u001b[0msts\u001b[0m\u001b[0;34m)\u001b[0m \u001b[0;34m=\u001b[0m \u001b[0mos\u001b[0m\u001b[0;34m.\u001b[0m\u001b[0mwaitpid\u001b[0m\u001b[0;34m(\u001b[0m\u001b[0mself\u001b[0m\u001b[0;34m.\u001b[0m\u001b[0mpid\u001b[0m\u001b[0;34m,\u001b[0m \u001b[0mwait_flags\u001b[0m\u001b[0;34m)\u001b[0m\u001b[0;34m\u001b[0m\u001b[0;34m\u001b[0m\u001b[0m\n\u001b[0m\u001b[1;32m   1405\u001b[0m             \u001b[0;32mexcept\u001b[0m \u001b[0mChildProcessError\u001b[0m\u001b[0;34m:\u001b[0m\u001b[0;34m\u001b[0m\u001b[0;34m\u001b[0m\u001b[0m\n\u001b[1;32m   1406\u001b[0m                 \u001b[0;31m# This happens if SIGCLD is set to be ignored or waiting\u001b[0m\u001b[0;34m\u001b[0m\u001b[0;34m\u001b[0m\u001b[0;34m\u001b[0m\u001b[0m\n",
      "\u001b[0;31mKeyboardInterrupt\u001b[0m: "
     ]
    }
   ],
   "source": [
    "ensembler.modeling.build_models(loglevel=loglevel, number_of_models=10, sequence_matching_ratio=0.95)  "
   ]
  },
  {
   "cell_type": "markdown",
   "metadata": {},
   "source": [
    "# Clustering"
   ]
  },
  {
   "cell_type": "code",
   "execution_count": 2,
   "metadata": {},
   "outputs": [
    {
     "name": "stdout",
     "output_type": "stream",
     "text": [
      "Skipping templates with sequence matching ratios lower than 0.950000. \n",
      "Building a list of valid models...\n",
      "Constructing a trajectory containing all valid models...\n",
      "Conducting RMSD-based clustering...\n"
     ]
    },
    {
     "name": "stderr",
     "output_type": "stream",
     "text": [
      "/Users/hm0/anaconda2/envs/py3/lib/python3.6/site-packages/sklearn/cross_validation.py:41: DeprecationWarning: This module was deprecated in version 0.18 in favor of the model_selection module into which all the refactored classes and functions are moved. Also note that the interface of the new CV iterators are different from that of this module. This module will be removed in 0.20.\n",
      "  \"This module will be removed in 0.20.\", DeprecationWarning)\n",
      "/Users/hm0/anaconda2/envs/py3/lib/python3.6/site-packages/sklearn/grid_search.py:42: DeprecationWarning: This module was deprecated in version 0.18 in favor of the model_selection module into which all the refactored classes and functions are moved. This module will be removed in 0.20.\n",
      "  DeprecationWarning)\n"
     ]
    },
    {
     "name": "stdout",
     "output_type": "stream",
     "text": [
      "19 unique models (from original set of 330) using cutoff of 0.060 nm\n",
      "Done.\n"
     ]
    }
   ],
   "source": [
    "ensembler.modeling.cluster_models(loglevel=loglevel, sequence_matching_ratio=0.95) "
   ]
  },
  {
   "cell_type": "markdown",
   "metadata": {},
   "source": [
    "# MD simulation \n",
    "## implicit water simulation "
   ]
  },
  {
   "cell_type": "code",
   "execution_count": 1,
   "metadata": {},
   "outputs": [],
   "source": [
    "import sys, os\n",
    "\n",
    "sys.path.append('../')\n",
    "\n",
    "import ensembler\n",
    "\n",
    "search_string = 'accession:p42336 taxonomy:\"Homo sapiens (Human) [9606]\"' \n",
    "loglevel='debug'"
   ]
  },
  {
   "cell_type": "code",
   "execution_count": 2,
   "metadata": {},
   "outputs": [
    {
     "name": "stdout",
     "output_type": "stream",
     "text": [
      "Processing targets...\n",
      "Processing PK3CA_HUMAN\n",
      "File /home/hm0/Research/ensembler/Ensembler_lib/examples/simulations/PK3CA_HUMAN exists, pass...\n",
      "Starting PK3CA_HUMAN at 2019-01-08 16:50:06.551501\n",
      "Created directory /home/hm0/Research/ensembler/Ensembler_lib/examples/simulations/PK3CA_HUMAN/PK3CA_HUMAN_5FI4_A_model_0004, continuing...\n",
      "models/PK3CA_HUMAN/PK3CA_HUMAN_5FI4_A/model_0004.pdb /home/hm0/Research/ensembler/Ensembler_lib/examples/simulations/PK3CA_HUMAN/PK3CA_HUMAN_5FI4_A_model_0004\n",
      "Created directory /home/hm0/Research/ensembler/Ensembler_lib/examples/simulations/PK3CA_HUMAN/PK3CA_HUMAN_4L1B_A_model_0003, continuing...\n",
      "models/PK3CA_HUMAN/PK3CA_HUMAN_4L1B_A/model_0003.pdb /home/hm0/Research/ensembler/Ensembler_lib/examples/simulations/PK3CA_HUMAN/PK3CA_HUMAN_4L1B_A_model_0003\n",
      "Created directory /home/hm0/Research/ensembler/Ensembler_lib/examples/simulations/PK3CA_HUMAN/PK3CA_HUMAN_2RD0_A_model_0008, continuing...\n",
      "models/PK3CA_HUMAN/PK3CA_HUMAN_2RD0_A/model_0008.pdb /home/hm0/Research/ensembler/Ensembler_lib/examples/simulations/PK3CA_HUMAN/PK3CA_HUMAN_2RD0_A_model_0008\n",
      "Created directory /home/hm0/Research/ensembler/Ensembler_lib/examples/simulations/PK3CA_HUMAN/PK3CA_HUMAN_2RD0_A_model_0002, continuing...\n",
      "models/PK3CA_HUMAN/PK3CA_HUMAN_2RD0_A/model_0002.pdb /home/hm0/Research/ensembler/Ensembler_lib/examples/simulations/PK3CA_HUMAN/PK3CA_HUMAN_2RD0_A_model_0002\n",
      "Created directory /home/hm0/Research/ensembler/Ensembler_lib/examples/simulations/PK3CA_HUMAN/PK3CA_HUMAN_4L1B_A_model_0007, continuing...\n",
      "models/PK3CA_HUMAN/PK3CA_HUMAN_4L1B_A/model_0007.pdb /home/hm0/Research/ensembler/Ensembler_lib/examples/simulations/PK3CA_HUMAN/PK3CA_HUMAN_4L1B_A_model_0007\n",
      "Created directory /home/hm0/Research/ensembler/Ensembler_lib/examples/simulations/PK3CA_HUMAN/PK3CA_HUMAN_5ITD_A_model_0009, continuing...\n",
      "models/PK3CA_HUMAN/PK3CA_HUMAN_5ITD_A/model_0009.pdb /home/hm0/Research/ensembler/Ensembler_lib/examples/simulations/PK3CA_HUMAN/PK3CA_HUMAN_5ITD_A_model_0009\n",
      "Created directory /home/hm0/Research/ensembler/Ensembler_lib/examples/simulations/PK3CA_HUMAN/PK3CA_HUMAN_4JPS_A_model_0002, continuing...\n",
      "models/PK3CA_HUMAN/PK3CA_HUMAN_4JPS_A/model_0002.pdb /home/hm0/Research/ensembler/Ensembler_lib/examples/simulations/PK3CA_HUMAN/PK3CA_HUMAN_4JPS_A_model_0002\n",
      "Created directory /home/hm0/Research/ensembler/Ensembler_lib/examples/simulations/PK3CA_HUMAN/PK3CA_HUMAN_2RD0_A_model_0003, continuing...\n",
      "models/PK3CA_HUMAN/PK3CA_HUMAN_2RD0_A/model_0003.pdb /home/hm0/Research/ensembler/Ensembler_lib/examples/simulations/PK3CA_HUMAN/PK3CA_HUMAN_2RD0_A_model_0003\n",
      "Created directory /home/hm0/Research/ensembler/Ensembler_lib/examples/simulations/PK3CA_HUMAN/PK3CA_HUMAN_2RD0_A_model_0001, continuing...\n",
      "models/PK3CA_HUMAN/PK3CA_HUMAN_2RD0_A/model_0001.pdb /home/hm0/Research/ensembler/Ensembler_lib/examples/simulations/PK3CA_HUMAN/PK3CA_HUMAN_2RD0_A_model_0001\n",
      "Created directory /home/hm0/Research/ensembler/Ensembler_lib/examples/simulations/PK3CA_HUMAN/PK3CA_HUMAN_4JPS_A_model_0001, continuing...\n",
      "models/PK3CA_HUMAN/PK3CA_HUMAN_4JPS_A/model_0001.pdb /home/hm0/Research/ensembler/Ensembler_lib/examples/simulations/PK3CA_HUMAN/PK3CA_HUMAN_4JPS_A_model_0001\n",
      "Created directory /home/hm0/Research/ensembler/Ensembler_lib/examples/simulations/PK3CA_HUMAN/PK3CA_HUMAN_4JPS_A_model_0008, continuing...\n",
      "models/PK3CA_HUMAN/PK3CA_HUMAN_4JPS_A/model_0008.pdb /home/hm0/Research/ensembler/Ensembler_lib/examples/simulations/PK3CA_HUMAN/PK3CA_HUMAN_4JPS_A_model_0008\n",
      "Created directory /home/hm0/Research/ensembler/Ensembler_lib/examples/simulations/PK3CA_HUMAN/PK3CA_HUMAN_5FI4_A_model_0007, continuing...\n",
      "models/PK3CA_HUMAN/PK3CA_HUMAN_5FI4_A/model_0007.pdb /home/hm0/Research/ensembler/Ensembler_lib/examples/simulations/PK3CA_HUMAN/PK3CA_HUMAN_5FI4_A_model_0007\n",
      "Created directory /home/hm0/Research/ensembler/Ensembler_lib/examples/simulations/PK3CA_HUMAN/PK3CA_HUMAN_4L1B_A_model_0006, continuing...\n",
      "models/PK3CA_HUMAN/PK3CA_HUMAN_4L1B_A/model_0006.pdb /home/hm0/Research/ensembler/Ensembler_lib/examples/simulations/PK3CA_HUMAN/PK3CA_HUMAN_4L1B_A_model_0006\n",
      "Created directory /home/hm0/Research/ensembler/Ensembler_lib/examples/simulations/PK3CA_HUMAN/PK3CA_HUMAN_4WAF_A_model_0003, continuing...\n",
      "models/PK3CA_HUMAN/PK3CA_HUMAN_4WAF_A/model_0003.pdb /home/hm0/Research/ensembler/Ensembler_lib/examples/simulations/PK3CA_HUMAN/PK3CA_HUMAN_4WAF_A_model_0003\n",
      "Created directory /home/hm0/Research/ensembler/Ensembler_lib/examples/simulations/PK3CA_HUMAN/PK3CA_HUMAN_2RD0_A_model_0010, continuing...\n",
      "models/PK3CA_HUMAN/PK3CA_HUMAN_2RD0_A/model_0010.pdb /home/hm0/Research/ensembler/Ensembler_lib/examples/simulations/PK3CA_HUMAN/PK3CA_HUMAN_2RD0_A_model_0010\n",
      "Created directory /home/hm0/Research/ensembler/Ensembler_lib/examples/simulations/PK3CA_HUMAN/PK3CA_HUMAN_4OVV_A_model_0006, continuing...\n",
      "models/PK3CA_HUMAN/PK3CA_HUMAN_4OVV_A/model_0006.pdb /home/hm0/Research/ensembler/Ensembler_lib/examples/simulations/PK3CA_HUMAN/PK3CA_HUMAN_4OVV_A_model_0006\n",
      "Created directory /home/hm0/Research/ensembler/Ensembler_lib/examples/simulations/PK3CA_HUMAN/PK3CA_HUMAN_4JPS_A_model_0005, continuing...\n",
      "models/PK3CA_HUMAN/PK3CA_HUMAN_4JPS_A/model_0005.pdb /home/hm0/Research/ensembler/Ensembler_lib/examples/simulations/PK3CA_HUMAN/PK3CA_HUMAN_4JPS_A_model_0005\n",
      "Created directory /home/hm0/Research/ensembler/Ensembler_lib/examples/simulations/PK3CA_HUMAN/PK3CA_HUMAN_4JPS_A_model_0003, continuing...\n",
      "models/PK3CA_HUMAN/PK3CA_HUMAN_4JPS_A/model_0003.pdb /home/hm0/Research/ensembler/Ensembler_lib/examples/simulations/PK3CA_HUMAN/PK3CA_HUMAN_4JPS_A_model_0003\n",
      "Created directory /home/hm0/Research/ensembler/Ensembler_lib/examples/simulations/PK3CA_HUMAN/PK3CA_HUMAN_4WAF_A_model_0001, continuing...\n",
      "models/PK3CA_HUMAN/PK3CA_HUMAN_4WAF_A/model_0001.pdb /home/hm0/Research/ensembler/Ensembler_lib/examples/simulations/PK3CA_HUMAN/PK3CA_HUMAN_4WAF_A_model_0001\n"
     ]
    }
   ],
   "source": [
    "ensembler.refinement.refine_implicit_md(\n",
    "        openmm_platform='CUDA',\n",
    "        gpupn=2,\n",
    "        process_only_these_targets=None,\n",
    "        loglevel=loglevel,\n",
    "    )"
   ]
  },
  {
   "cell_type": "code",
   "execution_count": null,
   "metadata": {},
   "outputs": [],
   "source": [
    "os.is"
   ]
  },
  {
   "cell_type": "code",
   "execution_count": 21,
   "metadata": {},
   "outputs": [
    {
     "data": {
      "text/plain": [
       "'2019-01-08 16:30:59.141042'"
      ]
     },
     "execution_count": 21,
     "metadata": {},
     "output_type": "execute_result"
    }
   ],
   "source": [
    "import datetime \n",
    "target_starttime = datetime.datetime.now() \n",
    "str(target_starttime)"
   ]
  },
  {
   "cell_type": "code",
   "execution_count": 20,
   "metadata": {},
   "outputs": [
    {
     "ename": "TypeError",
     "evalue": "tzinfo argument must be None or of a tzinfo subclass, not type 'str'",
     "output_type": "error",
     "traceback": [
      "\u001b[0;31m---------------------------------------------------------------------------\u001b[0m",
      "\u001b[0;31mTypeError\u001b[0m                                 Traceback (most recent call last)",
      "\u001b[0;32m<ipython-input-20-383c944d3ea5>\u001b[0m in \u001b[0;36m<module>\u001b[0;34m\u001b[0m\n\u001b[0;32m----> 1\u001b[0;31m \u001b[0mdatetime\u001b[0m\u001b[0;34m.\u001b[0m\u001b[0mdatetime\u001b[0m\u001b[0;34m.\u001b[0m\u001b[0mastimezone\u001b[0m\u001b[0;34m(\u001b[0m\u001b[0mtarget_starttime\u001b[0m\u001b[0;34m,\u001b[0m \u001b[0mtz\u001b[0m\u001b[0;34m=\u001b[0m\u001b[0;34m'US/EST'\u001b[0m\u001b[0;34m)\u001b[0m\u001b[0;34m\u001b[0m\u001b[0;34m\u001b[0m\u001b[0m\n\u001b[0m",
      "\u001b[0;31mTypeError\u001b[0m: tzinfo argument must be None or of a tzinfo subclass, not type 'str'"
     ]
    }
   ],
   "source": [
    "datetime.datetime.astimezone(target_starttime, tz='US/EST')"
   ]
  },
  {
   "cell_type": "code",
   "execution_count": 4,
   "metadata": {},
   "outputs": [],
   "source": [
    "model_pdbs = open(os.path.join('./models/PK3CA_HUMAN/', 'unique-models.txt'), 'r').read().split()"
   ]
  },
  {
   "cell_type": "code",
   "execution_count": 2,
   "metadata": {},
   "outputs": [],
   "source": [
    "import os"
   ]
  },
  {
   "cell_type": "code",
   "execution_count": 5,
   "metadata": {},
   "outputs": [
    {
     "data": {
      "text/plain": [
       "True"
      ]
     },
     "execution_count": 5,
     "metadata": {},
     "output_type": "execute_result"
    }
   ],
   "source": [
    "os.path.isfile(model_pdbs[0])"
   ]
  },
  {
   "cell_type": "code",
   "execution_count": 6,
   "metadata": {},
   "outputs": [
    {
     "ename": "FileNotFoundError",
     "evalue": "[Errno 2] No such file or directory: './safs'",
     "output_type": "error",
     "traceback": [
      "\u001b[0;31m---------------------------------------------------------------------------\u001b[0m",
      "\u001b[0;31mFileNotFoundError\u001b[0m                         Traceback (most recent call last)",
      "\u001b[0;32m<ipython-input-6-2d655be26dc9>\u001b[0m in \u001b[0;36m<module>\u001b[0;34m\u001b[0m\n\u001b[1;32m      1\u001b[0m \u001b[0;32mimport\u001b[0m \u001b[0mshutil\u001b[0m\u001b[0;34m\u001b[0m\u001b[0;34m\u001b[0m\u001b[0m\n\u001b[0;32m----> 2\u001b[0;31m \u001b[0mshutil\u001b[0m\u001b[0;34m.\u001b[0m\u001b[0mcopy2\u001b[0m\u001b[0;34m(\u001b[0m\u001b[0;34m'./safs'\u001b[0m\u001b[0;34m,\u001b[0m \u001b[0;34m'./'\u001b[0m\u001b[0;34m)\u001b[0m\u001b[0;34m\u001b[0m\u001b[0;34m\u001b[0m\u001b[0m\n\u001b[0m",
      "\u001b[0;32m~/anaconda2/envs/py3/lib/python3.6/shutil.py\u001b[0m in \u001b[0;36mcopy2\u001b[0;34m(src, dst, follow_symlinks)\u001b[0m\n\u001b[1;32m    255\u001b[0m     \u001b[0;32mif\u001b[0m \u001b[0mos\u001b[0m\u001b[0;34m.\u001b[0m\u001b[0mpath\u001b[0m\u001b[0;34m.\u001b[0m\u001b[0misdir\u001b[0m\u001b[0;34m(\u001b[0m\u001b[0mdst\u001b[0m\u001b[0;34m)\u001b[0m\u001b[0;34m:\u001b[0m\u001b[0;34m\u001b[0m\u001b[0;34m\u001b[0m\u001b[0m\n\u001b[1;32m    256\u001b[0m         \u001b[0mdst\u001b[0m \u001b[0;34m=\u001b[0m \u001b[0mos\u001b[0m\u001b[0;34m.\u001b[0m\u001b[0mpath\u001b[0m\u001b[0;34m.\u001b[0m\u001b[0mjoin\u001b[0m\u001b[0;34m(\u001b[0m\u001b[0mdst\u001b[0m\u001b[0;34m,\u001b[0m \u001b[0mos\u001b[0m\u001b[0;34m.\u001b[0m\u001b[0mpath\u001b[0m\u001b[0;34m.\u001b[0m\u001b[0mbasename\u001b[0m\u001b[0;34m(\u001b[0m\u001b[0msrc\u001b[0m\u001b[0;34m)\u001b[0m\u001b[0;34m)\u001b[0m\u001b[0;34m\u001b[0m\u001b[0;34m\u001b[0m\u001b[0m\n\u001b[0;32m--> 257\u001b[0;31m     \u001b[0mcopyfile\u001b[0m\u001b[0;34m(\u001b[0m\u001b[0msrc\u001b[0m\u001b[0;34m,\u001b[0m \u001b[0mdst\u001b[0m\u001b[0;34m,\u001b[0m \u001b[0mfollow_symlinks\u001b[0m\u001b[0;34m=\u001b[0m\u001b[0mfollow_symlinks\u001b[0m\u001b[0;34m)\u001b[0m\u001b[0;34m\u001b[0m\u001b[0;34m\u001b[0m\u001b[0m\n\u001b[0m\u001b[1;32m    258\u001b[0m     \u001b[0mcopystat\u001b[0m\u001b[0;34m(\u001b[0m\u001b[0msrc\u001b[0m\u001b[0;34m,\u001b[0m \u001b[0mdst\u001b[0m\u001b[0;34m,\u001b[0m \u001b[0mfollow_symlinks\u001b[0m\u001b[0;34m=\u001b[0m\u001b[0mfollow_symlinks\u001b[0m\u001b[0;34m)\u001b[0m\u001b[0;34m\u001b[0m\u001b[0;34m\u001b[0m\u001b[0m\n\u001b[1;32m    259\u001b[0m     \u001b[0;32mreturn\u001b[0m \u001b[0mdst\u001b[0m\u001b[0;34m\u001b[0m\u001b[0;34m\u001b[0m\u001b[0m\n",
      "\u001b[0;32m~/anaconda2/envs/py3/lib/python3.6/shutil.py\u001b[0m in \u001b[0;36mcopyfile\u001b[0;34m(src, dst, follow_symlinks)\u001b[0m\n\u001b[1;32m    118\u001b[0m         \u001b[0mos\u001b[0m\u001b[0;34m.\u001b[0m\u001b[0msymlink\u001b[0m\u001b[0;34m(\u001b[0m\u001b[0mos\u001b[0m\u001b[0;34m.\u001b[0m\u001b[0mreadlink\u001b[0m\u001b[0;34m(\u001b[0m\u001b[0msrc\u001b[0m\u001b[0;34m)\u001b[0m\u001b[0;34m,\u001b[0m \u001b[0mdst\u001b[0m\u001b[0;34m)\u001b[0m\u001b[0;34m\u001b[0m\u001b[0;34m\u001b[0m\u001b[0m\n\u001b[1;32m    119\u001b[0m     \u001b[0;32melse\u001b[0m\u001b[0;34m:\u001b[0m\u001b[0;34m\u001b[0m\u001b[0;34m\u001b[0m\u001b[0m\n\u001b[0;32m--> 120\u001b[0;31m         \u001b[0;32mwith\u001b[0m \u001b[0mopen\u001b[0m\u001b[0;34m(\u001b[0m\u001b[0msrc\u001b[0m\u001b[0;34m,\u001b[0m \u001b[0;34m'rb'\u001b[0m\u001b[0;34m)\u001b[0m \u001b[0;32mas\u001b[0m \u001b[0mfsrc\u001b[0m\u001b[0;34m:\u001b[0m\u001b[0;34m\u001b[0m\u001b[0;34m\u001b[0m\u001b[0m\n\u001b[0m\u001b[1;32m    121\u001b[0m             \u001b[0;32mwith\u001b[0m \u001b[0mopen\u001b[0m\u001b[0;34m(\u001b[0m\u001b[0mdst\u001b[0m\u001b[0;34m,\u001b[0m \u001b[0;34m'wb'\u001b[0m\u001b[0;34m)\u001b[0m \u001b[0;32mas\u001b[0m \u001b[0mfdst\u001b[0m\u001b[0;34m:\u001b[0m\u001b[0;34m\u001b[0m\u001b[0;34m\u001b[0m\u001b[0m\n\u001b[1;32m    122\u001b[0m                 \u001b[0mcopyfileobj\u001b[0m\u001b[0;34m(\u001b[0m\u001b[0mfsrc\u001b[0m\u001b[0;34m,\u001b[0m \u001b[0mfdst\u001b[0m\u001b[0;34m)\u001b[0m\u001b[0;34m\u001b[0m\u001b[0;34m\u001b[0m\u001b[0m\n",
      "\u001b[0;31mFileNotFoundError\u001b[0m: [Errno 2] No such file or directory: './safs'"
     ]
    }
   ],
   "source": [
    "import shutil\n",
    "shutil.copy2('./safs', './')"
   ]
  },
  {
   "cell_type": "code",
   "execution_count": 4,
   "metadata": {},
   "outputs": [
    {
     "data": {
      "text/plain": [
       "False"
      ]
     },
     "execution_count": 4,
     "metadata": {},
     "output_type": "execute_result"
    }
   ],
   "source": [
    "'CUDA_VISIBLE_DEVICES' in os.environ"
   ]
  },
  {
   "cell_type": "code",
   "execution_count": 5,
   "metadata": {},
   "outputs": [],
   "source": [
    "import simtk.unit as unit\n",
    "import simtk.openmm as openmm\n",
    "import simtk.openmm.app as app\n",
    "import simtk.openmm.version"
   ]
  },
  {
   "cell_type": "code",
   "execution_count": 7,
   "metadata": {},
   "outputs": [],
   "source": [
    "from ensembler.core import mpistate, logger "
   ]
  },
  {
   "cell_type": "code",
   "execution_count": 4,
   "metadata": {},
   "outputs": [
    {
     "name": "stdout",
     "output_type": "stream",
     "text": [
      "models/PK3CA_HUMAN/PK3CA_HUMAN_5FI4_A/model_0004.pdb\n",
      "models/PK3CA_HUMAN/PK3CA_HUMAN_4L1B_A/model_0003.pdb\n",
      "models/PK3CA_HUMAN/PK3CA_HUMAN_2RD0_A/model_0008.pdb\n",
      "models/PK3CA_HUMAN/PK3CA_HUMAN_2RD0_A/model_0002.pdb\n",
      "models/PK3CA_HUMAN/PK3CA_HUMAN_4L1B_A/model_0007.pdb\n",
      "models/PK3CA_HUMAN/PK3CA_HUMAN_5ITD_A/model_0009.pdb\n",
      "models/PK3CA_HUMAN/PK3CA_HUMAN_4JPS_A/model_0002.pdb\n",
      "models/PK3CA_HUMAN/PK3CA_HUMAN_2RD0_A/model_0003.pdb\n",
      "models/PK3CA_HUMAN/PK3CA_HUMAN_2RD0_A/model_0001.pdb\n",
      "models/PK3CA_HUMAN/PK3CA_HUMAN_4JPS_A/model_0001.pdb\n",
      "models/PK3CA_HUMAN/PK3CA_HUMAN_4JPS_A/model_0008.pdb\n",
      "models/PK3CA_HUMAN/PK3CA_HUMAN_5FI4_A/model_0007.pdb\n",
      "models/PK3CA_HUMAN/PK3CA_HUMAN_4L1B_A/model_0006.pdb\n",
      "models/PK3CA_HUMAN/PK3CA_HUMAN_4WAF_A/model_0003.pdb\n",
      "models/PK3CA_HUMAN/PK3CA_HUMAN_2RD0_A/model_0010.pdb\n",
      "models/PK3CA_HUMAN/PK3CA_HUMAN_4OVV_A/model_0006.pdb\n",
      "models/PK3CA_HUMAN/PK3CA_HUMAN_4JPS_A/model_0005.pdb\n",
      "models/PK3CA_HUMAN/PK3CA_HUMAN_4JPS_A/model_0003.pdb\n",
      "models/PK3CA_HUMAN/PK3CA_HUMAN_4WAF_A/model_0001.pdb\n"
     ]
    }
   ],
   "source": [
    "!cat ./models/PK3CA_HUMAN/unique-models.txt"
   ]
  },
  {
   "cell_type": "code",
   "execution_count": 36,
   "metadata": {},
   "outputs": [
    {
     "name": "stdout",
     "output_type": "stream",
     "text": [
      "Reading model...\n",
      "Constructing System object...\n",
      "Creating Context...\n",
      "Minimizing structure...\n",
      "Running dynamics...\n"
     ]
    },
    {
     "ename": "NameError",
     "evalue": "name 'state' is not defined",
     "output_type": "error",
     "traceback": [
      "\u001b[0;31m---------------------------------------------------------------------------\u001b[0m",
      "\u001b[0;31mNameError\u001b[0m                                 Traceback (most recent call last)",
      "\u001b[0;32m<ipython-input-36-700757e884d8>\u001b[0m in \u001b[0;36m<module>\u001b[0;34m\u001b[0m\n\u001b[1;32m     21\u001b[0m \u001b[0mensembler\u001b[0m\u001b[0;34m.\u001b[0m\u001b[0mutils\u001b[0m\u001b[0;34m.\u001b[0m\u001b[0mset_loglevel\u001b[0m\u001b[0;34m(\u001b[0m\u001b[0;34m'debug'\u001b[0m\u001b[0;34m)\u001b[0m\u001b[0;34m\u001b[0m\u001b[0;34m\u001b[0m\u001b[0m\n\u001b[1;32m     22\u001b[0m \u001b[0;34m\u001b[0m\u001b[0m\n\u001b[0;32m---> 23\u001b[0;31m \u001b[0msimulate_implicit_md\u001b[0m\u001b[0;34m(\u001b[0m\u001b[0;34m)\u001b[0m\u001b[0;34m\u001b[0m\u001b[0;34m\u001b[0m\u001b[0m\n\u001b[0m",
      "\u001b[0;32m<ipython-input-33-95dd91e87ce0>\u001b[0m in \u001b[0;36msimulate_implicit_md\u001b[0;34m()\u001b[0m\n\u001b[1;32m     44\u001b[0m     \u001b[0msimulation\u001b[0m\u001b[0;34m.\u001b[0m\u001b[0mstep\u001b[0m\u001b[0;34m(\u001b[0m\u001b[0mint\u001b[0m\u001b[0;34m(\u001b[0m\u001b[0;34m(\u001b[0m\u001b[0msim_length\u001b[0m \u001b[0;34m/\u001b[0m \u001b[0mtimestep\u001b[0m\u001b[0;34m)\u001b[0m\u001b[0;34m)\u001b[0m\u001b[0;34m)\u001b[0m\u001b[0;34m\u001b[0m\u001b[0;34m\u001b[0m\u001b[0m\n\u001b[1;32m     45\u001b[0m \u001b[0;34m\u001b[0m\u001b[0m\n\u001b[0;32m---> 46\u001b[0;31m     \u001b[0mpositions\u001b[0m \u001b[0;34m=\u001b[0m \u001b[0mstate\u001b[0m\u001b[0;34m.\u001b[0m\u001b[0mgetPositions\u001b[0m\u001b[0;34m(\u001b[0m\u001b[0;34m)\u001b[0m\u001b[0;34m.\u001b[0m\u001b[0mvalue_in_unit\u001b[0m\u001b[0;34m(\u001b[0m\u001b[0munit\u001b[0m\u001b[0;34m.\u001b[0m\u001b[0mangstrom\u001b[0m\u001b[0;34m)\u001b[0m\u001b[0;34m\u001b[0m\u001b[0;34m\u001b[0m\u001b[0m\n\u001b[0m",
      "\u001b[0;31mNameError\u001b[0m: name 'state' is not defined"
     ]
    }
   ],
   "source": [
    "model_file = 'models/PK3CA_HUMAN/PK3CA_HUMAN_5FI4_A/model_0004.pdb' \n",
    "simulation_dir = './simulations/' \n",
    "openmm_platform = 'OpenCL' \n",
    "gpuid = 0 \n",
    "write_trajectory=False\n",
    "include_disulfide_bonds=False\n",
    "custom_residue_variants=None\n",
    "ff='amber99sbildn'\n",
    "implicit_water_model='amber99_obc'\n",
    "sim_length=100.0 * unit.picoseconds          \n",
    "timestep=2.0 * unit.femtoseconds           # timestep\n",
    "temperature=300.0 * unit.kelvin            # simulation temperature\n",
    "collision_rate=20.0 / unit.picoseconds       # Langevin collision rate\n",
    "cutoff=20 * unit.angstrom                                  # nonbonded cutoff\n",
    "minimization_tolerance=10.0 * unit.kilojoules_per_mole / unit.nanometer\n",
    "minimization_steps=200\n",
    "nsteps_per_iteration=500\n",
    "ph=7 \n",
    "ff_files = [ff+'.xml', implicit_water_model+'.xml']\n",
    "forcefield = app.ForceField(*ff_files)\n",
    "ensembler.utils.set_loglevel('debug') "
   ]
  },
  {
   "cell_type": "code",
   "execution_count": 38,
   "metadata": {},
   "outputs": [
    {
     "name": "stdout",
     "output_type": "stream",
     "text": [
      "Reading model...\n",
      "Constructing System object...\n",
      "Creating Context...\n",
      "Minimizing structure...\n",
      "Running dynamics...\n",
      "#\"Step\",\"Time (ps)\",\"Potential Energy (kJ/mole)\",\"Total Energy (kJ/mole)\",\"Temperature (K)\",\"Speed (ns/day)\"\n",
      "5000,10.000000000000009,-120314.859375,-65883.26560768462,300.0209992005523,0\n",
      "10000,19.999999999999794,-120003.21875,-65487.12991808215,300.4867267671181,56.3\n",
      "15000,29.99999999999425,-120817.65625,-66000.20214591268,302.147819228734,53.9\n",
      "20000,40.00000000000292,-120254.4375,-66135.6120060024,298.2970546421738,51.8\n",
      "25000,50.00000000001514,-120990.34375,-67010.81119043822,297.52928720274036,50.9\n",
      "30000,60.00000000002736,-121072.3125,-66655.18139537261,299.9412825835945,50.6\n",
      "35000,70.00000000001826,-120384.640625,-66443.6564557855,297.31681268584487,50.3\n",
      "40000,79.99999999999496,-120736.359375,-65960.44181072689,301.9188743583769,50.1\n",
      "45000,89.99999999997165,-121129.203125,-65705.68644313794,305.48836995630114,49.9\n",
      "50000,99.99999999994834,-121243.328125,-66513.38482439233,301.665469238891,49.7\n"
     ]
    },
    {
     "ename": "NameError",
     "evalue": "name 'state' is not defined",
     "output_type": "error",
     "traceback": [
      "\u001b[0;31m---------------------------------------------------------------------------\u001b[0m",
      "\u001b[0;31mNameError\u001b[0m                                 Traceback (most recent call last)",
      "\u001b[0;32m<ipython-input-38-74d712bf2276>\u001b[0m in \u001b[0;36m<module>\u001b[0;34m\u001b[0m\n\u001b[1;32m     47\u001b[0m \u001b[0msimulation\u001b[0m\u001b[0;34m.\u001b[0m\u001b[0mstep\u001b[0m\u001b[0;34m(\u001b[0m\u001b[0mint\u001b[0m\u001b[0;34m(\u001b[0m\u001b[0;34m(\u001b[0m\u001b[0msim_length\u001b[0m \u001b[0;34m/\u001b[0m \u001b[0mtimestep\u001b[0m\u001b[0;34m)\u001b[0m\u001b[0;34m)\u001b[0m\u001b[0;34m)\u001b[0m\u001b[0;34m\u001b[0m\u001b[0;34m\u001b[0m\u001b[0m\n\u001b[1;32m     48\u001b[0m \u001b[0;34m\u001b[0m\u001b[0m\n\u001b[0;32m---> 49\u001b[0;31m \u001b[0mpositions\u001b[0m \u001b[0;34m=\u001b[0m \u001b[0mstate\u001b[0m\u001b[0;34m.\u001b[0m\u001b[0mgetPositions\u001b[0m\u001b[0;34m(\u001b[0m\u001b[0;34m)\u001b[0m\u001b[0;34m.\u001b[0m\u001b[0mvalue_in_unit\u001b[0m\u001b[0;34m(\u001b[0m\u001b[0munit\u001b[0m\u001b[0;34m.\u001b[0m\u001b[0mangstrom\u001b[0m\u001b[0;34m)\u001b[0m\u001b[0;34m\u001b[0m\u001b[0;34m\u001b[0m\u001b[0m\n\u001b[0m",
      "\u001b[0;31mNameError\u001b[0m: name 'state' is not defined"
     ]
    }
   ],
   "source": [
    "logger.debug(\"Reading model...\")\n",
    "pdb = app.PDBFile(model_file)\n",
    "\n",
    "# Set up Platform \n",
    "platform = openmm.Platform.getPlatformByName(openmm_platform)\n",
    "if 'CUDA_VISIBLE_DEVICES' not in os.environ:\n",
    "    if openmm_platform == 'CUDA': \n",
    "        properties = {'DeviceIndex': str(gpuid), 'CudaPrecision': 'mixed'} \n",
    "    if openmm_platform == 'OpenCL': \n",
    "        properties = {'DeviceIndex': str(gpuid)}\n",
    "\n",
    "modeller = app.Modeller(pdb.topology, pdb.positions)\n",
    "reference_variants = modeller.addHydrogens(forcefield, pH=ph) \n",
    "modeller.addHydrogens(forcefield, pH=ph, variants=reference_variants)\n",
    "topology = modeller.getTopology()\n",
    "positions = modeller.getPositions() \n",
    "\n",
    "logger.debug(\"Constructing System object...\")\n",
    "if cutoff is None: \n",
    "    logger.debug(\"Using NoCutoff for the MD simulation...\")\n",
    "    system = forcefield.createSystem(topology, nonbondedMethod=app.NoCutoff, constraints=app.HBonds)\n",
    "else:\n",
    "    system = forcefield.createSystem(topology, nonbondedMethod=app.CutoffNonPeriodic, nonbondedCutoff=cutoff, constraints=app.HBonds)\n",
    "\n",
    "logger.debug(\"Creating Context...\") \n",
    "integrator = openmm.LangevinIntegrator(temperature, collision_rate, timestep)\n",
    "#         context = openmm.Context(system, integrator, platform, platform_properties)\n",
    "simulation = app.Simulation(topology, system, integrator, platform, properties)\n",
    "simulation.context.setPositions(positions) \n",
    "\n",
    "logger.debug(\"Minimizing structure...\")\n",
    "simulation.minimizeEnergy(tolerance=minimization_tolerance, maxIterations=minimization_steps)\n",
    "\n",
    "if write_trajectory: \n",
    "    trajectory_filename = os.path.join(simulation_dir, 'implicit-trajectory.dcd')\n",
    "    simulation.reporters.append(app.DCDReporter(trajectory_filename, nsteps_per_iteration)) \n",
    "energy_log_filename = os.path.join(simulation_dir, 'implicit-energies.txt') \n",
    "simulation.reporters.append(app.StateDataReporter(energy_log_filename, \n",
    "        nsteps_per_iteration, step=True, time=True, speed=True, \n",
    "        potentialEnergy=True, temperature=True, totalEnergy=True)) \n",
    "\n",
    "if loglevel == \"debug\": \n",
    "    simulation.reporters.append(app.StateDataReporter(sys.stdout, \n",
    "        nsteps_per_iteration*10, step=True, time=True, speed=True, \n",
    "        potentialEnergy=True, temperature=True, totalEnergy=True)) \n",
    "logger.debug(\"Running dynamics...\")\n",
    "simulation.step(int((sim_length / timestep))) \n",
    "\n",
    "state = simulation.context.getState(getPositions=True)\n",
    "positions = state.getPositions().value_in_unit(unit.angstrom) \n",
    "app.PDBFile.writeFile(topology, positions, open('./simulations/model.pdb', 'w')) \n"
   ]
  },
  {
   "cell_type": "code",
   "execution_count": 39,
   "metadata": {},
   "outputs": [],
   "source": [
    "state = simulation.context.getState(getPositions=True)\n",
    "positions = state.getPositions().value_in_unit(unit.angstrom) \n",
    "\n",
    "app.PDBFile.writeFile(topology, positions, open('./simulations/model.pdb', 'w')) "
   ]
  },
  {
   "cell_type": "code",
   "execution_count": 42,
   "metadata": {},
   "outputs": [
    {
     "name": "stdout",
     "output_type": "stream",
     "text": [
      "/home/hm0/Research/ensembler/Ensembler_lib/examples\n"
     ]
    }
   ],
   "source": [
    "print(os.getcwd())"
   ]
  },
  {
   "cell_type": "code",
   "execution_count": null,
   "metadata": {},
   "outputs": [],
   "source": []
  }
 ],
 "metadata": {
  "kernelspec": {
   "display_name": "Python 3",
   "language": "python",
   "name": "python3"
  },
  "language_info": {
   "codemirror_mode": {
    "name": "ipython",
    "version": 3
   },
   "file_extension": ".py",
   "mimetype": "text/x-python",
   "name": "python",
   "nbconvert_exporter": "python",
   "pygments_lexer": "ipython3",
   "version": "3.6.7"
  }
 },
 "nbformat": 4,
 "nbformat_minor": 2
}
