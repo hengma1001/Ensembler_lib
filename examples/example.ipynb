{
 "cells": [
  {
   "cell_type": "code",
   "execution_count": 1,
   "metadata": {},
   "outputs": [],
   "source": [
    "import sys, os\n",
    "\n",
    "sys.path.append('../')\n",
    "\n",
    "import ensembler\n",
    "\n",
    "# from ensembler.build_env import Ensembler_proj_init, GatherTargetsFromUniprot, gather_templates_from_uniprot \n",
    "# from ensembler.modeling import model_template_loops, align_targets_and_templates\n",
    "# from ensembler.core import default_project_dirnames, mpistate \n",
    "\n",
    "search_string = 'accession:p42336 taxonomy:\"Homo sapiens (Human) [9606]\"' \n",
    "loglevel='debug'"
   ]
  },
  {
   "cell_type": "markdown",
   "metadata": {},
   "source": [
    "# Initializaion of the project"
   ]
  },
  {
   "cell_type": "code",
   "execution_count": 3,
   "metadata": {},
   "outputs": [
    {
     "name": "stdout",
     "output_type": "stream",
     "text": [
      "File ./targets exists, pass...\n",
      "File ./templates exists, pass...\n",
      "File ./structures exists, pass...\n",
      "File ./models exists, pass...\n",
      "File ./packaged_models exists, pass...\n",
      "File ./structures/pdb exists, pass...\n",
      "File ./structures/sifts exists, pass...\n",
      "File ./templates/structures-resolved exists, pass...\n",
      "File ./templates/structures-modeled-loops exists, pass...\n",
      "Done.\n"
     ]
    },
    {
     "data": {
      "text/plain": [
       "<ensembler.build_env.Ensembler_proj_init at 0x110504f98>"
      ]
     },
     "execution_count": 3,
     "metadata": {},
     "output_type": "execute_result"
    }
   ],
   "source": [
    "ensembler.build_env.Ensembler_proj_init()"
   ]
  },
  {
   "cell_type": "markdown",
   "metadata": {},
   "source": [
    "# Download target from Uniprot"
   ]
  },
  {
   "cell_type": "code",
   "execution_count": 4,
   "metadata": {},
   "outputs": [
    {
     "name": "stdout",
     "output_type": "stream",
     "text": [
      "Querying Uniprot web server...\n",
      "Number of entries returned from initial UniProt search: 2\n",
      "\n",
      "Set of unique domain names returned from the initial UniProt search using the query string 'accession:p42336 taxonomy:\"Homo sapiens (Human) [9606]\"':\n",
      "{'PIK helical', 'PI3K-RBD', 'PI3K/PI4K', 'PI3K-ABD', 'C2 PI3K-type'}\n",
      "\n",
      "Done.\n"
     ]
    },
    {
     "data": {
      "text/plain": [
       "<ensembler.build_env.GatherTargetsFromUniprot at 0x1191a1d68>"
      ]
     },
     "execution_count": 4,
     "metadata": {},
     "output_type": "execute_result"
    }
   ],
   "source": [
    "ensembler.build_env.GatherTargetsFromUniprot(search_string)"
   ]
  },
  {
   "cell_type": "markdown",
   "metadata": {},
   "source": [
    "# Download templates from Uniprot"
   ]
  },
  {
   "cell_type": "code",
   "execution_count": 5,
   "metadata": {
    "scrolled": false
   },
   "outputs": [
    {
     "name": "stdout",
     "output_type": "stream",
     "text": [
      "Set of unique domain names returned from the initial UniProt search using the query string 'accession:p42336 taxonomy:\"Homo sapiens (Human) [9606]\"':\n",
      "{'PIK helical', 'PI3K-RBD', 'PI3K/PI4K', 'PI3K-ABD', 'C2 PI3K-type'}\n",
      "\n",
      "45 PDB chains selected.\n",
      "Selected PDB chains: ['PK3CA_HUMAN_2ENQ_A', 'PK3CA_HUMAN_2RD0_A', 'PK3CA_HUMAN_3HHM_A', 'PK3CA_HUMAN_3HIZ_A', 'PK3CA_HUMAN_3ZIM_A', 'PK3CA_HUMAN_4JPS_A', 'PK3CA_HUMAN_4L1B_A', 'PK3CA_HUMAN_4L23_A', 'PK3CA_HUMAN_4L2Y_A', 'PK3CA_HUMAN_4OVU_A', 'PK3CA_HUMAN_4OVV_A', 'PK3CA_HUMAN_4TUU_A', 'PK3CA_HUMAN_4TV3_A', 'PK3CA_HUMAN_4WAF_A', 'PK3CA_HUMAN_4YKN_A', 'PK3CA_HUMAN_4ZOP_A', 'PK3CA_HUMAN_5DXH_A', 'PK3CA_HUMAN_5DXH_D', 'PK3CA_HUMAN_5DXT_A', 'PK3CA_HUMAN_5FI4_A', 'PK3CA_HUMAN_5ITD_A', 'PK3CA_HUMAN_5SW8_A', 'PK3CA_HUMAN_5SWG_A', 'PK3CA_HUMAN_5SWO_A', 'PK3CA_HUMAN_5SWP_A', 'PK3CA_HUMAN_5SWR_A', 'PK3CA_HUMAN_5SWT_A', 'PK3CA_HUMAN_5SX8_A', 'PK3CA_HUMAN_5SX9_A', 'PK3CA_HUMAN_5SXA_A', 'PK3CA_HUMAN_5SXB_A', 'PK3CA_HUMAN_5SXC_A', 'PK3CA_HUMAN_5SXD_A', 'PK3CA_HUMAN_5SXE_A', 'PK3CA_HUMAN_5SXF_A', 'PK3CA_HUMAN_5SXI_A', 'PK3CA_HUMAN_5SXJ_A', 'PK3CA_HUMAN_5SXK_A', 'PK3CA_HUMAN_5UBR_A', 'PK3CA_HUMAN_5UK8_A', 'PK3CA_HUMAN_5UKJ_A', 'PK3CA_HUMAN_5UL1_A', 'PK3CA_HUMAN_5XGH_A', 'PK3CA_HUMAN_5XGI_A', 'PK3CA_HUMAN_5XGJ_A']\n",
      "Extracting residues from PDB chains...\n",
      "45 templates selected.\n",
      "\n",
      "Writing template structures...\n",
      "Done.\n"
     ]
    }
   ],
   "source": [
    "ensembler.build_env.gather_templates_from_uniprot(search_string, loglevel='debug')"
   ]
  },
  {
   "cell_type": "markdown",
   "metadata": {
    "slideshow": {
     "slide_type": "-"
    }
   },
   "source": [
    "# Loop model"
   ]
  },
  {
   "cell_type": "raw",
   "metadata": {},
   "source": [
    "model_template_loops(loglevel='debug')"
   ]
  },
  {
   "cell_type": "markdown",
   "metadata": {},
   "source": [
    "# Alignment "
   ]
  },
  {
   "cell_type": "code",
   "execution_count": 6,
   "metadata": {},
   "outputs": [
    {
     "name": "stdout",
     "output_type": "stream",
     "text": [
      "Working on target PK3CA_HUMAN...\n",
      "File models/PK3CA_HUMAN exists, pass...\n",
      "File /Users/hm0/Documents/Research/Ensembler/Ensembler_lib/examples/models/PK3CA_HUMAN/PK3CA_HUMAN_2ENQ_A exists, pass...\n",
      "File /Users/hm0/Documents/Research/Ensembler/Ensembler_lib/examples/models/PK3CA_HUMAN/PK3CA_HUMAN_2RD0_A exists, pass...\n",
      "File /Users/hm0/Documents/Research/Ensembler/Ensembler_lib/examples/models/PK3CA_HUMAN/PK3CA_HUMAN_3HHM_A exists, pass...\n",
      "File /Users/hm0/Documents/Research/Ensembler/Ensembler_lib/examples/models/PK3CA_HUMAN/PK3CA_HUMAN_3HIZ_A exists, pass...\n",
      "File /Users/hm0/Documents/Research/Ensembler/Ensembler_lib/examples/models/PK3CA_HUMAN/PK3CA_HUMAN_3ZIM_A exists, pass...\n",
      "File /Users/hm0/Documents/Research/Ensembler/Ensembler_lib/examples/models/PK3CA_HUMAN/PK3CA_HUMAN_4JPS_A exists, pass...\n",
      "File /Users/hm0/Documents/Research/Ensembler/Ensembler_lib/examples/models/PK3CA_HUMAN/PK3CA_HUMAN_4L1B_A exists, pass...\n",
      "File /Users/hm0/Documents/Research/Ensembler/Ensembler_lib/examples/models/PK3CA_HUMAN/PK3CA_HUMAN_4L23_A exists, pass...\n",
      "File /Users/hm0/Documents/Research/Ensembler/Ensembler_lib/examples/models/PK3CA_HUMAN/PK3CA_HUMAN_4L2Y_A exists, pass...\n",
      "File /Users/hm0/Documents/Research/Ensembler/Ensembler_lib/examples/models/PK3CA_HUMAN/PK3CA_HUMAN_4OVU_A exists, pass...\n",
      "File /Users/hm0/Documents/Research/Ensembler/Ensembler_lib/examples/models/PK3CA_HUMAN/PK3CA_HUMAN_4OVV_A exists, pass...\n",
      "File /Users/hm0/Documents/Research/Ensembler/Ensembler_lib/examples/models/PK3CA_HUMAN/PK3CA_HUMAN_4TUU_A exists, pass...\n",
      "File /Users/hm0/Documents/Research/Ensembler/Ensembler_lib/examples/models/PK3CA_HUMAN/PK3CA_HUMAN_4TV3_A exists, pass...\n",
      "File /Users/hm0/Documents/Research/Ensembler/Ensembler_lib/examples/models/PK3CA_HUMAN/PK3CA_HUMAN_4WAF_A exists, pass...\n",
      "File /Users/hm0/Documents/Research/Ensembler/Ensembler_lib/examples/models/PK3CA_HUMAN/PK3CA_HUMAN_4YKN_A exists, pass...\n",
      "File /Users/hm0/Documents/Research/Ensembler/Ensembler_lib/examples/models/PK3CA_HUMAN/PK3CA_HUMAN_4ZOP_A exists, pass...\n",
      "File /Users/hm0/Documents/Research/Ensembler/Ensembler_lib/examples/models/PK3CA_HUMAN/PK3CA_HUMAN_5DXH_A exists, pass...\n",
      "File /Users/hm0/Documents/Research/Ensembler/Ensembler_lib/examples/models/PK3CA_HUMAN/PK3CA_HUMAN_5DXH_D exists, pass...\n",
      "File /Users/hm0/Documents/Research/Ensembler/Ensembler_lib/examples/models/PK3CA_HUMAN/PK3CA_HUMAN_5DXT_A exists, pass...\n",
      "File /Users/hm0/Documents/Research/Ensembler/Ensembler_lib/examples/models/PK3CA_HUMAN/PK3CA_HUMAN_5FI4_A exists, pass...\n",
      "File /Users/hm0/Documents/Research/Ensembler/Ensembler_lib/examples/models/PK3CA_HUMAN/PK3CA_HUMAN_5ITD_A exists, pass...\n",
      "File /Users/hm0/Documents/Research/Ensembler/Ensembler_lib/examples/models/PK3CA_HUMAN/PK3CA_HUMAN_5SW8_A exists, pass...\n",
      "File /Users/hm0/Documents/Research/Ensembler/Ensembler_lib/examples/models/PK3CA_HUMAN/PK3CA_HUMAN_5SWG_A exists, pass...\n",
      "File /Users/hm0/Documents/Research/Ensembler/Ensembler_lib/examples/models/PK3CA_HUMAN/PK3CA_HUMAN_5SWO_A exists, pass...\n",
      "File /Users/hm0/Documents/Research/Ensembler/Ensembler_lib/examples/models/PK3CA_HUMAN/PK3CA_HUMAN_5SWP_A exists, pass...\n",
      "File /Users/hm0/Documents/Research/Ensembler/Ensembler_lib/examples/models/PK3CA_HUMAN/PK3CA_HUMAN_5SWR_A exists, pass...\n",
      "File /Users/hm0/Documents/Research/Ensembler/Ensembler_lib/examples/models/PK3CA_HUMAN/PK3CA_HUMAN_5SWT_A exists, pass...\n",
      "File /Users/hm0/Documents/Research/Ensembler/Ensembler_lib/examples/models/PK3CA_HUMAN/PK3CA_HUMAN_5SX8_A exists, pass...\n",
      "File /Users/hm0/Documents/Research/Ensembler/Ensembler_lib/examples/models/PK3CA_HUMAN/PK3CA_HUMAN_5SX9_A exists, pass...\n",
      "File /Users/hm0/Documents/Research/Ensembler/Ensembler_lib/examples/models/PK3CA_HUMAN/PK3CA_HUMAN_5SXA_A exists, pass...\n",
      "File /Users/hm0/Documents/Research/Ensembler/Ensembler_lib/examples/models/PK3CA_HUMAN/PK3CA_HUMAN_5SXB_A exists, pass...\n",
      "File /Users/hm0/Documents/Research/Ensembler/Ensembler_lib/examples/models/PK3CA_HUMAN/PK3CA_HUMAN_5SXC_A exists, pass...\n",
      "File /Users/hm0/Documents/Research/Ensembler/Ensembler_lib/examples/models/PK3CA_HUMAN/PK3CA_HUMAN_5SXD_A exists, pass...\n",
      "File /Users/hm0/Documents/Research/Ensembler/Ensembler_lib/examples/models/PK3CA_HUMAN/PK3CA_HUMAN_5SXE_A exists, pass...\n",
      "File /Users/hm0/Documents/Research/Ensembler/Ensembler_lib/examples/models/PK3CA_HUMAN/PK3CA_HUMAN_5SXF_A exists, pass...\n",
      "File /Users/hm0/Documents/Research/Ensembler/Ensembler_lib/examples/models/PK3CA_HUMAN/PK3CA_HUMAN_5SXI_A exists, pass...\n",
      "File /Users/hm0/Documents/Research/Ensembler/Ensembler_lib/examples/models/PK3CA_HUMAN/PK3CA_HUMAN_5SXJ_A exists, pass...\n",
      "File /Users/hm0/Documents/Research/Ensembler/Ensembler_lib/examples/models/PK3CA_HUMAN/PK3CA_HUMAN_5SXK_A exists, pass...\n",
      "File /Users/hm0/Documents/Research/Ensembler/Ensembler_lib/examples/models/PK3CA_HUMAN/PK3CA_HUMAN_5UBR_A exists, pass...\n",
      "File /Users/hm0/Documents/Research/Ensembler/Ensembler_lib/examples/models/PK3CA_HUMAN/PK3CA_HUMAN_5UK8_A exists, pass...\n",
      "File /Users/hm0/Documents/Research/Ensembler/Ensembler_lib/examples/models/PK3CA_HUMAN/PK3CA_HUMAN_5UKJ_A exists, pass...\n",
      "File /Users/hm0/Documents/Research/Ensembler/Ensembler_lib/examples/models/PK3CA_HUMAN/PK3CA_HUMAN_5UL1_A exists, pass...\n",
      "File /Users/hm0/Documents/Research/Ensembler/Ensembler_lib/examples/models/PK3CA_HUMAN/PK3CA_HUMAN_5XGH_A exists, pass...\n",
      "File /Users/hm0/Documents/Research/Ensembler/Ensembler_lib/examples/models/PK3CA_HUMAN/PK3CA_HUMAN_5XGI_A exists, pass...\n",
      "File /Users/hm0/Documents/Research/Ensembler/Ensembler_lib/examples/models/PK3CA_HUMAN/PK3CA_HUMAN_5XGJ_A exists, pass...\n",
      "Done.\n"
     ]
    }
   ],
   "source": [
    "ensembler.modeling.align_targets_and_templates(loglevel=loglevel)"
   ]
  },
  {
   "cell_type": "markdown",
   "metadata": {},
   "source": [
    "# Modeling "
   ]
  },
  {
   "cell_type": "code",
   "execution_count": 2,
   "metadata": {},
   "outputs": [
    {
     "name": "stdout",
     "output_type": "stream",
     "text": [
      "=========================================================================\n",
      "Working on target \"PK3CA_HUMAN\"\n",
      "=========================================================================\n",
      "-------------------------------------------------------------------------\n",
      "Modelling \"PK3CA_HUMAN\" => \"PK3CA_HUMAN_2ENQ_A\"\n",
      "   Generating 10 model(s)\n",
      "-------------------------------------------------------------------------\n",
      "-------------------------------------------------------------------------\n",
      "Modelling \"PK3CA_HUMAN\" => \"PK3CA_HUMAN_2RD0_A\"\n",
      "   Generating 10 model(s)\n",
      "-------------------------------------------------------------------------\n"
     ]
    },
    {
     "ename": "KeyboardInterrupt",
     "evalue": "",
     "output_type": "error",
     "traceback": [
      "\u001b[0;31m---------------------------------------------------------------------------\u001b[0m",
      "\u001b[0;31mKeyboardInterrupt\u001b[0m                         Traceback (most recent call last)",
      "\u001b[0;32m<ipython-input-2-d9ab9fca3b91>\u001b[0m in \u001b[0;36m<module>\u001b[0;34m\u001b[0m\n\u001b[0;32m----> 1\u001b[0;31m \u001b[0mensembler\u001b[0m\u001b[0;34m.\u001b[0m\u001b[0mmodeling\u001b[0m\u001b[0;34m.\u001b[0m\u001b[0mbuild_models\u001b[0m\u001b[0;34m(\u001b[0m\u001b[0mloglevel\u001b[0m\u001b[0;34m=\u001b[0m\u001b[0mloglevel\u001b[0m\u001b[0;34m,\u001b[0m \u001b[0mnumber_of_models\u001b[0m\u001b[0;34m=\u001b[0m\u001b[0;36m10\u001b[0m\u001b[0;34m)\u001b[0m\u001b[0;34m\u001b[0m\u001b[0;34m\u001b[0m\u001b[0m\n\u001b[0m",
      "\u001b[0;32m../ensembler/utils.py\u001b[0m in \u001b[0;36mprint_done\u001b[0;34m(*args, **kwargs)\u001b[0m\n",
      "\u001b[0;32m../ensembler/modeling.py\u001b[0m in \u001b[0;36mbuild_models\u001b[0;34m(process_only_these_targets, process_only_these_templates, model_seqid_cutoff, write_modeller_restraints_file, number_of_models, loglevel)\u001b[0m\n",
      "\u001b[0;32m../ensembler/modeling.py\u001b[0m in \u001b[0;36mbuild_model\u001b[0;34m(target, template_resolved_seq, target_setup_data, write_modeller_restraints_file, number_of_models, loglevel)\u001b[0m\n",
      "\u001b[0;32m../ensembler/modeling.py\u001b[0m in \u001b[0;36mrun_rosettaCM\u001b[0;34m(target, template, model_dir, model_pdbfilepath, model_pdbfilepath_uncompressed, template_structure_dir, number_of_models)\u001b[0m\n",
      "\u001b[0;32m~/anaconda2/envs/py3/lib/python3.6/subprocess.py\u001b[0m in \u001b[0;36mwait\u001b[0;34m(self, timeout, endtime)\u001b[0m\n\u001b[1;32m   1455\u001b[0m                         \u001b[0;32mif\u001b[0m \u001b[0mself\u001b[0m\u001b[0;34m.\u001b[0m\u001b[0mreturncode\u001b[0m \u001b[0;32mis\u001b[0m \u001b[0;32mnot\u001b[0m \u001b[0;32mNone\u001b[0m\u001b[0;34m:\u001b[0m\u001b[0;34m\u001b[0m\u001b[0;34m\u001b[0m\u001b[0m\n\u001b[1;32m   1456\u001b[0m                             \u001b[0;32mbreak\u001b[0m  \u001b[0;31m# Another thread waited.\u001b[0m\u001b[0;34m\u001b[0m\u001b[0;34m\u001b[0m\u001b[0m\n\u001b[0;32m-> 1457\u001b[0;31m                         \u001b[0;34m(\u001b[0m\u001b[0mpid\u001b[0m\u001b[0;34m,\u001b[0m \u001b[0msts\u001b[0m\u001b[0;34m)\u001b[0m \u001b[0;34m=\u001b[0m \u001b[0mself\u001b[0m\u001b[0;34m.\u001b[0m\u001b[0m_try_wait\u001b[0m\u001b[0;34m(\u001b[0m\u001b[0;36m0\u001b[0m\u001b[0;34m)\u001b[0m\u001b[0;34m\u001b[0m\u001b[0;34m\u001b[0m\u001b[0m\n\u001b[0m\u001b[1;32m   1458\u001b[0m                         \u001b[0;31m# Check the pid and loop as waitpid has been known to\u001b[0m\u001b[0;34m\u001b[0m\u001b[0;34m\u001b[0m\u001b[0;34m\u001b[0m\u001b[0m\n\u001b[1;32m   1459\u001b[0m                         \u001b[0;31m# return 0 even without WNOHANG in odd situations.\u001b[0m\u001b[0;34m\u001b[0m\u001b[0;34m\u001b[0m\u001b[0;34m\u001b[0m\u001b[0m\n",
      "\u001b[0;32m~/anaconda2/envs/py3/lib/python3.6/subprocess.py\u001b[0m in \u001b[0;36m_try_wait\u001b[0;34m(self, wait_flags)\u001b[0m\n\u001b[1;32m   1402\u001b[0m             \u001b[0;34m\"\"\"All callers to this function MUST hold self._waitpid_lock.\"\"\"\u001b[0m\u001b[0;34m\u001b[0m\u001b[0;34m\u001b[0m\u001b[0m\n\u001b[1;32m   1403\u001b[0m             \u001b[0;32mtry\u001b[0m\u001b[0;34m:\u001b[0m\u001b[0;34m\u001b[0m\u001b[0;34m\u001b[0m\u001b[0m\n\u001b[0;32m-> 1404\u001b[0;31m                 \u001b[0;34m(\u001b[0m\u001b[0mpid\u001b[0m\u001b[0;34m,\u001b[0m \u001b[0msts\u001b[0m\u001b[0;34m)\u001b[0m \u001b[0;34m=\u001b[0m \u001b[0mos\u001b[0m\u001b[0;34m.\u001b[0m\u001b[0mwaitpid\u001b[0m\u001b[0;34m(\u001b[0m\u001b[0mself\u001b[0m\u001b[0;34m.\u001b[0m\u001b[0mpid\u001b[0m\u001b[0;34m,\u001b[0m \u001b[0mwait_flags\u001b[0m\u001b[0;34m)\u001b[0m\u001b[0;34m\u001b[0m\u001b[0;34m\u001b[0m\u001b[0m\n\u001b[0m\u001b[1;32m   1405\u001b[0m             \u001b[0;32mexcept\u001b[0m \u001b[0mChildProcessError\u001b[0m\u001b[0;34m:\u001b[0m\u001b[0;34m\u001b[0m\u001b[0;34m\u001b[0m\u001b[0m\n\u001b[1;32m   1406\u001b[0m                 \u001b[0;31m# This happens if SIGCLD is set to be ignored or waiting\u001b[0m\u001b[0;34m\u001b[0m\u001b[0;34m\u001b[0m\u001b[0;34m\u001b[0m\u001b[0m\n",
      "\u001b[0;31mKeyboardInterrupt\u001b[0m: "
     ]
    }
   ],
   "source": [
    "ensembler.modeling.build_models(loglevel=loglevel, number_of_models=10) "
   ]
  },
  {
   "cell_type": "markdown",
   "metadata": {},
   "source": [
    "# Clustering"
   ]
  },
  {
   "cell_type": "code",
   "execution_count": null,
   "metadata": {},
   "outputs": [],
   "source": [
    "ensembler.modeling.cluster_models(loglevel=loglevel)"
   ]
  },
  {
   "cell_type": "code",
   "execution_count": 2,
   "metadata": {},
   "outputs": [],
   "source": [
    "import glob "
   ]
  },
  {
   "cell_type": "code",
   "execution_count": 3,
   "metadata": {},
   "outputs": [
    {
     "name": "stdout",
     "output_type": "stream",
     "text": [
      "/Users/hm0/Documents/Research/Ensembler/Ensembler_lib/examples\n"
     ]
    }
   ],
   "source": [
    "import os \n",
    "print(os.path.abspath('./'))"
   ]
  },
  {
   "cell_type": "code",
   "execution_count": 17,
   "metadata": {},
   "outputs": [],
   "source": [
    "pdb_files = glob.glob('./models/PK3CA_HUMAN/PK3CA_HUMAN_2ENQ_A/model_*.pdb') "
   ]
  },
  {
   "cell_type": "code",
   "execution_count": 18,
   "metadata": {},
   "outputs": [],
   "source": [
    "import mdtraj "
   ]
  },
  {
   "cell_type": "code",
   "execution_count": 19,
   "metadata": {},
   "outputs": [],
   "source": [
    "traj = mdtraj.load(pdb_files)"
   ]
  },
  {
   "cell_type": "code",
   "execution_count": 20,
   "metadata": {},
   "outputs": [],
   "source": [
    "CAatoms = [a.index for a in traj.topology.atoms if a.name == 'CA']"
   ]
  },
  {
   "cell_type": "code",
   "execution_count": 14,
   "metadata": {},
   "outputs": [],
   "source": [
    "import gzip"
   ]
  },
  {
   "cell_type": "raw",
   "metadata": {},
   "source": [
    "model_dir = './models/PK3CA_HUMAN/PK3CA_HUMAN_2ENQ_A/' \n",
    "rosetta_models_output = glob.glob('./models/PK3CA_HUMAN/PK3CA_HUMAN_2ENQ_A/S_00*') \n",
    "if rosetta_models_output:\n",
    "    for rosetta_model in rosetta_models_output:\n",
    "        model_pdbfilepath_uncompressed = os.path.join(model_dir, 'model' + rosetta_model[-9:])\n",
    "        traj = mdtraj.load(rosetta_model)\n",
    "        selection_noH = traj.topology.select('not element H')\n",
    "        traj_noH = traj.atom_slice(selection_noH)\n",
    "        traj_noH.save_pdb(model_pdbfilepath_uncompressed)\n",
    "        model_pdbfilepath_compressed = os.path.join(model_dir, 'model' + rosetta_model[-9:] + '.gz')\n",
    "        with open(model_pdbfilepath_uncompressed) as model_pdbfile:\n",
    "            with gzip.open(model_pdbfilepath_compressed, 'w') as model_pdbfilegz:\n",
    "                model_pdbfilegz.write(model_pdbfile.read().encode())"
   ]
  },
  {
   "cell_type": "code",
   "execution_count": null,
   "metadata": {},
   "outputs": [],
   "source": []
  }
 ],
 "metadata": {
  "kernelspec": {
   "display_name": "Python 3",
   "language": "python",
   "name": "python3"
  },
  "language_info": {
   "codemirror_mode": {
    "name": "ipython",
    "version": 3
   },
   "file_extension": ".py",
   "mimetype": "text/x-python",
   "name": "python",
   "nbconvert_exporter": "python",
   "pygments_lexer": "ipython3",
   "version": "3.6.7"
  }
 },
 "nbformat": 4,
 "nbformat_minor": 2
}
