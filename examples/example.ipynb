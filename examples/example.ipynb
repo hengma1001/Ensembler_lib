{
 "cells": [
  {
   "cell_type": "code",
   "execution_count": 1,
   "metadata": {},
   "outputs": [],
   "source": [
    "import sys, os\n",
    "\n",
    "sys.path.append('../')\n",
    "\n",
    "import ensembler\n",
    "\n",
    "# from ensembler.build_env import Ensembler_proj_init, GatherTargetsFromUniprot, gather_templates_from_uniprot \n",
    "# from ensembler.modeling import model_template_loops, align_targets_and_templates\n",
    "# from ensembler.core import default_project_dirnames, mpistate \n",
    "\n",
    "search_string = 'accession:p42336 taxonomy:\"Homo sapiens (Human) [9606]\"' \n",
    "loglevel='debug'"
   ]
  },
  {
   "cell_type": "markdown",
   "metadata": {},
   "source": [
    "# Initializaion of the project"
   ]
  },
  {
   "cell_type": "code",
   "execution_count": 2,
   "metadata": {},
   "outputs": [
    {
     "name": "stdout",
     "output_type": "stream",
     "text": [
      "File ./targets exists, pass...\n",
      "File ./templates exists, pass...\n",
      "File ./structures exists, pass...\n",
      "File ./models exists, pass...\n",
      "File ./simulations exists, pass...\n",
      "File ./packaged_models exists, pass...\n",
      "File ./structures/pdb exists, pass...\n",
      "File ./structures/sifts exists, pass...\n",
      "File ./templates/structures-resolved exists, pass...\n",
      "File ./templates/structures-modeled-loops exists, pass...\n",
      "Done.\n"
     ]
    },
    {
     "data": {
      "text/plain": [
       "<ensembler.build_env.Ensembler_proj_init at 0x7fee7c16cc88>"
      ]
     },
     "execution_count": 2,
     "metadata": {},
     "output_type": "execute_result"
    }
   ],
   "source": [
    "ensembler.build_env.Ensembler_proj_init()"
   ]
  },
  {
   "cell_type": "markdown",
   "metadata": {},
   "source": [
    "# Download target from Uniprot"
   ]
  },
  {
   "cell_type": "code",
   "execution_count": 4,
   "metadata": {},
   "outputs": [
    {
     "name": "stdout",
     "output_type": "stream",
     "text": [
      "Querying Uniprot web server...\n",
      "Number of entries returned from initial UniProt search: 2\n",
      "\n",
      "Set of unique domain names returned from the initial UniProt search using the query string 'accession:p42336 taxonomy:\"Homo sapiens (Human) [9606]\"':\n",
      "{'PIK helical', 'PI3K-RBD', 'PI3K/PI4K', 'PI3K-ABD', 'C2 PI3K-type'}\n",
      "\n",
      "Done.\n"
     ]
    },
    {
     "data": {
      "text/plain": [
       "<ensembler.build_env.GatherTargetsFromUniprot at 0x1191a1d68>"
      ]
     },
     "execution_count": 4,
     "metadata": {},
     "output_type": "execute_result"
    }
   ],
   "source": [
    "ensembler.build_env.GatherTargetsFromUniprot(search_string)"
   ]
  },
  {
   "cell_type": "markdown",
   "metadata": {},
   "source": [
    "# Download templates from Uniprot"
   ]
  },
  {
   "cell_type": "code",
   "execution_count": 5,
   "metadata": {
    "scrolled": false
   },
   "outputs": [
    {
     "name": "stdout",
     "output_type": "stream",
     "text": [
      "Set of unique domain names returned from the initial UniProt search using the query string 'accession:p42336 taxonomy:\"Homo sapiens (Human) [9606]\"':\n",
      "{'PIK helical', 'PI3K-RBD', 'PI3K/PI4K', 'PI3K-ABD', 'C2 PI3K-type'}\n",
      "\n",
      "45 PDB chains selected.\n",
      "Selected PDB chains: ['PK3CA_HUMAN_2ENQ_A', 'PK3CA_HUMAN_2RD0_A', 'PK3CA_HUMAN_3HHM_A', 'PK3CA_HUMAN_3HIZ_A', 'PK3CA_HUMAN_3ZIM_A', 'PK3CA_HUMAN_4JPS_A', 'PK3CA_HUMAN_4L1B_A', 'PK3CA_HUMAN_4L23_A', 'PK3CA_HUMAN_4L2Y_A', 'PK3CA_HUMAN_4OVU_A', 'PK3CA_HUMAN_4OVV_A', 'PK3CA_HUMAN_4TUU_A', 'PK3CA_HUMAN_4TV3_A', 'PK3CA_HUMAN_4WAF_A', 'PK3CA_HUMAN_4YKN_A', 'PK3CA_HUMAN_4ZOP_A', 'PK3CA_HUMAN_5DXH_A', 'PK3CA_HUMAN_5DXH_D', 'PK3CA_HUMAN_5DXT_A', 'PK3CA_HUMAN_5FI4_A', 'PK3CA_HUMAN_5ITD_A', 'PK3CA_HUMAN_5SW8_A', 'PK3CA_HUMAN_5SWG_A', 'PK3CA_HUMAN_5SWO_A', 'PK3CA_HUMAN_5SWP_A', 'PK3CA_HUMAN_5SWR_A', 'PK3CA_HUMAN_5SWT_A', 'PK3CA_HUMAN_5SX8_A', 'PK3CA_HUMAN_5SX9_A', 'PK3CA_HUMAN_5SXA_A', 'PK3CA_HUMAN_5SXB_A', 'PK3CA_HUMAN_5SXC_A', 'PK3CA_HUMAN_5SXD_A', 'PK3CA_HUMAN_5SXE_A', 'PK3CA_HUMAN_5SXF_A', 'PK3CA_HUMAN_5SXI_A', 'PK3CA_HUMAN_5SXJ_A', 'PK3CA_HUMAN_5SXK_A', 'PK3CA_HUMAN_5UBR_A', 'PK3CA_HUMAN_5UK8_A', 'PK3CA_HUMAN_5UKJ_A', 'PK3CA_HUMAN_5UL1_A', 'PK3CA_HUMAN_5XGH_A', 'PK3CA_HUMAN_5XGI_A', 'PK3CA_HUMAN_5XGJ_A']\n",
      "Extracting residues from PDB chains...\n",
      "45 templates selected.\n",
      "\n",
      "Writing template structures...\n",
      "Done.\n"
     ]
    }
   ],
   "source": [
    "ensembler.build_env.gather_templates_from_uniprot(search_string, loglevel='debug')"
   ]
  },
  {
   "cell_type": "markdown",
   "metadata": {
    "slideshow": {
     "slide_type": "-"
    }
   },
   "source": [
    "# Loop model"
   ]
  },
  {
   "cell_type": "raw",
   "metadata": {},
   "source": [
    "model_template_loops(loglevel='debug')"
   ]
  },
  {
   "cell_type": "markdown",
   "metadata": {},
   "source": [
    "# Alignment "
   ]
  },
  {
   "cell_type": "code",
   "execution_count": 2,
   "metadata": {},
   "outputs": [
    {
     "name": "stdout",
     "output_type": "stream",
     "text": [
      "Working on target PK3CA_HUMAN...\n",
      "File models/PK3CA_HUMAN exists, pass...\n",
      "File /Users/hm0/Documents/Research/Ensembler/Ensembler_lib/examples/models/PK3CA_HUMAN/PK3CA_HUMAN_2ENQ_A exists, pass...\n",
      "File /Users/hm0/Documents/Research/Ensembler/Ensembler_lib/examples/models/PK3CA_HUMAN/PK3CA_HUMAN_2RD0_A exists, pass...\n",
      "File /Users/hm0/Documents/Research/Ensembler/Ensembler_lib/examples/models/PK3CA_HUMAN/PK3CA_HUMAN_3HHM_A exists, pass...\n",
      "File /Users/hm0/Documents/Research/Ensembler/Ensembler_lib/examples/models/PK3CA_HUMAN/PK3CA_HUMAN_3HIZ_A exists, pass...\n",
      "File /Users/hm0/Documents/Research/Ensembler/Ensembler_lib/examples/models/PK3CA_HUMAN/PK3CA_HUMAN_3ZIM_A exists, pass...\n",
      "File /Users/hm0/Documents/Research/Ensembler/Ensembler_lib/examples/models/PK3CA_HUMAN/PK3CA_HUMAN_4JPS_A exists, pass...\n",
      "File /Users/hm0/Documents/Research/Ensembler/Ensembler_lib/examples/models/PK3CA_HUMAN/PK3CA_HUMAN_4L1B_A exists, pass...\n",
      "File /Users/hm0/Documents/Research/Ensembler/Ensembler_lib/examples/models/PK3CA_HUMAN/PK3CA_HUMAN_4L23_A exists, pass...\n",
      "File /Users/hm0/Documents/Research/Ensembler/Ensembler_lib/examples/models/PK3CA_HUMAN/PK3CA_HUMAN_4L2Y_A exists, pass...\n",
      "File /Users/hm0/Documents/Research/Ensembler/Ensembler_lib/examples/models/PK3CA_HUMAN/PK3CA_HUMAN_4OVU_A exists, pass...\n",
      "File /Users/hm0/Documents/Research/Ensembler/Ensembler_lib/examples/models/PK3CA_HUMAN/PK3CA_HUMAN_4OVV_A exists, pass...\n",
      "File /Users/hm0/Documents/Research/Ensembler/Ensembler_lib/examples/models/PK3CA_HUMAN/PK3CA_HUMAN_4TUU_A exists, pass...\n",
      "File /Users/hm0/Documents/Research/Ensembler/Ensembler_lib/examples/models/PK3CA_HUMAN/PK3CA_HUMAN_4TV3_A exists, pass...\n",
      "File /Users/hm0/Documents/Research/Ensembler/Ensembler_lib/examples/models/PK3CA_HUMAN/PK3CA_HUMAN_4WAF_A exists, pass...\n",
      "File /Users/hm0/Documents/Research/Ensembler/Ensembler_lib/examples/models/PK3CA_HUMAN/PK3CA_HUMAN_4YKN_A exists, pass...\n",
      "File /Users/hm0/Documents/Research/Ensembler/Ensembler_lib/examples/models/PK3CA_HUMAN/PK3CA_HUMAN_4ZOP_A exists, pass...\n",
      "File /Users/hm0/Documents/Research/Ensembler/Ensembler_lib/examples/models/PK3CA_HUMAN/PK3CA_HUMAN_5DXH_A exists, pass...\n",
      "File /Users/hm0/Documents/Research/Ensembler/Ensembler_lib/examples/models/PK3CA_HUMAN/PK3CA_HUMAN_5DXH_D exists, pass...\n",
      "File /Users/hm0/Documents/Research/Ensembler/Ensembler_lib/examples/models/PK3CA_HUMAN/PK3CA_HUMAN_5DXT_A exists, pass...\n",
      "File /Users/hm0/Documents/Research/Ensembler/Ensembler_lib/examples/models/PK3CA_HUMAN/PK3CA_HUMAN_5FI4_A exists, pass...\n",
      "File /Users/hm0/Documents/Research/Ensembler/Ensembler_lib/examples/models/PK3CA_HUMAN/PK3CA_HUMAN_5ITD_A exists, pass...\n",
      "File /Users/hm0/Documents/Research/Ensembler/Ensembler_lib/examples/models/PK3CA_HUMAN/PK3CA_HUMAN_5SW8_A exists, pass...\n",
      "File /Users/hm0/Documents/Research/Ensembler/Ensembler_lib/examples/models/PK3CA_HUMAN/PK3CA_HUMAN_5SWG_A exists, pass...\n",
      "File /Users/hm0/Documents/Research/Ensembler/Ensembler_lib/examples/models/PK3CA_HUMAN/PK3CA_HUMAN_5SWO_A exists, pass...\n",
      "File /Users/hm0/Documents/Research/Ensembler/Ensembler_lib/examples/models/PK3CA_HUMAN/PK3CA_HUMAN_5SWP_A exists, pass...\n",
      "File /Users/hm0/Documents/Research/Ensembler/Ensembler_lib/examples/models/PK3CA_HUMAN/PK3CA_HUMAN_5SWR_A exists, pass...\n",
      "File /Users/hm0/Documents/Research/Ensembler/Ensembler_lib/examples/models/PK3CA_HUMAN/PK3CA_HUMAN_5SWT_A exists, pass...\n",
      "File /Users/hm0/Documents/Research/Ensembler/Ensembler_lib/examples/models/PK3CA_HUMAN/PK3CA_HUMAN_5SX8_A exists, pass...\n",
      "File /Users/hm0/Documents/Research/Ensembler/Ensembler_lib/examples/models/PK3CA_HUMAN/PK3CA_HUMAN_5SX9_A exists, pass...\n",
      "File /Users/hm0/Documents/Research/Ensembler/Ensembler_lib/examples/models/PK3CA_HUMAN/PK3CA_HUMAN_5SXA_A exists, pass...\n",
      "File /Users/hm0/Documents/Research/Ensembler/Ensembler_lib/examples/models/PK3CA_HUMAN/PK3CA_HUMAN_5SXB_A exists, pass...\n",
      "File /Users/hm0/Documents/Research/Ensembler/Ensembler_lib/examples/models/PK3CA_HUMAN/PK3CA_HUMAN_5SXC_A exists, pass...\n",
      "File /Users/hm0/Documents/Research/Ensembler/Ensembler_lib/examples/models/PK3CA_HUMAN/PK3CA_HUMAN_5SXD_A exists, pass...\n",
      "File /Users/hm0/Documents/Research/Ensembler/Ensembler_lib/examples/models/PK3CA_HUMAN/PK3CA_HUMAN_5SXE_A exists, pass...\n",
      "File /Users/hm0/Documents/Research/Ensembler/Ensembler_lib/examples/models/PK3CA_HUMAN/PK3CA_HUMAN_5SXF_A exists, pass...\n",
      "File /Users/hm0/Documents/Research/Ensembler/Ensembler_lib/examples/models/PK3CA_HUMAN/PK3CA_HUMAN_5SXI_A exists, pass...\n",
      "File /Users/hm0/Documents/Research/Ensembler/Ensembler_lib/examples/models/PK3CA_HUMAN/PK3CA_HUMAN_5SXJ_A exists, pass...\n",
      "File /Users/hm0/Documents/Research/Ensembler/Ensembler_lib/examples/models/PK3CA_HUMAN/PK3CA_HUMAN_5SXK_A exists, pass...\n",
      "File /Users/hm0/Documents/Research/Ensembler/Ensembler_lib/examples/models/PK3CA_HUMAN/PK3CA_HUMAN_5UBR_A exists, pass...\n",
      "File /Users/hm0/Documents/Research/Ensembler/Ensembler_lib/examples/models/PK3CA_HUMAN/PK3CA_HUMAN_5UK8_A exists, pass...\n",
      "File /Users/hm0/Documents/Research/Ensembler/Ensembler_lib/examples/models/PK3CA_HUMAN/PK3CA_HUMAN_5UKJ_A exists, pass...\n",
      "File /Users/hm0/Documents/Research/Ensembler/Ensembler_lib/examples/models/PK3CA_HUMAN/PK3CA_HUMAN_5UL1_A exists, pass...\n",
      "File /Users/hm0/Documents/Research/Ensembler/Ensembler_lib/examples/models/PK3CA_HUMAN/PK3CA_HUMAN_5XGH_A exists, pass...\n",
      "File /Users/hm0/Documents/Research/Ensembler/Ensembler_lib/examples/models/PK3CA_HUMAN/PK3CA_HUMAN_5XGI_A exists, pass...\n",
      "File /Users/hm0/Documents/Research/Ensembler/Ensembler_lib/examples/models/PK3CA_HUMAN/PK3CA_HUMAN_5XGJ_A exists, pass...\n",
      "Done.\n"
     ]
    }
   ],
   "source": [
    "ensembler.modeling.align_targets_and_templates(loglevel=loglevel) "
   ]
  },
  {
   "cell_type": "markdown",
   "metadata": {},
   "source": [
    "# Modeling "
   ]
  },
  {
   "cell_type": "code",
   "execution_count": 2,
   "metadata": {},
   "outputs": [
    {
     "name": "stdout",
     "output_type": "stream",
     "text": [
      "=========================================================================\n",
      "Working on target \"PK3CA_HUMAN\"\n",
      "=========================================================================\n",
      "Skipping template PK3CA_HUMAN_2ENQ_A for low sequence matching ratio 0.141000. \n",
      "-------------------------------------------------------------------------\n",
      "Modelling \"PK3CA_HUMAN\" => \"PK3CA_HUMAN_2RD0_A\"\n",
      "   Generating 10 model(s)\n",
      "-------------------------------------------------------------------------\n"
     ]
    },
    {
     "ename": "KeyboardInterrupt",
     "evalue": "",
     "output_type": "error",
     "traceback": [
      "\u001b[0;31m---------------------------------------------------------------------------\u001b[0m",
      "\u001b[0;31mKeyboardInterrupt\u001b[0m                         Traceback (most recent call last)",
      "\u001b[0;32m<ipython-input-2-b9fbba659b30>\u001b[0m in \u001b[0;36m<module>\u001b[0;34m\u001b[0m\n\u001b[0;32m----> 1\u001b[0;31m \u001b[0mensembler\u001b[0m\u001b[0;34m.\u001b[0m\u001b[0mmodeling\u001b[0m\u001b[0;34m.\u001b[0m\u001b[0mbuild_models\u001b[0m\u001b[0;34m(\u001b[0m\u001b[0mloglevel\u001b[0m\u001b[0;34m=\u001b[0m\u001b[0mloglevel\u001b[0m\u001b[0;34m,\u001b[0m \u001b[0mnumber_of_models\u001b[0m\u001b[0;34m=\u001b[0m\u001b[0;36m10\u001b[0m\u001b[0;34m,\u001b[0m \u001b[0msequence_matching_ratio\u001b[0m\u001b[0;34m=\u001b[0m\u001b[0;36m0.95\u001b[0m\u001b[0;34m)\u001b[0m\u001b[0;34m\u001b[0m\u001b[0;34m\u001b[0m\u001b[0m\n\u001b[0m",
      "\u001b[0;32m../ensembler/utils.py\u001b[0m in \u001b[0;36mprint_done\u001b[0;34m(*args, **kwargs)\u001b[0m\n",
      "\u001b[0;32m../ensembler/modeling.py\u001b[0m in \u001b[0;36mbuild_models\u001b[0;34m(process_only_these_targets, process_only_these_templates, model_seqid_cutoff, write_modeller_restraints_file, number_of_models, sequence_matching_ratio, loglevel)\u001b[0m\n",
      "\u001b[0;32m../ensembler/modeling.py\u001b[0m in \u001b[0;36mbuild_model\u001b[0;34m(target, template_resolved_seq, target_setup_data, write_modeller_restraints_file, number_of_models, loglevel)\u001b[0m\n",
      "\u001b[0;32m../ensembler/modeling.py\u001b[0m in \u001b[0;36mrun_rosettaCM\u001b[0;34m(target, template, model_dir, model_pdbfilepath, model_pdbfilepath_uncompressed, template_structure_dir, number_of_models)\u001b[0m\n",
      "\u001b[0;32m~/anaconda2/envs/py3/lib/python3.6/subprocess.py\u001b[0m in \u001b[0;36mwait\u001b[0;34m(self, timeout, endtime)\u001b[0m\n\u001b[1;32m   1455\u001b[0m                         \u001b[0;32mif\u001b[0m \u001b[0mself\u001b[0m\u001b[0;34m.\u001b[0m\u001b[0mreturncode\u001b[0m \u001b[0;32mis\u001b[0m \u001b[0;32mnot\u001b[0m \u001b[0;32mNone\u001b[0m\u001b[0;34m:\u001b[0m\u001b[0;34m\u001b[0m\u001b[0;34m\u001b[0m\u001b[0m\n\u001b[1;32m   1456\u001b[0m                             \u001b[0;32mbreak\u001b[0m  \u001b[0;31m# Another thread waited.\u001b[0m\u001b[0;34m\u001b[0m\u001b[0;34m\u001b[0m\u001b[0m\n\u001b[0;32m-> 1457\u001b[0;31m                         \u001b[0;34m(\u001b[0m\u001b[0mpid\u001b[0m\u001b[0;34m,\u001b[0m \u001b[0msts\u001b[0m\u001b[0;34m)\u001b[0m \u001b[0;34m=\u001b[0m \u001b[0mself\u001b[0m\u001b[0;34m.\u001b[0m\u001b[0m_try_wait\u001b[0m\u001b[0;34m(\u001b[0m\u001b[0;36m0\u001b[0m\u001b[0;34m)\u001b[0m\u001b[0;34m\u001b[0m\u001b[0;34m\u001b[0m\u001b[0m\n\u001b[0m\u001b[1;32m   1458\u001b[0m                         \u001b[0;31m# Check the pid and loop as waitpid has been known to\u001b[0m\u001b[0;34m\u001b[0m\u001b[0;34m\u001b[0m\u001b[0;34m\u001b[0m\u001b[0m\n\u001b[1;32m   1459\u001b[0m                         \u001b[0;31m# return 0 even without WNOHANG in odd situations.\u001b[0m\u001b[0;34m\u001b[0m\u001b[0;34m\u001b[0m\u001b[0;34m\u001b[0m\u001b[0m\n",
      "\u001b[0;32m~/anaconda2/envs/py3/lib/python3.6/subprocess.py\u001b[0m in \u001b[0;36m_try_wait\u001b[0;34m(self, wait_flags)\u001b[0m\n\u001b[1;32m   1402\u001b[0m             \u001b[0;34m\"\"\"All callers to this function MUST hold self._waitpid_lock.\"\"\"\u001b[0m\u001b[0;34m\u001b[0m\u001b[0;34m\u001b[0m\u001b[0m\n\u001b[1;32m   1403\u001b[0m             \u001b[0;32mtry\u001b[0m\u001b[0;34m:\u001b[0m\u001b[0;34m\u001b[0m\u001b[0;34m\u001b[0m\u001b[0m\n\u001b[0;32m-> 1404\u001b[0;31m                 \u001b[0;34m(\u001b[0m\u001b[0mpid\u001b[0m\u001b[0;34m,\u001b[0m \u001b[0msts\u001b[0m\u001b[0;34m)\u001b[0m \u001b[0;34m=\u001b[0m \u001b[0mos\u001b[0m\u001b[0;34m.\u001b[0m\u001b[0mwaitpid\u001b[0m\u001b[0;34m(\u001b[0m\u001b[0mself\u001b[0m\u001b[0;34m.\u001b[0m\u001b[0mpid\u001b[0m\u001b[0;34m,\u001b[0m \u001b[0mwait_flags\u001b[0m\u001b[0;34m)\u001b[0m\u001b[0;34m\u001b[0m\u001b[0;34m\u001b[0m\u001b[0m\n\u001b[0m\u001b[1;32m   1405\u001b[0m             \u001b[0;32mexcept\u001b[0m \u001b[0mChildProcessError\u001b[0m\u001b[0;34m:\u001b[0m\u001b[0;34m\u001b[0m\u001b[0;34m\u001b[0m\u001b[0m\n\u001b[1;32m   1406\u001b[0m                 \u001b[0;31m# This happens if SIGCLD is set to be ignored or waiting\u001b[0m\u001b[0;34m\u001b[0m\u001b[0;34m\u001b[0m\u001b[0;34m\u001b[0m\u001b[0m\n",
      "\u001b[0;31mKeyboardInterrupt\u001b[0m: "
     ]
    }
   ],
   "source": [
    "ensembler.modeling.build_models(loglevel=loglevel, number_of_models=10, sequence_matching_ratio=0.95)  "
   ]
  },
  {
   "cell_type": "markdown",
   "metadata": {},
   "source": [
    "# Clustering"
   ]
  },
  {
   "cell_type": "code",
   "execution_count": 2,
   "metadata": {},
   "outputs": [
    {
     "name": "stdout",
     "output_type": "stream",
     "text": [
      "Skipping templates with sequence matching ratios lower than 0.950000. \n",
      "Building a list of valid models...\n",
      "Constructing a trajectory containing all valid models...\n",
      "Conducting RMSD-based clustering...\n"
     ]
    },
    {
     "name": "stderr",
     "output_type": "stream",
     "text": [
      "/Users/hm0/anaconda2/envs/py3/lib/python3.6/site-packages/sklearn/cross_validation.py:41: DeprecationWarning: This module was deprecated in version 0.18 in favor of the model_selection module into which all the refactored classes and functions are moved. Also note that the interface of the new CV iterators are different from that of this module. This module will be removed in 0.20.\n",
      "  \"This module will be removed in 0.20.\", DeprecationWarning)\n",
      "/Users/hm0/anaconda2/envs/py3/lib/python3.6/site-packages/sklearn/grid_search.py:42: DeprecationWarning: This module was deprecated in version 0.18 in favor of the model_selection module into which all the refactored classes and functions are moved. This module will be removed in 0.20.\n",
      "  DeprecationWarning)\n"
     ]
    },
    {
     "name": "stdout",
     "output_type": "stream",
     "text": [
      "19 unique models (from original set of 330) using cutoff of 0.060 nm\n",
      "Done.\n"
     ]
    }
   ],
   "source": [
    "ensembler.modeling.cluster_models(loglevel=loglevel, sequence_matching_ratio=0.95) "
   ]
  },
  {
   "cell_type": "markdown",
   "metadata": {},
   "source": [
    "# MD simulation \n",
    "## implicit water simulation "
   ]
  },
  {
   "cell_type": "code",
   "execution_count": 2,
   "metadata": {},
   "outputs": [
    {
     "name": "stdout",
     "output_type": "stream",
     "text": [
      "Auto-selected OpenMM platform: OpenCL\n",
      "Processing targets...\n",
      "Processing PK3CA_HUMAN\n",
      "Created directory /home/hm0/Research/ensembler/Ensembler_lib/examples/simulations/PK3CA_HUMAN, continuing...\n",
      "Starting PK3CA_HUMAN at 2019-01-09 11:19:13.259669\n",
      "Created directory /home/hm0/Research/ensembler/Ensembler_lib/examples/simulations/PK3CA_HUMAN/PK3CA_HUMAN_5FI4_A_model_0004, continuing...\n",
      "-------------------------------------------------------------------------\n",
      "Simulating PK3CA_HUMAN from PK3CA_HUMAN_5FI4_A_model_0004 in implicit solvent for 100.0 ps (MPI rank: 0, GPU ID: 0)\n",
      "-------------------------------------------------------------------------\n",
      "Reading model...\n",
      "Constructing System object...\n",
      "Creating Context...\n",
      "Minimizing structure...\n",
      "Running dynamics...\n",
      "#\"Step\",\"Time (ps)\",\"Potential Energy (kJ/mole)\",\"Total Energy (kJ/mole)\",\"Temperature (K)\",\"Speed (ns/day)\"\n",
      "5000,10.000000000000009,-126115.3359375,-71728.34953726945,299.7751282657106,0\n",
      "10000,19.999999999999794,-126421.078125,-71431.68877346767,303.0955075319051,81.2\n",
      "15000,29.99999999999425,-126264.984375,-72006.76626615552,299.06537150914477,79.2\n",
      "20000,40.00000000000292,-126751.140625,-72292.24298500118,300.1714951643403,79.2\n",
      "25000,50.00000000001514,-126518.765625,-71925.0064810293,300.9148370431084,79.5\n",
      "30000,60.00000000002736,-127135.5859375,-72984.94992148946,298.4723907647979,79.2\n",
      "35000,70.00000000001826,-126178.75,-71217.76254471322,302.93895938218157,78.9\n",
      "40000,79.99999999999496,-127402.875,-72796.94662747276,300.9819125016488,77.7\n",
      "45000,89.99999999997165,-127736.140625,-73158.47153751529,300.82615040929863,76.9\n",
      "50000,99.99999999994834,-127544.0546875,-73130.54027228034,299.9213477866355,76.2\n",
      "Created directory /home/hm0/Research/ensembler/Ensembler_lib/examples/simulations/PK3CA_HUMAN/PK3CA_HUMAN_4L1B_A_model_0003, continuing...\n",
      "-------------------------------------------------------------------------\n",
      "Simulating PK3CA_HUMAN from PK3CA_HUMAN_4L1B_A_model_0003 in implicit solvent for 100.0 ps (MPI rank: 0, GPU ID: 1)\n",
      "-------------------------------------------------------------------------\n",
      "Reading model...\n",
      "Constructing System object...\n",
      "Creating Context...\n",
      "Minimizing structure...\n",
      "Running dynamics...\n",
      "#\"Step\",\"Time (ps)\",\"Potential Energy (kJ/mole)\",\"Total Energy (kJ/mole)\",\"Temperature (K)\",\"Speed (ns/day)\"\n",
      "5000,10.000000000000009,-125849.375,-71024.68148422224,302.16002701532364,0\n",
      "10000,19.999999999999794,-126811.609375,-72596.0382972199,298.80291837470634,79.4\n",
      "15000,29.99999999999425,-126179.59375,-71639.42780908127,300.5918858330794,79.1\n",
      "20000,40.00000000000292,-125848.953125,-72079.68186280318,296.3431879925426,79.3\n",
      "25000,50.00000000001514,-126441.7421875,-71692.90242371173,301.7419677380062,78.9\n",
      "30000,60.00000000002736,-127011.9140625,-72274.11211212841,301.6811340919555,77.9\n",
      "35000,70.00000000001826,-126379.9921875,-72067.20487634116,299.3387145245853,76.6\n",
      "40000,79.99999999999496,-127033.03125,-72274.88326351484,301.79326894264943,75.8\n",
      "45000,89.99999999997165,-127177.171875,-72434.8388129007,301.70610679593716,75.2\n",
      "50000,99.99999999994834,-127485.6328125,-72782.97141047032,301.48746097943246,74.8\n",
      "Created directory /home/hm0/Research/ensembler/Ensembler_lib/examples/simulations/PK3CA_HUMAN/PK3CA_HUMAN_2RD0_A_model_0008, continuing...\n",
      "-------------------------------------------------------------------------\n",
      "Simulating PK3CA_HUMAN from PK3CA_HUMAN_2RD0_A_model_0008 in implicit solvent for 100.0 ps (MPI rank: 0, GPU ID: 0)\n",
      "-------------------------------------------------------------------------\n",
      "Reading model...\n",
      "Constructing System object...\n",
      "Creating Context...\n",
      "Minimizing structure...\n",
      "Running dynamics...\n",
      "#\"Step\",\"Time (ps)\",\"Potential Energy (kJ/mole)\",\"Total Energy (kJ/mole)\",\"Temperature (K)\",\"Speed (ns/day)\"\n",
      "5000,10.000000000000009,-124042.984375,-69523.7463990004,300.47654374833945,0\n",
      "10000,19.999999999999794,-124313.234375,-70271.52160933986,297.844718174793,80.7\n",
      "15000,29.99999999999425,-124238.390625,-70245.35089571564,297.5764623024279,80.1\n",
      "20000,40.00000000000292,-124346.640625,-70048.45735337655,299.2582260312155,79.9\n",
      "25000,50.00000000001514,-125338.28125,-71285.54646153923,297.90546479266953,79.3\n",
      "30000,60.00000000002736,-124877.1640625,-69502.52967283153,305.19096323503686,77.7\n",
      "35000,70.00000000001826,-125312.75,-70882.22390369908,299.9876183709706,77\n",
      "40000,79.99999999999496,-124909.28125,-70597.71841897524,299.3319659423924,76.4\n",
      "45000,89.99999999997165,-125584.0625,-70876.52234158083,301.51434968720105,76\n",
      "50000,99.99999999994834,-125425.7421875,-71247.8697974286,298.59514636968413,75.7\n",
      "Created directory /home/hm0/Research/ensembler/Ensembler_lib/examples/simulations/PK3CA_HUMAN/PK3CA_HUMAN_2RD0_A_model_0002, continuing...\n",
      "-------------------------------------------------------------------------\n",
      "Simulating PK3CA_HUMAN from PK3CA_HUMAN_2RD0_A_model_0002 in implicit solvent for 100.0 ps (MPI rank: 0, GPU ID: 1)\n",
      "-------------------------------------------------------------------------\n",
      "Reading model...\n",
      "Constructing System object...\n",
      "Creating Context...\n",
      "Minimizing structure...\n",
      "Running dynamics...\n",
      "#\"Step\",\"Time (ps)\",\"Potential Energy (kJ/mole)\",\"Total Energy (kJ/mole)\",\"Temperature (K)\",\"Speed (ns/day)\"\n",
      "5000,10.000000000000009,-122905.140625,-68566.32209823187,299.4821825917525,0\n",
      "10000,19.999999999999794,-123687.9140625,-69042.0182659959,301.1746038378925,81.4\n",
      "15000,29.99999999999425,-123655.671875,-69286.03131721774,299.6520546900109,81\n",
      "20000,40.00000000000292,-123697.0703125,-69285.06710649436,299.8855315799078,80.5\n",
      "25000,50.00000000001514,-125136.6171875,-70255.57864279923,302.47056619702755,77.8\n",
      "30000,60.00000000002736,-125256.3515625,-70960.16774023115,299.247206294811,76.6\n",
      "35000,70.00000000001826,-125602.25,-70851.05537027214,301.7549463122634,75.7\n",
      "40000,79.99999999999496,-124996.6171875,-70317.58975261229,301.357205072976,75.3\n",
      "45000,89.99999999997165,-125221.5,-70815.08785174112,299.85471710468755,75\n",
      "50000,99.99999999994834,-125857.953125,-71079.65080676507,301.904347236671,74.7\n",
      "Created directory /home/hm0/Research/ensembler/Ensembler_lib/examples/simulations/PK3CA_HUMAN/PK3CA_HUMAN_4L1B_A_model_0007, continuing...\n",
      "-------------------------------------------------------------------------\n",
      "Simulating PK3CA_HUMAN from PK3CA_HUMAN_4L1B_A_model_0007 in implicit solvent for 100.0 ps (MPI rank: 0, GPU ID: 0)\n",
      "-------------------------------------------------------------------------\n",
      "Reading model...\n",
      "Constructing System object...\n",
      "Creating Context...\n",
      "Minimizing structure...\n",
      "Running dynamics...\n",
      "#\"Step\",\"Time (ps)\",\"Potential Energy (kJ/mole)\",\"Total Energy (kJ/mole)\",\"Temperature (K)\",\"Speed (ns/day)\"\n",
      "5000,10.000000000000009,-125957.046875,-71767.25005213683,298.66086651700175,0\n",
      "10000,19.999999999999794,-126716.078125,-71998.44540119357,301.56997370686275,79\n",
      "15000,29.99999999999425,-126933.171875,-72759.88363352977,298.5698813590412,78.2\n",
      "20000,40.00000000000292,-127137.140625,-72840.00348191289,299.25246041345224,78.3\n",
      "25000,50.00000000001514,-126727.0859375,-71928.78936781688,302.01454326642164,76.7\n",
      "30000,60.00000000002736,-127884.7734375,-73123.86365705484,301.80849025414335,75.7\n",
      "35000,70.00000000001826,-127927.625,-73551.45530240657,299.6880392972238,75.1\n",
      "40000,79.99999999999496,-127564.9453125,-73612.00781836538,297.3554434206218,74.6\n",
      "45000,89.99999999997165,-127927.890625,-73473.4113500875,300.11963357492783,74.3\n",
      "50000,99.99999999994834,-128201.46875,-73730.52595481591,300.2103703836726,74.1\n",
      "Created directory /home/hm0/Research/ensembler/Ensembler_lib/examples/simulations/PK3CA_HUMAN/PK3CA_HUMAN_5ITD_A_model_0009, continuing...\n",
      "-------------------------------------------------------------------------\n",
      "Simulating PK3CA_HUMAN from PK3CA_HUMAN_5ITD_A_model_0009 in implicit solvent for 100.0 ps (MPI rank: 0, GPU ID: 1)\n",
      "-------------------------------------------------------------------------\n",
      "Reading model...\n",
      "Constructing System object...\n",
      "Creating Context...\n",
      "Minimizing structure...\n",
      "Running dynamics...\n",
      "#\"Step\",\"Time (ps)\",\"Potential Energy (kJ/mole)\",\"Total Energy (kJ/mole)\",\"Temperature (K)\",\"Speed (ns/day)\"\n",
      "5000,10.000000000000009,-125230.0625,-70387.88445176161,302.2840949082611,0\n",
      "10000,19.999999999999794,-126685.1953125,-71770.25030917523,302.6851784162533,78.4\n",
      "15000,29.99999999999425,-126123.234375,-71808.82333958219,299.37510078237904,78\n",
      "20000,40.00000000000292,-126343.2890625,-72049.2729177156,299.26268637297227,76.6\n",
      "25000,50.00000000001514,-127116.234375,-72405.3768411621,301.56027057722304,74.3\n",
      "30000,60.00000000002736,-126788.0625,-72618.32586264657,298.5776713032504,73.1\n",
      "35000,70.00000000001826,-126545.875,-71610.29889267555,302.7988948079329,72.6\n",
      "40000,79.99999999999496,-126648.484375,-71388.89564186358,304.58481700902183,72.3\n",
      "45000,89.99999999997165,-127748.2734375,-73242.41670352337,300.4303285609335,72\n",
      "50000,99.99999999994834,-127189.265625,-72074.43877447885,303.78690532460473,71.8\n",
      "Created directory /home/hm0/Research/ensembler/Ensembler_lib/examples/simulations/PK3CA_HUMAN/PK3CA_HUMAN_4JPS_A_model_0002, continuing...\n",
      "-------------------------------------------------------------------------\n",
      "Simulating PK3CA_HUMAN from PK3CA_HUMAN_4JPS_A_model_0002 in implicit solvent for 100.0 ps (MPI rank: 0, GPU ID: 0)\n",
      "-------------------------------------------------------------------------\n",
      "Reading model...\n",
      "Constructing System object...\n",
      "Creating Context...\n",
      "Minimizing structure...\n",
      "Running dynamics...\n",
      "#\"Step\",\"Time (ps)\",\"Potential Energy (kJ/mole)\",\"Total Energy (kJ/mole)\",\"Temperature (K)\",\"Speed (ns/day)\"\n",
      "5000,10.000000000000009,-124926.703125,-70655.24446896964,299.1383519589484,0\n",
      "10000,19.999999999999794,-124982.6953125,-70299.70205978109,301.4066857033525,81.1\n",
      "15000,29.99999999999425,-125637.8671875,-71437.94765395974,298.744036130109,80.9\n",
      "20000,40.00000000000292,-125614.140625,-70982.28677157639,301.12481092047034,80.4\n",
      "25000,50.00000000001514,-126264.2734375,-72679.14005886472,295.3554019982895,78\n",
      "30000,60.00000000002736,-126296.4921875,-72116.97763221164,298.631566118851,76.3\n",
      "35000,70.00000000001826,-127154.4140625,-72291.30558974273,302.39946112194747,75.3\n",
      "40000,79.99999999999496,-126422.734375,-71814.46366418526,300.9948232144324,74.9\n",
      "45000,89.99999999997165,-126533.5859375,-72153.13204737147,299.7391217835841,74.6\n",
      "50000,99.99999999994834,-126983.265625,-72429.66891723429,300.69346608174976,74.4\n",
      "Created directory /home/hm0/Research/ensembler/Ensembler_lib/examples/simulations/PK3CA_HUMAN/PK3CA_HUMAN_2RD0_A_model_0003, continuing...\n",
      "-------------------------------------------------------------------------\n",
      "Simulating PK3CA_HUMAN from PK3CA_HUMAN_2RD0_A_model_0003 in implicit solvent for 100.0 ps (MPI rank: 0, GPU ID: 1)\n",
      "-------------------------------------------------------------------------\n",
      "Reading model...\n",
      "Constructing System object...\n",
      "Creating Context...\n",
      "Minimizing structure...\n",
      "Running dynamics...\n",
      "#\"Step\",\"Time (ps)\",\"Potential Energy (kJ/mole)\",\"Total Energy (kJ/mole)\",\"Temperature (K)\",\"Speed (ns/day)\"\n",
      "5000,10.000000000000009,-123583.0546875,-68427.55163631635,303.9832459290127,0\n",
      "10000,19.999999999999794,-123182.546875,-68450.08216405276,301.65171850738534,78.1\n",
      "15000,29.99999999999425,-124393.234375,-69466.97894740384,302.71977387482855,78.5\n",
      "20000,40.00000000000292,-124407.7890625,-70182.42964868667,298.8568656690836,77.4\n",
      "25000,50.00000000001514,-125283.96875,-70846.10866063321,300.028038834831,75.3\n",
      "30000,60.00000000002736,-125313.7890625,-70450.08474856688,302.37503056698273,74.3\n",
      "35000,70.00000000001826,-125164.71875,-70804.86107094178,299.59813747296903,73.8\n",
      "40000,79.99999999999496,-124752.25,-70802.34389736853,297.3387362531076,73.4\n",
      "45000,89.99999999997165,-124618.21875,-69779.70191218541,302.236212673505,73.1\n",
      "50000,99.99999999994834,-124982.1015625,-70694.59847929794,299.19936339441836,72.9\n",
      "Created directory /home/hm0/Research/ensembler/Ensembler_lib/examples/simulations/PK3CA_HUMAN/PK3CA_HUMAN_2RD0_A_model_0001, continuing...\n",
      "-------------------------------------------------------------------------\n",
      "Simulating PK3CA_HUMAN from PK3CA_HUMAN_2RD0_A_model_0001 in implicit solvent for 100.0 ps (MPI rank: 0, GPU ID: 0)\n",
      "-------------------------------------------------------------------------\n",
      "Reading model...\n",
      "Constructing System object...\n",
      "Creating Context...\n",
      "Minimizing structure...\n",
      "Running dynamics...\n",
      "#\"Step\",\"Time (ps)\",\"Potential Energy (kJ/mole)\",\"Total Energy (kJ/mole)\",\"Temperature (K)\",\"Speed (ns/day)\"\n",
      "5000,10.000000000000009,-122917.953125,-68799.39648063836,298.26823442222496,0\n",
      "10000,19.999999999999794,-123509.8828125,-68551.76282218425,302.8953917673283,81.2\n",
      "15000,29.99999999999425,-123746.5546875,-69185.6950879757,300.70593656537403,81.1\n",
      "20000,40.00000000000292,-125078.5625,-71147.88181499345,297.2327775630283,81.1\n",
      "25000,50.00000000001514,-123889.015625,-69711.92376877507,298.5908445466731,79\n",
      "30000,60.00000000002736,-123801.1640625,-69328.10365455179,300.2220413641922,77.6\n",
      "35000,70.00000000001826,-124265.1171875,-69891.48270517308,299.674066748281,77\n",
      "40000,79.99999999999496,-124817.2265625,-70677.44440278702,298.3852164221358,76.7\n",
      "45000,89.99999999997165,-124802.140625,-69812.3585004299,303.0698939984972,76.3\n",
      "50000,99.99999999994834,-124739.34375,-69897.408836185,302.25505100839376,76\n",
      "Created directory /home/hm0/Research/ensembler/Ensembler_lib/examples/simulations/PK3CA_HUMAN/PK3CA_HUMAN_4JPS_A_model_0001, continuing...\n",
      "-------------------------------------------------------------------------\n",
      "Simulating PK3CA_HUMAN from PK3CA_HUMAN_4JPS_A_model_0001 in implicit solvent for 100.0 ps (MPI rank: 0, GPU ID: 1)\n",
      "-------------------------------------------------------------------------\n",
      "Reading model...\n",
      "Constructing System object...\n",
      "Creating Context...\n",
      "Minimizing structure...\n",
      "Running dynamics...\n",
      "#\"Step\",\"Time (ps)\",\"Potential Energy (kJ/mole)\",\"Total Energy (kJ/mole)\",\"Temperature (K)\",\"Speed (ns/day)\"\n",
      "5000,10.000000000000009,-125910.046875,-71263.28583342396,301.20697771323194,0\n",
      "10000,19.999999999999794,-126312.0546875,-72645.22867820249,295.80568285509077,78.9\n",
      "15000,29.99999999999425,-125758.84375,-71602.21196313761,298.50543879880627,78.8\n",
      "20000,40.00000000000292,-126637.828125,-72914.31068902719,296.1181598064352,77.4\n",
      "25000,50.00000000001514,-126871.75,-71939.04555614898,302.7830665125435,75.1\n",
      "30000,60.00000000002736,-125852.2109375,-71164.97378978133,301.43007758902417,73.9\n",
      "35000,70.00000000001826,-126919.96875,-72792.24381791719,298.3461073728005,73.2\n",
      "40000,79.99999999999496,-126791.609375,-71975.41945631348,302.1408511768937,72.9\n",
      "45000,89.99999999997165,-126384.0546875,-71960.81244609691,299.9749665019735,72.7\n",
      "50000,99.99999999994834,-126758.796875,-71866.37206897349,302.56104954866026,72.4\n",
      "Created directory /home/hm0/Research/ensembler/Ensembler_lib/examples/simulations/PK3CA_HUMAN/PK3CA_HUMAN_4JPS_A_model_0008, continuing...\n",
      "-------------------------------------------------------------------------\n",
      "Simulating PK3CA_HUMAN from PK3CA_HUMAN_4JPS_A_model_0008 in implicit solvent for 100.0 ps (MPI rank: 0, GPU ID: 0)\n",
      "-------------------------------------------------------------------------\n",
      "Reading model...\n",
      "Constructing System object...\n",
      "Creating Context...\n",
      "Minimizing structure...\n",
      "Running dynamics...\n",
      "#\"Step\",\"Time (ps)\",\"Potential Energy (kJ/mole)\",\"Total Energy (kJ/mole)\",\"Temperature (K)\",\"Speed (ns/day)\"\n",
      "5000,10.000000000000009,-125120.046875,-70270.27435710479,302.32595479545415,0\n",
      "10000,19.999999999999794,-125884.015625,-71136.01746890298,301.76498563018924,77.5\n",
      "15000,29.99999999999425,-125996.3125,-72097.07650185935,297.08670132710137,77.9\n",
      "20000,40.00000000000292,-126411.6875,-72446.42987510585,297.450605322125,78\n",
      "25000,50.00000000001514,-126066.2109375,-71572.07872688444,300.36570426885464,76.8\n",
      "30000,60.00000000002736,-125899.71875,-71765.24131239147,298.3833264456719,76\n",
      "35000,70.00000000001826,-126617.96875,-72283.89346643863,299.4834879701909,75.4\n",
      "40000,79.99999999999496,-126939.015625,-72487.32198595884,300.13178749796555,75.1\n",
      "45000,89.99999999997165,-126496.4765625,-72189.8736809169,299.3320630913385,74.8\n",
      "50000,99.99999999994834,-126768.484375,-72800.50584319775,297.4656026637937,74.6\n",
      "Created directory /home/hm0/Research/ensembler/Ensembler_lib/examples/simulations/PK3CA_HUMAN/PK3CA_HUMAN_5FI4_A_model_0007, continuing...\n",
      "-------------------------------------------------------------------------\n",
      "Simulating PK3CA_HUMAN from PK3CA_HUMAN_5FI4_A_model_0007 in implicit solvent for 100.0 ps (MPI rank: 0, GPU ID: 1)\n",
      "-------------------------------------------------------------------------\n",
      "Reading model...\n",
      "Constructing System object...\n",
      "Creating Context...\n",
      "Minimizing structure...\n",
      "Running dynamics...\n",
      "#\"Step\",\"Time (ps)\",\"Potential Energy (kJ/mole)\",\"Total Energy (kJ/mole)\",\"Temperature (K)\",\"Speed (ns/day)\"\n",
      "5000,10.000000000000009,-126079.4296875,-71259.17797818175,302.1355465071122,0\n",
      "10000,19.999999999999794,-126690.96875,-72084.73641819647,300.95600318922686,79.3\n",
      "15000,29.99999999999425,-127357.6875,-72816.61940710444,300.5968579405042,78.7\n",
      "20000,40.00000000000292,-127538.3515625,-73494.0944604883,297.85874099355266,76.7\n",
      "25000,50.00000000001514,-127427.4453125,-73542.02697889176,296.9833192907745,74.4\n",
      "30000,60.00000000002736,-127075.8828125,-72645.88047648163,299.98473172608533,73.4\n",
      "35000,70.00000000001826,-127896.265625,-72852.10710093728,303.3695833042834,72.9\n",
      "40000,79.99999999999496,-126341.234375,-71915.31701467326,299.9622178498338,72.6\n",
      "45000,89.99999999997165,-127579.3203125,-73494.76040388085,298.0808653020049,72.6\n",
      "50000,99.99999999994834,-127497.84375,-72800.78266022028,301.4565954990763,72.6\n",
      "Created directory /home/hm0/Research/ensembler/Ensembler_lib/examples/simulations/PK3CA_HUMAN/PK3CA_HUMAN_4L1B_A_model_0006, continuing...\n",
      "-------------------------------------------------------------------------\n",
      "Simulating PK3CA_HUMAN from PK3CA_HUMAN_4L1B_A_model_0006 in implicit solvent for 100.0 ps (MPI rank: 0, GPU ID: 0)\n",
      "-------------------------------------------------------------------------\n",
      "Reading model...\n",
      "Constructing System object...\n",
      "Creating Context...\n",
      "Minimizing structure...\n",
      "Running dynamics...\n",
      "#\"Step\",\"Time (ps)\",\"Potential Energy (kJ/mole)\",\"Total Energy (kJ/mole)\",\"Temperature (K)\",\"Speed (ns/day)\"\n",
      "5000,10.000000000000009,-126045.8828125,-71636.56292341609,299.87074278563347,0\n",
      "10000,19.999999999999794,-125414.8046875,-70612.80868607189,302.0349322613129,78.3\n",
      "15000,29.99999999999425,-125928.578125,-71510.27447280055,299.9202557684085,78.3\n",
      "20000,40.00000000000292,-126109.09375,-71249.48107639421,302.35247995935396,77.9\n",
      "25000,50.00000000001514,-126453.3671875,-72159.72869444056,299.2331780040289,75.9\n",
      "30000,60.00000000002736,-126318.96875,-71909.47183296503,299.87171845493583,74.7\n",
      "35000,70.00000000001826,-126266.90625,-71389.66373004063,302.4496448408857,73.7\n",
      "40000,79.99999999999496,-126946.984375,-72875.68197285983,298.00779807154805,73.4\n",
      "45000,89.99999999997165,-127373.921875,-73074.9614517237,299.2625092136532,73.1\n",
      "50000,99.99999999994834,-127452.953125,-73982.70095149707,294.6951784894554,72.9\n",
      "Created directory /home/hm0/Research/ensembler/Ensembler_lib/examples/simulations/PK3CA_HUMAN/PK3CA_HUMAN_4WAF_A_model_0003, continuing...\n",
      "-------------------------------------------------------------------------\n",
      "Simulating PK3CA_HUMAN from PK3CA_HUMAN_4WAF_A_model_0003 in implicit solvent for 100.0 ps (MPI rank: 0, GPU ID: 1)\n",
      "-------------------------------------------------------------------------\n",
      "Reading model...\n",
      "Constructing System object...\n",
      "Creating Context...\n",
      "Minimizing structure...\n",
      "Running dynamics...\n",
      "#\"Step\",\"Time (ps)\",\"Potential Energy (kJ/mole)\",\"Total Energy (kJ/mole)\",\"Temperature (K)\",\"Speed (ns/day)\"\n",
      "5000,10.000000000000009,-125651.78125,-71198.35723938479,300.1138176064631,0\n",
      "10000,19.999999999999794,-126292.984375,-71807.64336581272,300.2897244931657,77.6\n",
      "15000,29.99999999999425,-125872.7734375,-71692.50208050152,298.6083680014892,77.1\n",
      "20000,40.00000000000292,-127380.1328125,-73295.44844073034,298.08155126642185,76\n",
      "25000,50.00000000001514,-126671.1953125,-72625.47391407285,297.86681129574816,73.4\n",
      "30000,60.00000000002736,-127495.7578125,-72712.21396082384,301.93323534866283,72.5\n",
      "35000,70.00000000001826,-127309.140625,-72452.16950808559,302.33792132181225,71.8\n",
      "40000,79.99999999999496,-126790.390625,-72239.75720087637,300.64957616940694,71.3\n",
      "45000,89.99999999997165,-127682.71875,-73542.38431791333,298.38826020815,71\n",
      "50000,99.99999999994834,-127725.9140625,-73281.12820405909,300.06620941885694,70.9\n",
      "Created directory /home/hm0/Research/ensembler/Ensembler_lib/examples/simulations/PK3CA_HUMAN/PK3CA_HUMAN_2RD0_A_model_0010, continuing...\n",
      "-------------------------------------------------------------------------\n",
      "Simulating PK3CA_HUMAN from PK3CA_HUMAN_2RD0_A_model_0010 in implicit solvent for 100.0 ps (MPI rank: 0, GPU ID: 0)\n",
      "-------------------------------------------------------------------------\n",
      "Reading model...\n",
      "Constructing System object...\n",
      "Creating Context...\n",
      "Minimizing structure...\n",
      "Running dynamics...\n",
      "#\"Step\",\"Time (ps)\",\"Potential Energy (kJ/mole)\",\"Total Energy (kJ/mole)\",\"Temperature (K)\",\"Speed (ns/day)\"\n",
      "5000,10.000000000000009,-124311.5703125,-70162.17220172181,298.43821363648055,0\n",
      "10000,19.999999999999794,-124173.125,-69551.90485283383,301.03860681916905,81.1\n",
      "15000,29.99999999999425,-123948.21875,-69172.32543523423,301.89107028961223,80.9\n",
      "20000,40.00000000000292,-124110.03125,-70273.96755713038,296.71130683393113,80.7\n",
      "25000,50.00000000001514,-124021.328125,-69779.09678845294,298.949853341282,79\n",
      "30000,60.00000000002736,-124698.8046875,-70658.8800957778,297.83486285868,77.5\n",
      "35000,70.00000000001826,-125556.515625,-70349.33011892089,304.2680878673071,77\n",
      "40000,79.99999999999496,-124863.9921875,-70587.0541976695,299.1411350908228,76.4\n",
      "45000,89.99999999997165,-125493.8203125,-71340.93435843756,298.45743648577366,76\n",
      "50000,99.99999999994834,-125178.7265625,-71178.32987476606,297.6170093373737,75.6\n",
      "Created directory /home/hm0/Research/ensembler/Ensembler_lib/examples/simulations/PK3CA_HUMAN/PK3CA_HUMAN_4OVV_A_model_0006, continuing...\n",
      "-------------------------------------------------------------------------\n",
      "Simulating PK3CA_HUMAN from PK3CA_HUMAN_4OVV_A_model_0006 in implicit solvent for 100.0 ps (MPI rank: 0, GPU ID: 1)\n",
      "-------------------------------------------------------------------------\n",
      "Reading model...\n",
      "Constructing System object...\n",
      "Creating Context...\n",
      "Minimizing structure...\n",
      "Running dynamics...\n",
      "#\"Step\",\"Time (ps)\",\"Potential Energy (kJ/mole)\",\"Total Energy (kJ/mole)\",\"Temperature (K)\",\"Speed (ns/day)\"\n",
      "5000,10.000000000000009,-125137.03125,-70817.09800898819,299.37809849956005,0\n",
      "10000,19.999999999999794,-125661.3984375,-71664.3419097967,297.59860042743964,79.1\n",
      "15000,29.99999999999425,-125358.671875,-71096.29036347929,299.0609087257074,77.4\n",
      "20000,40.00000000000292,-125930.265625,-70853.79077346878,303.54769104652024,75.8\n",
      "25000,50.00000000001514,-125879.671875,-71422.58536295919,300.1340030641234,73.8\n",
      "30000,60.00000000002736,-126595.09375,-72043.17917483463,300.6566370868249,73\n",
      "35000,70.00000000001826,-126102.0,-72072.4709565579,297.7775689834621,72.5\n",
      "40000,79.99999999999496,-126529.1953125,-72585.37137519824,297.3052150946207,72.3\n",
      "45000,89.99999999997165,-126746.953125,-72877.94561432139,296.89287291740203,72.2\n",
      "50000,99.99999999994834,-126799.890625,-72571.39141005935,298.87417032384064,72.2\n",
      "Created directory /home/hm0/Research/ensembler/Ensembler_lib/examples/simulations/PK3CA_HUMAN/PK3CA_HUMAN_4JPS_A_model_0005, continuing...\n",
      "-------------------------------------------------------------------------\n",
      "Simulating PK3CA_HUMAN from PK3CA_HUMAN_4JPS_A_model_0005 in implicit solvent for 100.0 ps (MPI rank: 0, GPU ID: 0)\n",
      "-------------------------------------------------------------------------\n",
      "Reading model...\n",
      "Constructing System object...\n",
      "Creating Context...\n",
      "Minimizing structure...\n",
      "Running dynamics...\n",
      "#\"Step\",\"Time (ps)\",\"Potential Energy (kJ/mole)\",\"Total Energy (kJ/mole)\",\"Temperature (K)\",\"Speed (ns/day)\"\n",
      "5000,10.000000000000009,-126031.796875,-71629.01629990956,299.86218403231675,0\n",
      "10000,19.999999999999794,-126812.703125,-72103.90390106704,301.5489253978593,80\n",
      "15000,29.99999999999425,-126671.015625,-72581.80173464067,298.1338387174397,78.6\n",
      "20000,40.00000000000292,-126384.9921875,-72338.5080329103,297.8983170813109,78.4\n",
      "25000,50.00000000001514,-126743.0859375,-71730.7600811983,303.221931040805,77.1\n",
      "30000,60.00000000002736,-127596.8828125,-73040.02908571891,300.71141841479346,75.9\n",
      "35000,70.00000000001826,-126745.4765625,-72422.02737614588,299.42491808308915,75.3\n",
      "40000,79.99999999999496,-127063.0625,-72933.44950617896,298.3565141628658,74.8\n",
      "45000,89.99999999997165,-127152.5546875,-72729.1294007022,299.97597542819483,74.5\n",
      "50000,99.99999999994834,-126613.15625,-71510.71524337144,303.7186359059932,74.3\n",
      "Created directory /home/hm0/Research/ensembler/Ensembler_lib/examples/simulations/PK3CA_HUMAN/PK3CA_HUMAN_4JPS_A_model_0003, continuing...\n",
      "-------------------------------------------------------------------------\n",
      "Simulating PK3CA_HUMAN from PK3CA_HUMAN_4JPS_A_model_0003 in implicit solvent for 100.0 ps (MPI rank: 0, GPU ID: 1)\n",
      "-------------------------------------------------------------------------\n",
      "Reading model...\n",
      "Constructing System object...\n",
      "Creating Context...\n",
      "Minimizing structure...\n",
      "Running dynamics...\n",
      "#\"Step\",\"Time (ps)\",\"Potential Energy (kJ/mole)\",\"Total Energy (kJ/mole)\",\"Temperature (K)\",\"Speed (ns/day)\"\n",
      "5000,10.000000000000009,-124981.2890625,-70897.24737556581,298.1053300971279,0\n",
      "10000,19.999999999999794,-125806.5625,-71302.3524368233,300.4212522913526,78.7\n",
      "15000,29.99999999999425,-126145.59375,-71351.06842905236,302.02143828061355,79.2\n",
      "20000,40.00000000000292,-126403.8359375,-72076.69617175637,299.44526015355655,78\n",
      "25000,50.00000000001514,-127180.734375,-72882.78902096197,299.28434374518486,75.4\n",
      "30000,60.00000000002736,-126415.2890625,-71920.15046396479,300.37125136913846,74.2\n",
      "35000,70.00000000001826,-126599.0625,-72168.44685182092,300.01560791471445,73.6\n",
      "40000,79.99999999999496,-125955.3046875,-71380.37786045566,300.81103536929254,73.4\n",
      "45000,89.99999999997165,-126246.015625,-71184.60884334985,303.4924597401423,73.1\n",
      "50000,99.99999999994834,-126934.09375,-73065.68463155441,296.9167869334886,73\n",
      "Created directory /home/hm0/Research/ensembler/Ensembler_lib/examples/simulations/PK3CA_HUMAN/PK3CA_HUMAN_4WAF_A_model_0001, continuing...\n",
      "-------------------------------------------------------------------------\n",
      "Simulating PK3CA_HUMAN from PK3CA_HUMAN_4WAF_A_model_0001 in implicit solvent for 100.0 ps (MPI rank: 0, GPU ID: 0)\n",
      "-------------------------------------------------------------------------\n",
      "Reading model...\n",
      "Constructing System object...\n",
      "Creating Context...\n",
      "Minimizing structure...\n",
      "Running dynamics...\n",
      "#\"Step\",\"Time (ps)\",\"Potential Energy (kJ/mole)\",\"Total Energy (kJ/mole)\",\"Temperature (K)\",\"Speed (ns/day)\"\n",
      "5000,10.000000000000009,-125666.4921875,-71244.7956512419,299.966446744054,0\n",
      "10000,19.999999999999794,-125585.09375,-70794.80472791579,301.9980882640157,79.3\n",
      "15000,29.99999999999425,-126609.484375,-72139.23625427927,300.2340577742494,79.4\n",
      "20000,40.00000000000292,-127035.7578125,-72596.76348409685,300.0617902848937,79.6\n",
      "25000,50.00000000001514,-126328.671875,-71810.20752069319,300.4998203870441,77.9\n",
      "30000,60.00000000002736,-126731.40625,-72423.85268763686,299.3373031399538,76.8\n",
      "35000,70.00000000001826,-126933.796875,-72817.37884273054,298.283784976099,76.3\n",
      "40000,79.99999999999496,-126783.2265625,-72206.28248676955,300.8221542237033,75.9\n",
      "45000,89.99999999997165,-127136.2109375,-72756.23293336842,299.7364987519507,75.3\n",
      "50000,99.99999999994834,-126592.59375,-72437.74556866521,298.49560775996406,75.2\n",
      "Done.\n"
     ]
    }
   ],
   "source": [
    "ensembler.refinement.refine_implicit_md(\n",
    "        openmm_platform=None, \n",
    "        write_trajectory=True, \n",
    "        gpupn=2,\n",
    "        process_only_these_targets=None,\n",
    "        loglevel='debug'\n",
    "    )"
   ]
  },
  {
   "cell_type": "markdown",
   "metadata": {},
   "source": [
    "## explicit water simulation "
   ]
  },
  {
   "cell_type": "code",
   "execution_count": 1,
   "metadata": {},
   "outputs": [],
   "source": [
    "import sys, os\n",
    "\n",
    "sys.path.append('../')\n",
    "\n",
    "import ensembler\n",
    "\n",
    "search_string = 'accession:p42336 taxonomy:\"Homo sapiens (Human) [9606]\"' \n",
    "loglevel='debug'"
   ]
  },
  {
   "cell_type": "code",
   "execution_count": 2,
   "metadata": {},
   "outputs": [
    {
     "name": "stdout",
     "output_type": "stream",
     "text": [
      "Auto-selected OpenMM platform: OpenCL\n",
      "Processing targets...\n",
      "Processing PK3CA_HUMAN\n",
      "Starting PK3CA_HUMAN at 2019-01-09 17:19:12.153529\n",
      "-------------------------------------------------------------------------\n",
      "Simulating PK3CA_HUMAN from /home/hm0/Research/ensembler/Ensembler_lib/examples/simulations/PK3CA_HUMAN/PK3CA_HUMAN_5ITD_A_model_0009/implicit-refined.pdb in implicit solvent for 1000.0 ps (MPI rank: 0, GPU ID: 0)\n",
      "-------------------------------------------------------------------------\n",
      "Reading model...\n",
      "Constructing System object...\n",
      "Creating Context...\n",
      "Minimizing structure...\n",
      "Running dynamics...\n",
      "#\"Step\",\"Time (ps)\",\"Potential Energy (kJ/mole)\",\"Total Energy (kJ/mole)\",\"Temperature (K)\",\"Speed (ns/day)\"\n",
      "5000,10.000000000000009,-1841637.7430110741,-1462071.0782724759,300.92365767977515,0\n",
      "10000,19.999999999999794,-1848709.0275677461,-1469324.1823455007,300.77950963153665,18.1\n"
     ]
    },
    {
     "ename": "KeyboardInterrupt",
     "evalue": "",
     "output_type": "error",
     "traceback": [
      "\u001b[0;31m---------------------------------------------------------------------------\u001b[0m",
      "\u001b[0;31mKeyboardInterrupt\u001b[0m                         Traceback (most recent call last)",
      "\u001b[0;32m<ipython-input-2-ec0185be6eab>\u001b[0m in \u001b[0;36m<module>\u001b[0;34m\u001b[0m\n\u001b[1;32m      4\u001b[0m         \u001b[0mgpupn\u001b[0m\u001b[0;34m=\u001b[0m\u001b[0;36m2\u001b[0m\u001b[0;34m,\u001b[0m\u001b[0;34m\u001b[0m\u001b[0;34m\u001b[0m\u001b[0m\n\u001b[1;32m      5\u001b[0m         \u001b[0mprocess_only_these_targets\u001b[0m\u001b[0;34m=\u001b[0m\u001b[0;32mNone\u001b[0m\u001b[0;34m,\u001b[0m\u001b[0;34m\u001b[0m\u001b[0;34m\u001b[0m\u001b[0m\n\u001b[0;32m----> 6\u001b[0;31m         \u001b[0mloglevel\u001b[0m\u001b[0;34m=\u001b[0m\u001b[0;34m'debug'\u001b[0m\u001b[0;34m\u001b[0m\u001b[0;34m\u001b[0m\u001b[0m\n\u001b[0m\u001b[1;32m      7\u001b[0m     )\n",
      "\u001b[0;32m~/Research/ensembler/Ensembler_lib/ensembler/refinement.py\u001b[0m in \u001b[0;36mrefine_explicit_md\u001b[0;34m(openmm_platform, gpupn, process_only_these_targets, write_trajectory, ff, water_model, padding, nonbondedMethod, cutoff, constraints, rigidWater, ionic_strength, removeCMMotion, sim_length, timestep, temperature, pressure, collision_rate, minimization_tolerance, minimization_steps, nsteps_per_iteration, write_solvated_model, cpu_platform_threads, retry_failed_runs, serialize_at_start_of_each_sim, loglevel)\u001b[0m\n\u001b[1;32m    318\u001b[0m             \u001b[0mlogger\u001b[0m\u001b[0;34m.\u001b[0m\u001b[0minfo\u001b[0m\u001b[0;34m(\u001b[0m\u001b[0;34m\"-------------------------------------------------------------------------\"\u001b[0m\u001b[0;34m)\u001b[0m\u001b[0;34m\u001b[0m\u001b[0;34m\u001b[0m\u001b[0m\n\u001b[1;32m    319\u001b[0m \u001b[0;34m\u001b[0m\u001b[0m\n\u001b[0;32m--> 320\u001b[0;31m             \u001b[0msimulate_explicit_md\u001b[0m\u001b[0;34m(\u001b[0m\u001b[0;34m)\u001b[0m\u001b[0;34m\u001b[0m\u001b[0;34m\u001b[0m\u001b[0m\n\u001b[0m\u001b[1;32m    321\u001b[0m \u001b[0;34m\u001b[0m\u001b[0m\n\u001b[1;32m    322\u001b[0m     \u001b[0mmpistate\u001b[0m\u001b[0;34m.\u001b[0m\u001b[0mcomm\u001b[0m\u001b[0;34m.\u001b[0m\u001b[0mBarrier\u001b[0m\u001b[0;34m(\u001b[0m\u001b[0;34m)\u001b[0m\u001b[0;34m\u001b[0m\u001b[0;34m\u001b[0m\u001b[0m\n",
      "\u001b[0;32m~/Research/ensembler/Ensembler_lib/ensembler/refinement.py\u001b[0m in \u001b[0;36msimulate_explicit_md\u001b[0;34m()\u001b[0m\n\u001b[1;32m    275\u001b[0m                 potentialEnergy=True, temperature=True, totalEnergy=True)) \n\u001b[1;32m    276\u001b[0m         \u001b[0mlogger\u001b[0m\u001b[0;34m.\u001b[0m\u001b[0mdebug\u001b[0m\u001b[0;34m(\u001b[0m\u001b[0;34m\"Running dynamics...\"\u001b[0m\u001b[0;34m)\u001b[0m\u001b[0;34m\u001b[0m\u001b[0;34m\u001b[0m\u001b[0m\n\u001b[0;32m--> 277\u001b[0;31m         \u001b[0msimulation\u001b[0m\u001b[0;34m.\u001b[0m\u001b[0mstep\u001b[0m\u001b[0;34m(\u001b[0m\u001b[0mint\u001b[0m\u001b[0;34m(\u001b[0m\u001b[0;34m(\u001b[0m\u001b[0msim_length\u001b[0m \u001b[0;34m/\u001b[0m \u001b[0mtimestep\u001b[0m\u001b[0;34m)\u001b[0m\u001b[0;34m)\u001b[0m\u001b[0;34m)\u001b[0m\u001b[0;34m\u001b[0m\u001b[0;34m\u001b[0m\u001b[0m\n\u001b[0m\u001b[1;32m    278\u001b[0m \u001b[0;34m\u001b[0m\u001b[0m\n\u001b[1;32m    279\u001b[0m         \u001b[0mstate\u001b[0m \u001b[0;34m=\u001b[0m \u001b[0msimulation\u001b[0m\u001b[0;34m.\u001b[0m\u001b[0mcontext\u001b[0m\u001b[0;34m.\u001b[0m\u001b[0mgetState\u001b[0m\u001b[0;34m(\u001b[0m\u001b[0mgetPositions\u001b[0m\u001b[0;34m=\u001b[0m\u001b[0;32mTrue\u001b[0m\u001b[0;34m)\u001b[0m\u001b[0;34m\u001b[0m\u001b[0;34m\u001b[0m\u001b[0m\n",
      "\u001b[0;32m~/anaconda2/envs/py3/lib/python3.6/site-packages/simtk/openmm/app/simulation.py\u001b[0m in \u001b[0;36mstep\u001b[0;34m(self, steps)\u001b[0m\n\u001b[1;32m    130\u001b[0m     \u001b[0;32mdef\u001b[0m \u001b[0mstep\u001b[0m\u001b[0;34m(\u001b[0m\u001b[0mself\u001b[0m\u001b[0;34m,\u001b[0m \u001b[0msteps\u001b[0m\u001b[0;34m)\u001b[0m\u001b[0;34m:\u001b[0m\u001b[0;34m\u001b[0m\u001b[0;34m\u001b[0m\u001b[0m\n\u001b[1;32m    131\u001b[0m         \u001b[0;34m\"\"\"Advance the simulation by integrating a specified number of time steps.\"\"\"\u001b[0m\u001b[0;34m\u001b[0m\u001b[0;34m\u001b[0m\u001b[0m\n\u001b[0;32m--> 132\u001b[0;31m         \u001b[0mself\u001b[0m\u001b[0;34m.\u001b[0m\u001b[0m_simulate\u001b[0m\u001b[0;34m(\u001b[0m\u001b[0mendStep\u001b[0m\u001b[0;34m=\u001b[0m\u001b[0mself\u001b[0m\u001b[0;34m.\u001b[0m\u001b[0mcurrentStep\u001b[0m\u001b[0;34m+\u001b[0m\u001b[0msteps\u001b[0m\u001b[0;34m)\u001b[0m\u001b[0;34m\u001b[0m\u001b[0;34m\u001b[0m\u001b[0m\n\u001b[0m\u001b[1;32m    133\u001b[0m \u001b[0;34m\u001b[0m\u001b[0m\n\u001b[1;32m    134\u001b[0m     \u001b[0;32mdef\u001b[0m \u001b[0mrunForClockTime\u001b[0m\u001b[0;34m(\u001b[0m\u001b[0mself\u001b[0m\u001b[0;34m,\u001b[0m \u001b[0mtime\u001b[0m\u001b[0;34m,\u001b[0m \u001b[0mcheckpointFile\u001b[0m\u001b[0;34m=\u001b[0m\u001b[0;32mNone\u001b[0m\u001b[0;34m,\u001b[0m \u001b[0mstateFile\u001b[0m\u001b[0;34m=\u001b[0m\u001b[0;32mNone\u001b[0m\u001b[0;34m,\u001b[0m \u001b[0mcheckpointInterval\u001b[0m\u001b[0;34m=\u001b[0m\u001b[0;32mNone\u001b[0m\u001b[0;34m)\u001b[0m\u001b[0;34m:\u001b[0m\u001b[0;34m\u001b[0m\u001b[0;34m\u001b[0m\u001b[0m\n",
      "\u001b[0;32m~/anaconda2/envs/py3/lib/python3.6/site-packages/simtk/openmm/app/simulation.py\u001b[0m in \u001b[0;36m_simulate\u001b[0;34m(self, endStep, endTime)\u001b[0m\n\u001b[1;32m    195\u001b[0m             \u001b[0mstepsToGo\u001b[0m \u001b[0;34m=\u001b[0m \u001b[0mnextSteps\u001b[0m\u001b[0;34m\u001b[0m\u001b[0;34m\u001b[0m\u001b[0m\n\u001b[1;32m    196\u001b[0m             \u001b[0;32mwhile\u001b[0m \u001b[0mstepsToGo\u001b[0m \u001b[0;34m>\u001b[0m \u001b[0;36m10\u001b[0m\u001b[0;34m:\u001b[0m\u001b[0;34m\u001b[0m\u001b[0;34m\u001b[0m\u001b[0m\n\u001b[0;32m--> 197\u001b[0;31m                 \u001b[0mself\u001b[0m\u001b[0;34m.\u001b[0m\u001b[0mintegrator\u001b[0m\u001b[0;34m.\u001b[0m\u001b[0mstep\u001b[0m\u001b[0;34m(\u001b[0m\u001b[0;36m10\u001b[0m\u001b[0;34m)\u001b[0m \u001b[0;31m# Only take 10 steps at a time, to give Python more chances to respond to a control-c.\u001b[0m\u001b[0;34m\u001b[0m\u001b[0;34m\u001b[0m\u001b[0m\n\u001b[0m\u001b[1;32m    198\u001b[0m                 \u001b[0mstepsToGo\u001b[0m \u001b[0;34m-=\u001b[0m \u001b[0;36m10\u001b[0m\u001b[0;34m\u001b[0m\u001b[0;34m\u001b[0m\u001b[0m\n\u001b[1;32m    199\u001b[0m                 \u001b[0;32mif\u001b[0m \u001b[0mendTime\u001b[0m \u001b[0;32mis\u001b[0m \u001b[0;32mnot\u001b[0m \u001b[0;32mNone\u001b[0m \u001b[0;32mand\u001b[0m \u001b[0mdatetime\u001b[0m\u001b[0;34m.\u001b[0m\u001b[0mnow\u001b[0m\u001b[0;34m(\u001b[0m\u001b[0;34m)\u001b[0m \u001b[0;34m>=\u001b[0m \u001b[0mendTime\u001b[0m\u001b[0;34m:\u001b[0m\u001b[0;34m\u001b[0m\u001b[0;34m\u001b[0m\u001b[0m\n",
      "\u001b[0;32m~/anaconda2/envs/py3/lib/python3.6/site-packages/simtk/openmm/openmm.py\u001b[0m in \u001b[0;36mstep\u001b[0;34m(self, steps)\u001b[0m\n\u001b[1;32m   4434\u001b[0m             \u001b[0mthe\u001b[0m \u001b[0mnumber\u001b[0m \u001b[0mof\u001b[0m \u001b[0mtime\u001b[0m \u001b[0msteps\u001b[0m \u001b[0mto\u001b[0m \u001b[0mtake\u001b[0m\u001b[0;34m\u001b[0m\u001b[0;34m\u001b[0m\u001b[0m\n\u001b[1;32m   4435\u001b[0m         \"\"\"\n\u001b[0;32m-> 4436\u001b[0;31m         \u001b[0;32mreturn\u001b[0m \u001b[0m_openmm\u001b[0m\u001b[0;34m.\u001b[0m\u001b[0mLangevinIntegrator_step\u001b[0m\u001b[0;34m(\u001b[0m\u001b[0mself\u001b[0m\u001b[0;34m,\u001b[0m \u001b[0msteps\u001b[0m\u001b[0;34m)\u001b[0m\u001b[0;34m\u001b[0m\u001b[0;34m\u001b[0m\u001b[0m\n\u001b[0m\u001b[1;32m   4437\u001b[0m \u001b[0;34m\u001b[0m\u001b[0m\n\u001b[1;32m   4438\u001b[0m \u001b[0;34m\u001b[0m\u001b[0m\n",
      "\u001b[0;31mKeyboardInterrupt\u001b[0m: "
     ]
    }
   ],
   "source": [
    "ensembler.refinement.refine_explicit_md(\n",
    "        openmm_platform=None, \n",
    "        write_trajectory=True, \n",
    "        gpupn=2,\n",
    "        process_only_these_targets=None,\n",
    "        loglevel='debug'\n",
    "    )"
   ]
  },
  {
   "cell_type": "code",
   "execution_count": 3,
   "metadata": {},
   "outputs": [],
   "source": [
    "import os "
   ]
  },
  {
   "cell_type": "code",
   "execution_count": 13,
   "metadata": {},
   "outputs": [
    {
     "data": {
      "text/plain": [
       "['run_ens_serial.py',\n",
       " 'models',\n",
       " 'simulations',\n",
       " 'build_model.py',\n",
       " 'align.py',\n",
       " 'packaged_models',\n",
       " 'templates',\n",
       " 'example.ipynb',\n",
       " 'model.pdb',\n",
       " 'run_ens.py',\n",
       " '.ipynb_checkpoints',\n",
       " 'example-cluster.ipynb',\n",
       " 'targets',\n",
       " 'test_case',\n",
       " 'structures']"
      ]
     },
     "execution_count": 13,
     "metadata": {},
     "output_type": "execute_result"
    }
   ],
   "source": [
    "(os.listdir('./'))"
   ]
  },
  {
   "cell_type": "code",
   "execution_count": 20,
   "metadata": {},
   "outputs": [],
   "source": [
    "import glob \n",
    "import warnings"
   ]
  },
  {
   "cell_type": "code",
   "execution_count": 4,
   "metadata": {},
   "outputs": [],
   "source": [
    "import simtk.unit as unit\n",
    "import simtk.openmm as openmm\n",
    "import simtk.openmm.app as app\n",
    "import simtk.openmm.version"
   ]
  },
  {
   "cell_type": "code",
   "execution_count": 8,
   "metadata": {},
   "outputs": [
    {
     "ename": "NameError",
     "evalue": "name 'pdb_filename_solvated' is not defined",
     "output_type": "error",
     "traceback": [
      "\u001b[0;31m---------------------------------------------------------------------------\u001b[0m",
      "\u001b[0;31mNameError\u001b[0m                                 Traceback (most recent call last)",
      "\u001b[0;32m<ipython-input-8-fde024958397>\u001b[0m in \u001b[0;36m<module>\u001b[0;34m\u001b[0m\n\u001b[1;32m     11\u001b[0m \u001b[0mtopology\u001b[0m \u001b[0;34m=\u001b[0m \u001b[0mmodeller\u001b[0m\u001b[0;34m.\u001b[0m\u001b[0mgetTopology\u001b[0m\u001b[0;34m(\u001b[0m\u001b[0;34m)\u001b[0m\u001b[0;34m\u001b[0m\u001b[0;34m\u001b[0m\u001b[0m\n\u001b[1;32m     12\u001b[0m \u001b[0mpositions\u001b[0m \u001b[0;34m=\u001b[0m \u001b[0mmodeller\u001b[0m\u001b[0;34m.\u001b[0m\u001b[0mgetPositions\u001b[0m\u001b[0;34m(\u001b[0m\u001b[0;34m)\u001b[0m\u001b[0;34m\u001b[0m\u001b[0;34m\u001b[0m\u001b[0m\n\u001b[0;32m---> 13\u001b[0;31m \u001b[0mapp\u001b[0m\u001b[0;34m.\u001b[0m\u001b[0mPDBFile\u001b[0m\u001b[0;34m.\u001b[0m\u001b[0mwriteFile\u001b[0m\u001b[0;34m(\u001b[0m\u001b[0mtopology\u001b[0m\u001b[0;34m,\u001b[0m \u001b[0mpositions\u001b[0m\u001b[0;34m,\u001b[0m \u001b[0mopen\u001b[0m\u001b[0;34m(\u001b[0m\u001b[0mpdb_filename_solvated\u001b[0m\u001b[0;34m,\u001b[0m \u001b[0;34m'w'\u001b[0m\u001b[0;34m)\u001b[0m\u001b[0;34m)\u001b[0m\u001b[0;34m\u001b[0m\u001b[0;34m\u001b[0m\u001b[0m\n\u001b[0m",
      "\u001b[0;31mNameError\u001b[0m: name 'pdb_filename_solvated' is not defined"
     ]
    }
   ],
   "source": [
    "ff='amber99sbildn' \n",
    "water_model='tip3p'  \n",
    "ff_files = [ff+'.xml', water_model+'.xml']\n",
    "forcefield = app.ForceField(*ff_files)\n",
    "pdb = app.PDBFile('simulations/PK3CA_HUMAN/PK3CA_HUMAN_5ITD_A_model_0009/implicit-refined.pdb')\n",
    "# Set up Platform \n",
    "platform = openmm.Platform.getPlatformByName('OpenCL')\n",
    "\n",
    "modeller = app.Modeller(pdb.topology, pdb.positions)\n",
    "modeller.addSolvent(forcefield, model='tip3p', padding= 1.0 * unit.nanometer) \n",
    "topology = modeller.getTopology()\n",
    "positions = modeller.getPositions() \n",
    "app.PDBFile.writeFile(topology, positions, open(pdb_filename_solvated, 'w')) "
   ]
  },
  {
   "cell_type": "code",
   "execution_count": 9,
   "metadata": {},
   "outputs": [
    {
     "data": {
      "text/plain": [
       "Quantity(value=((11.6151, 0, 0), (0, 11.6151, 0), (0, 0, 11.6151)), unit=nanometer)"
      ]
     },
     "execution_count": 9,
     "metadata": {},
     "output_type": "execute_result"
    }
   ],
   "source": [
    "topology.getPeriodicBoxVectors()"
   ]
  },
  {
   "cell_type": "code",
   "execution_count": null,
   "metadata": {},
   "outputs": [],
   "source": []
  }
 ],
 "metadata": {
  "kernelspec": {
   "display_name": "Python 3",
   "language": "python",
   "name": "python3"
  },
  "language_info": {
   "codemirror_mode": {
    "name": "ipython",
    "version": 3
   },
   "file_extension": ".py",
   "mimetype": "text/x-python",
   "name": "python",
   "nbconvert_exporter": "python",
   "pygments_lexer": "ipython3",
   "version": "3.6.7"
  }
 },
 "nbformat": 4,
 "nbformat_minor": 2
}
