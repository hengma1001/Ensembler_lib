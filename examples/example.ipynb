{
 "cells": [
  {
   "cell_type": "code",
   "execution_count": 1,
   "metadata": {},
   "outputs": [],
   "source": [
    "import sys, os\n",
    "\n",
    "sys.path.append('../')\n",
    "\n",
    "import ensembler\n",
    "\n",
    "# from ensembler.build_env import Ensembler_proj_init, GatherTargetsFromUniprot, gather_templates_from_uniprot \n",
    "# from ensembler.modeling import model_template_loops, align_targets_and_templates\n",
    "# from ensembler.core import default_project_dirnames, mpistate \n",
    "\n",
    "search_string = 'accession:p42336 taxonomy:\"Homo sapiens (Human) [9606]\"' \n",
    "loglevel='debug'"
   ]
  },
  {
   "cell_type": "markdown",
   "metadata": {},
   "source": [
    "# Initializaion of the project"
   ]
  },
  {
   "cell_type": "code",
   "execution_count": 3,
   "metadata": {},
   "outputs": [
    {
     "name": "stdout",
     "output_type": "stream",
     "text": [
      "File ./targets exists, pass...\n",
      "File ./templates exists, pass...\n",
      "File ./structures exists, pass...\n",
      "File ./models exists, pass...\n",
      "File ./packaged_models exists, pass...\n",
      "File ./structures/pdb exists, pass...\n",
      "File ./structures/sifts exists, pass...\n",
      "File ./templates/structures-resolved exists, pass...\n",
      "File ./templates/structures-modeled-loops exists, pass...\n",
      "Done.\n"
     ]
    },
    {
     "data": {
      "text/plain": [
       "<ensembler.build_env.Ensembler_proj_init at 0x110504f98>"
      ]
     },
     "execution_count": 3,
     "metadata": {},
     "output_type": "execute_result"
    }
   ],
   "source": [
    "ensembler.build_env.Ensembler_proj_init()"
   ]
  },
  {
   "cell_type": "markdown",
   "metadata": {},
   "source": [
    "# Download target from Uniprot"
   ]
  },
  {
   "cell_type": "code",
   "execution_count": 4,
   "metadata": {},
   "outputs": [
    {
     "name": "stdout",
     "output_type": "stream",
     "text": [
      "Querying Uniprot web server...\n",
      "Number of entries returned from initial UniProt search: 2\n",
      "\n",
      "Set of unique domain names returned from the initial UniProt search using the query string 'accession:p42336 taxonomy:\"Homo sapiens (Human) [9606]\"':\n",
      "{'PIK helical', 'PI3K-RBD', 'PI3K/PI4K', 'PI3K-ABD', 'C2 PI3K-type'}\n",
      "\n",
      "Done.\n"
     ]
    },
    {
     "data": {
      "text/plain": [
       "<ensembler.build_env.GatherTargetsFromUniprot at 0x1191a1d68>"
      ]
     },
     "execution_count": 4,
     "metadata": {},
     "output_type": "execute_result"
    }
   ],
   "source": [
    "ensembler.build_env.GatherTargetsFromUniprot(search_string)"
   ]
  },
  {
   "cell_type": "markdown",
   "metadata": {},
   "source": [
    "# Download templates from Uniprot"
   ]
  },
  {
   "cell_type": "code",
   "execution_count": 5,
   "metadata": {
    "scrolled": false
   },
   "outputs": [
    {
     "name": "stdout",
     "output_type": "stream",
     "text": [
      "Set of unique domain names returned from the initial UniProt search using the query string 'accession:p42336 taxonomy:\"Homo sapiens (Human) [9606]\"':\n",
      "{'PIK helical', 'PI3K-RBD', 'PI3K/PI4K', 'PI3K-ABD', 'C2 PI3K-type'}\n",
      "\n",
      "45 PDB chains selected.\n",
      "Selected PDB chains: ['PK3CA_HUMAN_2ENQ_A', 'PK3CA_HUMAN_2RD0_A', 'PK3CA_HUMAN_3HHM_A', 'PK3CA_HUMAN_3HIZ_A', 'PK3CA_HUMAN_3ZIM_A', 'PK3CA_HUMAN_4JPS_A', 'PK3CA_HUMAN_4L1B_A', 'PK3CA_HUMAN_4L23_A', 'PK3CA_HUMAN_4L2Y_A', 'PK3CA_HUMAN_4OVU_A', 'PK3CA_HUMAN_4OVV_A', 'PK3CA_HUMAN_4TUU_A', 'PK3CA_HUMAN_4TV3_A', 'PK3CA_HUMAN_4WAF_A', 'PK3CA_HUMAN_4YKN_A', 'PK3CA_HUMAN_4ZOP_A', 'PK3CA_HUMAN_5DXH_A', 'PK3CA_HUMAN_5DXH_D', 'PK3CA_HUMAN_5DXT_A', 'PK3CA_HUMAN_5FI4_A', 'PK3CA_HUMAN_5ITD_A', 'PK3CA_HUMAN_5SW8_A', 'PK3CA_HUMAN_5SWG_A', 'PK3CA_HUMAN_5SWO_A', 'PK3CA_HUMAN_5SWP_A', 'PK3CA_HUMAN_5SWR_A', 'PK3CA_HUMAN_5SWT_A', 'PK3CA_HUMAN_5SX8_A', 'PK3CA_HUMAN_5SX9_A', 'PK3CA_HUMAN_5SXA_A', 'PK3CA_HUMAN_5SXB_A', 'PK3CA_HUMAN_5SXC_A', 'PK3CA_HUMAN_5SXD_A', 'PK3CA_HUMAN_5SXE_A', 'PK3CA_HUMAN_5SXF_A', 'PK3CA_HUMAN_5SXI_A', 'PK3CA_HUMAN_5SXJ_A', 'PK3CA_HUMAN_5SXK_A', 'PK3CA_HUMAN_5UBR_A', 'PK3CA_HUMAN_5UK8_A', 'PK3CA_HUMAN_5UKJ_A', 'PK3CA_HUMAN_5UL1_A', 'PK3CA_HUMAN_5XGH_A', 'PK3CA_HUMAN_5XGI_A', 'PK3CA_HUMAN_5XGJ_A']\n",
      "Extracting residues from PDB chains...\n",
      "45 templates selected.\n",
      "\n",
      "Writing template structures...\n",
      "Done.\n"
     ]
    }
   ],
   "source": [
    "ensembler.build_env.gather_templates_from_uniprot(search_string, loglevel='debug')"
   ]
  },
  {
   "cell_type": "markdown",
   "metadata": {
    "slideshow": {
     "slide_type": "-"
    }
   },
   "source": [
    "# Loop model"
   ]
  },
  {
   "cell_type": "raw",
   "metadata": {},
   "source": [
    "model_template_loops(loglevel='debug')"
   ]
  },
  {
   "cell_type": "markdown",
   "metadata": {},
   "source": [
    "# Alignment "
   ]
  },
  {
   "cell_type": "code",
   "execution_count": 2,
   "metadata": {},
   "outputs": [
    {
     "name": "stdout",
     "output_type": "stream",
     "text": [
      "Working on target PK3CA_HUMAN...\n",
      "File models/PK3CA_HUMAN exists, pass...\n",
      "File /Users/hm0/Documents/Research/Ensembler/Ensembler_lib/examples/models/PK3CA_HUMAN/PK3CA_HUMAN_2ENQ_A exists, pass...\n",
      "File /Users/hm0/Documents/Research/Ensembler/Ensembler_lib/examples/models/PK3CA_HUMAN/PK3CA_HUMAN_2RD0_A exists, pass...\n",
      "File /Users/hm0/Documents/Research/Ensembler/Ensembler_lib/examples/models/PK3CA_HUMAN/PK3CA_HUMAN_3HHM_A exists, pass...\n",
      "File /Users/hm0/Documents/Research/Ensembler/Ensembler_lib/examples/models/PK3CA_HUMAN/PK3CA_HUMAN_3HIZ_A exists, pass...\n",
      "File /Users/hm0/Documents/Research/Ensembler/Ensembler_lib/examples/models/PK3CA_HUMAN/PK3CA_HUMAN_3ZIM_A exists, pass...\n",
      "File /Users/hm0/Documents/Research/Ensembler/Ensembler_lib/examples/models/PK3CA_HUMAN/PK3CA_HUMAN_4JPS_A exists, pass...\n",
      "File /Users/hm0/Documents/Research/Ensembler/Ensembler_lib/examples/models/PK3CA_HUMAN/PK3CA_HUMAN_4L1B_A exists, pass...\n",
      "File /Users/hm0/Documents/Research/Ensembler/Ensembler_lib/examples/models/PK3CA_HUMAN/PK3CA_HUMAN_4L23_A exists, pass...\n",
      "File /Users/hm0/Documents/Research/Ensembler/Ensembler_lib/examples/models/PK3CA_HUMAN/PK3CA_HUMAN_4L2Y_A exists, pass...\n",
      "File /Users/hm0/Documents/Research/Ensembler/Ensembler_lib/examples/models/PK3CA_HUMAN/PK3CA_HUMAN_4OVU_A exists, pass...\n",
      "File /Users/hm0/Documents/Research/Ensembler/Ensembler_lib/examples/models/PK3CA_HUMAN/PK3CA_HUMAN_4OVV_A exists, pass...\n",
      "File /Users/hm0/Documents/Research/Ensembler/Ensembler_lib/examples/models/PK3CA_HUMAN/PK3CA_HUMAN_4TUU_A exists, pass...\n",
      "File /Users/hm0/Documents/Research/Ensembler/Ensembler_lib/examples/models/PK3CA_HUMAN/PK3CA_HUMAN_4TV3_A exists, pass...\n",
      "File /Users/hm0/Documents/Research/Ensembler/Ensembler_lib/examples/models/PK3CA_HUMAN/PK3CA_HUMAN_4WAF_A exists, pass...\n",
      "File /Users/hm0/Documents/Research/Ensembler/Ensembler_lib/examples/models/PK3CA_HUMAN/PK3CA_HUMAN_4YKN_A exists, pass...\n",
      "File /Users/hm0/Documents/Research/Ensembler/Ensembler_lib/examples/models/PK3CA_HUMAN/PK3CA_HUMAN_4ZOP_A exists, pass...\n",
      "File /Users/hm0/Documents/Research/Ensembler/Ensembler_lib/examples/models/PK3CA_HUMAN/PK3CA_HUMAN_5DXH_A exists, pass...\n",
      "File /Users/hm0/Documents/Research/Ensembler/Ensembler_lib/examples/models/PK3CA_HUMAN/PK3CA_HUMAN_5DXH_D exists, pass...\n",
      "File /Users/hm0/Documents/Research/Ensembler/Ensembler_lib/examples/models/PK3CA_HUMAN/PK3CA_HUMAN_5DXT_A exists, pass...\n",
      "File /Users/hm0/Documents/Research/Ensembler/Ensembler_lib/examples/models/PK3CA_HUMAN/PK3CA_HUMAN_5FI4_A exists, pass...\n",
      "File /Users/hm0/Documents/Research/Ensembler/Ensembler_lib/examples/models/PK3CA_HUMAN/PK3CA_HUMAN_5ITD_A exists, pass...\n",
      "File /Users/hm0/Documents/Research/Ensembler/Ensembler_lib/examples/models/PK3CA_HUMAN/PK3CA_HUMAN_5SW8_A exists, pass...\n",
      "File /Users/hm0/Documents/Research/Ensembler/Ensembler_lib/examples/models/PK3CA_HUMAN/PK3CA_HUMAN_5SWG_A exists, pass...\n",
      "File /Users/hm0/Documents/Research/Ensembler/Ensembler_lib/examples/models/PK3CA_HUMAN/PK3CA_HUMAN_5SWO_A exists, pass...\n",
      "File /Users/hm0/Documents/Research/Ensembler/Ensembler_lib/examples/models/PK3CA_HUMAN/PK3CA_HUMAN_5SWP_A exists, pass...\n",
      "File /Users/hm0/Documents/Research/Ensembler/Ensembler_lib/examples/models/PK3CA_HUMAN/PK3CA_HUMAN_5SWR_A exists, pass...\n",
      "File /Users/hm0/Documents/Research/Ensembler/Ensembler_lib/examples/models/PK3CA_HUMAN/PK3CA_HUMAN_5SWT_A exists, pass...\n",
      "File /Users/hm0/Documents/Research/Ensembler/Ensembler_lib/examples/models/PK3CA_HUMAN/PK3CA_HUMAN_5SX8_A exists, pass...\n",
      "File /Users/hm0/Documents/Research/Ensembler/Ensembler_lib/examples/models/PK3CA_HUMAN/PK3CA_HUMAN_5SX9_A exists, pass...\n",
      "File /Users/hm0/Documents/Research/Ensembler/Ensembler_lib/examples/models/PK3CA_HUMAN/PK3CA_HUMAN_5SXA_A exists, pass...\n",
      "File /Users/hm0/Documents/Research/Ensembler/Ensembler_lib/examples/models/PK3CA_HUMAN/PK3CA_HUMAN_5SXB_A exists, pass...\n",
      "File /Users/hm0/Documents/Research/Ensembler/Ensembler_lib/examples/models/PK3CA_HUMAN/PK3CA_HUMAN_5SXC_A exists, pass...\n",
      "File /Users/hm0/Documents/Research/Ensembler/Ensembler_lib/examples/models/PK3CA_HUMAN/PK3CA_HUMAN_5SXD_A exists, pass...\n",
      "File /Users/hm0/Documents/Research/Ensembler/Ensembler_lib/examples/models/PK3CA_HUMAN/PK3CA_HUMAN_5SXE_A exists, pass...\n",
      "File /Users/hm0/Documents/Research/Ensembler/Ensembler_lib/examples/models/PK3CA_HUMAN/PK3CA_HUMAN_5SXF_A exists, pass...\n",
      "File /Users/hm0/Documents/Research/Ensembler/Ensembler_lib/examples/models/PK3CA_HUMAN/PK3CA_HUMAN_5SXI_A exists, pass...\n",
      "File /Users/hm0/Documents/Research/Ensembler/Ensembler_lib/examples/models/PK3CA_HUMAN/PK3CA_HUMAN_5SXJ_A exists, pass...\n",
      "File /Users/hm0/Documents/Research/Ensembler/Ensembler_lib/examples/models/PK3CA_HUMAN/PK3CA_HUMAN_5SXK_A exists, pass...\n",
      "File /Users/hm0/Documents/Research/Ensembler/Ensembler_lib/examples/models/PK3CA_HUMAN/PK3CA_HUMAN_5UBR_A exists, pass...\n",
      "File /Users/hm0/Documents/Research/Ensembler/Ensembler_lib/examples/models/PK3CA_HUMAN/PK3CA_HUMAN_5UK8_A exists, pass...\n",
      "File /Users/hm0/Documents/Research/Ensembler/Ensembler_lib/examples/models/PK3CA_HUMAN/PK3CA_HUMAN_5UKJ_A exists, pass...\n",
      "File /Users/hm0/Documents/Research/Ensembler/Ensembler_lib/examples/models/PK3CA_HUMAN/PK3CA_HUMAN_5UL1_A exists, pass...\n",
      "File /Users/hm0/Documents/Research/Ensembler/Ensembler_lib/examples/models/PK3CA_HUMAN/PK3CA_HUMAN_5XGH_A exists, pass...\n",
      "File /Users/hm0/Documents/Research/Ensembler/Ensembler_lib/examples/models/PK3CA_HUMAN/PK3CA_HUMAN_5XGI_A exists, pass...\n",
      "File /Users/hm0/Documents/Research/Ensembler/Ensembler_lib/examples/models/PK3CA_HUMAN/PK3CA_HUMAN_5XGJ_A exists, pass...\n",
      "Done.\n"
     ]
    }
   ],
   "source": [
    "ensembler.modeling.align_targets_and_templates(loglevel=loglevel) "
   ]
  },
  {
   "cell_type": "markdown",
   "metadata": {},
   "source": [
    "# Modeling "
   ]
  },
  {
   "cell_type": "code",
   "execution_count": 2,
   "metadata": {},
   "outputs": [
    {
     "name": "stdout",
     "output_type": "stream",
     "text": [
      "=========================================================================\n",
      "Working on target \"PK3CA_HUMAN\"\n",
      "=========================================================================\n",
      "Skipping template PK3CA_HUMAN_2ENQ_A for low sequence matching ratio 0.141000. \n",
      "-------------------------------------------------------------------------\n",
      "Modelling \"PK3CA_HUMAN\" => \"PK3CA_HUMAN_2RD0_A\"\n",
      "   Generating 10 model(s)\n",
      "-------------------------------------------------------------------------\n"
     ]
    },
    {
     "ename": "KeyboardInterrupt",
     "evalue": "",
     "output_type": "error",
     "traceback": [
      "\u001b[0;31m---------------------------------------------------------------------------\u001b[0m",
      "\u001b[0;31mKeyboardInterrupt\u001b[0m                         Traceback (most recent call last)",
      "\u001b[0;32m<ipython-input-2-b9fbba659b30>\u001b[0m in \u001b[0;36m<module>\u001b[0;34m\u001b[0m\n\u001b[0;32m----> 1\u001b[0;31m \u001b[0mensembler\u001b[0m\u001b[0;34m.\u001b[0m\u001b[0mmodeling\u001b[0m\u001b[0;34m.\u001b[0m\u001b[0mbuild_models\u001b[0m\u001b[0;34m(\u001b[0m\u001b[0mloglevel\u001b[0m\u001b[0;34m=\u001b[0m\u001b[0mloglevel\u001b[0m\u001b[0;34m,\u001b[0m \u001b[0mnumber_of_models\u001b[0m\u001b[0;34m=\u001b[0m\u001b[0;36m10\u001b[0m\u001b[0;34m,\u001b[0m \u001b[0msequence_matching_ratio\u001b[0m\u001b[0;34m=\u001b[0m\u001b[0;36m0.95\u001b[0m\u001b[0;34m)\u001b[0m\u001b[0;34m\u001b[0m\u001b[0;34m\u001b[0m\u001b[0m\n\u001b[0m",
      "\u001b[0;32m../ensembler/utils.py\u001b[0m in \u001b[0;36mprint_done\u001b[0;34m(*args, **kwargs)\u001b[0m\n",
      "\u001b[0;32m../ensembler/modeling.py\u001b[0m in \u001b[0;36mbuild_models\u001b[0;34m(process_only_these_targets, process_only_these_templates, model_seqid_cutoff, write_modeller_restraints_file, number_of_models, sequence_matching_ratio, loglevel)\u001b[0m\n",
      "\u001b[0;32m../ensembler/modeling.py\u001b[0m in \u001b[0;36mbuild_model\u001b[0;34m(target, template_resolved_seq, target_setup_data, write_modeller_restraints_file, number_of_models, loglevel)\u001b[0m\n",
      "\u001b[0;32m../ensembler/modeling.py\u001b[0m in \u001b[0;36mrun_rosettaCM\u001b[0;34m(target, template, model_dir, model_pdbfilepath, model_pdbfilepath_uncompressed, template_structure_dir, number_of_models)\u001b[0m\n",
      "\u001b[0;32m~/anaconda2/envs/py3/lib/python3.6/subprocess.py\u001b[0m in \u001b[0;36mwait\u001b[0;34m(self, timeout, endtime)\u001b[0m\n\u001b[1;32m   1455\u001b[0m                         \u001b[0;32mif\u001b[0m \u001b[0mself\u001b[0m\u001b[0;34m.\u001b[0m\u001b[0mreturncode\u001b[0m \u001b[0;32mis\u001b[0m \u001b[0;32mnot\u001b[0m \u001b[0;32mNone\u001b[0m\u001b[0;34m:\u001b[0m\u001b[0;34m\u001b[0m\u001b[0;34m\u001b[0m\u001b[0m\n\u001b[1;32m   1456\u001b[0m                             \u001b[0;32mbreak\u001b[0m  \u001b[0;31m# Another thread waited.\u001b[0m\u001b[0;34m\u001b[0m\u001b[0;34m\u001b[0m\u001b[0m\n\u001b[0;32m-> 1457\u001b[0;31m                         \u001b[0;34m(\u001b[0m\u001b[0mpid\u001b[0m\u001b[0;34m,\u001b[0m \u001b[0msts\u001b[0m\u001b[0;34m)\u001b[0m \u001b[0;34m=\u001b[0m \u001b[0mself\u001b[0m\u001b[0;34m.\u001b[0m\u001b[0m_try_wait\u001b[0m\u001b[0;34m(\u001b[0m\u001b[0;36m0\u001b[0m\u001b[0;34m)\u001b[0m\u001b[0;34m\u001b[0m\u001b[0;34m\u001b[0m\u001b[0m\n\u001b[0m\u001b[1;32m   1458\u001b[0m                         \u001b[0;31m# Check the pid and loop as waitpid has been known to\u001b[0m\u001b[0;34m\u001b[0m\u001b[0;34m\u001b[0m\u001b[0;34m\u001b[0m\u001b[0m\n\u001b[1;32m   1459\u001b[0m                         \u001b[0;31m# return 0 even without WNOHANG in odd situations.\u001b[0m\u001b[0;34m\u001b[0m\u001b[0;34m\u001b[0m\u001b[0;34m\u001b[0m\u001b[0m\n",
      "\u001b[0;32m~/anaconda2/envs/py3/lib/python3.6/subprocess.py\u001b[0m in \u001b[0;36m_try_wait\u001b[0;34m(self, wait_flags)\u001b[0m\n\u001b[1;32m   1402\u001b[0m             \u001b[0;34m\"\"\"All callers to this function MUST hold self._waitpid_lock.\"\"\"\u001b[0m\u001b[0;34m\u001b[0m\u001b[0;34m\u001b[0m\u001b[0m\n\u001b[1;32m   1403\u001b[0m             \u001b[0;32mtry\u001b[0m\u001b[0;34m:\u001b[0m\u001b[0;34m\u001b[0m\u001b[0;34m\u001b[0m\u001b[0m\n\u001b[0;32m-> 1404\u001b[0;31m                 \u001b[0;34m(\u001b[0m\u001b[0mpid\u001b[0m\u001b[0;34m,\u001b[0m \u001b[0msts\u001b[0m\u001b[0;34m)\u001b[0m \u001b[0;34m=\u001b[0m \u001b[0mos\u001b[0m\u001b[0;34m.\u001b[0m\u001b[0mwaitpid\u001b[0m\u001b[0;34m(\u001b[0m\u001b[0mself\u001b[0m\u001b[0;34m.\u001b[0m\u001b[0mpid\u001b[0m\u001b[0;34m,\u001b[0m \u001b[0mwait_flags\u001b[0m\u001b[0;34m)\u001b[0m\u001b[0;34m\u001b[0m\u001b[0;34m\u001b[0m\u001b[0m\n\u001b[0m\u001b[1;32m   1405\u001b[0m             \u001b[0;32mexcept\u001b[0m \u001b[0mChildProcessError\u001b[0m\u001b[0;34m:\u001b[0m\u001b[0;34m\u001b[0m\u001b[0;34m\u001b[0m\u001b[0m\n\u001b[1;32m   1406\u001b[0m                 \u001b[0;31m# This happens if SIGCLD is set to be ignored or waiting\u001b[0m\u001b[0;34m\u001b[0m\u001b[0;34m\u001b[0m\u001b[0;34m\u001b[0m\u001b[0m\n",
      "\u001b[0;31mKeyboardInterrupt\u001b[0m: "
     ]
    }
   ],
   "source": [
    "ensembler.modeling.build_models(loglevel=loglevel, number_of_models=10, sequence_matching_ratio=0.95)  "
   ]
  },
  {
   "cell_type": "markdown",
   "metadata": {},
   "source": [
    "# Clustering"
   ]
  },
  {
   "cell_type": "code",
   "execution_count": 2,
   "metadata": {},
   "outputs": [
    {
     "name": "stdout",
     "output_type": "stream",
     "text": [
      "Skipping templates with sequence matching ratios lower than 0.950000. \n",
      "Building a list of valid models...\n",
      "Constructing a trajectory containing all valid models...\n",
      "Conducting RMSD-based clustering...\n"
     ]
    },
    {
     "name": "stderr",
     "output_type": "stream",
     "text": [
      "/Users/hm0/anaconda2/envs/py3/lib/python3.6/site-packages/sklearn/cross_validation.py:41: DeprecationWarning: This module was deprecated in version 0.18 in favor of the model_selection module into which all the refactored classes and functions are moved. Also note that the interface of the new CV iterators are different from that of this module. This module will be removed in 0.20.\n",
      "  \"This module will be removed in 0.20.\", DeprecationWarning)\n",
      "/Users/hm0/anaconda2/envs/py3/lib/python3.6/site-packages/sklearn/grid_search.py:42: DeprecationWarning: This module was deprecated in version 0.18 in favor of the model_selection module into which all the refactored classes and functions are moved. This module will be removed in 0.20.\n",
      "  DeprecationWarning)\n"
     ]
    },
    {
     "name": "stdout",
     "output_type": "stream",
     "text": [
      "19 unique models (from original set of 330) using cutoff of 0.060 nm\n",
      "Done.\n"
     ]
    }
   ],
   "source": [
    "ensembler.modeling.cluster_models(loglevel=loglevel, sequence_matching_ratio=0.95) "
   ]
  },
  {
   "cell_type": "markdown",
   "metadata": {},
   "source": [
    "# MD simulation \n",
    "## implicit water simulation "
   ]
  },
  {
   "cell_type": "code",
   "execution_count": null,
   "metadata": {},
   "outputs": [],
   "source": [
    "ensembler.refinement.refine_implicit_md(\n",
    "        openmm_platform=args['--openmm_platform'],\n",
    "        gpupn=gpupn,\n",
    "        sim_length=sim_length,\n",
    "        process_only_these_targets=targets,\n",
    "        process_only_these_templates=templates,\n",
    "        model_seqid_cutoff=model_seqid_cutoff,\n",
    "        retry_failed_runs=args['--retry_failed_runs'],\n",
    "        ff=args['--ff'],\n",
    "        implicit_water_model=args['--water_model'],\n",
    "        loglevel=loglevel,\n",
    "        **api_params\n",
    "    )"
   ]
  },
  {
   "cell_type": "code",
   "execution_count": 3,
   "metadata": {},
   "outputs": [],
   "source": [
    "import ensembler.core as core\n",
    "targets, templates_resolved_seq = core.get_targets_and_templates()"
   ]
  },
  {
   "cell_type": "code",
   "execution_count": 4,
   "metadata": {},
   "outputs": [],
   "source": [
    "import glob \n",
    "import numpy as np"
   ]
  },
  {
   "cell_type": "code",
   "execution_count": 5,
   "metadata": {},
   "outputs": [],
   "source": [
    "sequence_matching_ratio = 0.95"
   ]
  },
  {
   "cell_type": "code",
   "execution_count": 6,
   "metadata": {},
   "outputs": [
    {
     "name": "stdout",
     "output_type": "stream",
     "text": [
      "Skipping templates with sequence matching ratios lower than 0.950000. \n"
     ]
    }
   ],
   "source": [
    "for target in targets: \n",
    "    models_target_dir = os.path.join(core.default_project_dirnames.models, target.id) \n",
    "    if sequence_matching_ratio:\n",
    "            seq_ratio_filepath = os.path.join(core.default_project_dirnames.models, target.id, 'sequence-ratios.txt')\n",
    "            seq_ratios = open(seq_ratio_filepath).read().split()\n",
    "            seq_ratio_dict = dict(zip(seq_ratios[::2], [float(i) for i in seq_ratios[1::2]]))\n",
    "            templates_resolved_seq = [template for template in templates_resolved_seq if seq_ratio_dict[template.id] > sequence_matching_ratio]\n",
    "            print(\"Skipping templates with sequence matching ratios lower than %f. \" % (sequence_matching_ratio))\n",
    "    model_pdbs = [glob.glob(os.path.join(models_target_dir, template.id, 'model*.pdb')) for template in templates_resolved_seq]\n",
    "    model_pdbfilenames_uncompressed = {\n",
    "            template.id: glob.glob(os.path.join(models_target_dir, template.id, 'model*.pdb')) for template in templates_resolved_seq   \n",
    "        }"
   ]
  },
  {
   "cell_type": "code",
   "execution_count": 7,
   "metadata": {},
   "outputs": [],
   "source": [
    "valid_template_pdbs = [\n",
    "            template_pdb for template_pdb in np.hstack(model_pdbfilenames_uncompressed.values())\n",
    "            if os.path.exists(template_pdb)\n",
    "        ]"
   ]
  },
  {
   "cell_type": "raw",
   "metadata": {},
   "source": [
    "valid_template_pdbs"
   ]
  },
  {
   "cell_type": "code",
   "execution_count": 8,
   "metadata": {},
   "outputs": [],
   "source": [
    "import mdtraj "
   ]
  },
  {
   "cell_type": "code",
   "execution_count": 9,
   "metadata": {},
   "outputs": [],
   "source": [
    "traj = mdtraj.load(valid_template_pdbs) "
   ]
  },
  {
   "cell_type": "code",
   "execution_count": 10,
   "metadata": {},
   "outputs": [],
   "source": [
    "CAatoms = [a.index for a in traj.topology.atoms if a.name == 'CA']"
   ]
  },
  {
   "cell_type": "code",
   "execution_count": 11,
   "metadata": {},
   "outputs": [],
   "source": [
    "reduced_traj = traj.atom_slice(CAatoms)"
   ]
  },
  {
   "cell_type": "raw",
   "metadata": {},
   "source": [
    "import msmbuilder.cluster\n",
    "cluster = msmbuilder.cluster.RegularSpatial(0.1, metric='rmsd')\n",
    "cluster_labels = cluster.fit_predict([traj])[0]\n",
    "\n",
    "\n",
    "for i in set(cluster_labels): \n",
    "    print(valid_template_pdbs[i])"
   ]
  },
  {
   "cell_type": "code",
   "execution_count": 13,
   "metadata": {},
   "outputs": [],
   "source": [
    "rmsds = mdtraj.rmsd(reduced_traj, reduced_traj, 0)  "
   ]
  },
  {
   "cell_type": "code",
   "execution_count": 14,
   "metadata": {},
   "outputs": [],
   "source": [
    "import matplotlib.pyplot as plt"
   ]
  },
  {
   "cell_type": "code",
   "execution_count": 16,
   "metadata": {},
   "outputs": [
    {
     "data": {
      "text/plain": [
       "[<matplotlib.lines.Line2D at 0x113d6ef28>]"
      ]
     },
     "execution_count": 16,
     "metadata": {},
     "output_type": "execute_result"
    },
    {
     "data": {
      "image/png": "[encoded data removed]",
      "text/plain": [
       "<Figure size 432x288 with 1 Axes>"
      ]
     },
     "metadata": {
      "needs_background": "light"
     },
     "output_type": "display_data"
    }
   ],
   "source": [
    "plt.plot(rmsds)"
   ]
  },
  {
   "cell_type": "code",
   "execution_count": 17,
   "metadata": {},
   "outputs": [],
   "source": [
    "from sklearn.cluster import AgglomerativeClustering"
   ]
  },
  {
   "cell_type": "code",
   "execution_count": 19,
   "metadata": {},
   "outputs": [],
   "source": [
    "cluster = AgglomerativeClustering(n_clusters=10).fit(rmsds.reshape(-1, 1))\n"
   ]
  },
  {
   "cell_type": "code",
   "execution_count": 20,
   "metadata": {},
   "outputs": [
    {
     "data": {
      "text/plain": [
       "array([5, 0, 8, 8, 0, 0, 0, 0, 0, 0, 8, 4, 8, 8, 8, 8, 4, 8, 4, 8, 3, 3, 1,\n",
       "       3, 3, 9, 3, 1, 3, 3, 3, 3, 3, 7, 3, 7, 3, 7, 1, 1, 6, 9, 9, 7, 2, 7,\n",
       "       7, 7, 6, 2, 9, 7, 7, 7, 9, 9, 7, 2, 6, 3, 7, 7, 9, 4, 2, 6, 6, 9, 4,\n",
       "       6, 3, 3, 3, 3, 7, 9, 3, 3, 3, 1, 9, 3, 7, 1, 1, 6, 1, 7, 7, 1, 1, 1,\n",
       "       1, 3, 1, 1, 1, 3, 3, 1, 4, 4, 4, 4, 4, 4, 8, 2, 4, 4, 4, 4, 8, 8, 8,\n",
       "       4, 8, 4, 8, 8, 1, 3, 3, 3, 3, 3, 3, 3, 3, 3, 1, 1, 3, 3, 1, 1, 3, 3,\n",
       "       3, 3, 6, 4, 6, 9, 6, 7, 2, 7, 9, 7, 6, 9, 9, 7, 9, 7, 2, 9, 9, 6, 7,\n",
       "       6, 7, 9, 9, 7, 9, 9, 3, 6, 9, 9, 7, 6, 7, 3, 6, 9, 7, 7, 6, 6, 6, 7,\n",
       "       2, 7, 7, 4, 6, 6, 9, 9, 7, 7, 2, 7, 2, 9, 6, 9, 9, 7, 9, 7, 9, 7, 7,\n",
       "       7, 7, 7, 6, 6, 9, 8, 2, 6, 8, 7, 7, 2, 3, 9, 9, 7, 9, 3, 7, 7, 3, 7,\n",
       "       9, 6, 9, 7, 2, 3, 7, 3, 3, 7, 9, 2, 7, 7, 2, 2, 2, 7, 6, 6, 9, 2, 7,\n",
       "       2, 9, 6, 9, 6, 7, 9, 9, 9, 7, 3, 7, 7, 7, 9, 7, 9, 2, 9, 6, 7, 6, 2,\n",
       "       6, 9, 2, 9, 4, 7, 8, 2, 4, 4, 6, 4, 6, 7, 9, 7, 6, 7, 7, 9, 9, 9, 7,\n",
       "       7, 3, 3, 9, 3, 3, 3, 3, 3, 7, 3, 1, 1, 3, 1, 3, 7, 1, 3, 3, 7, 7, 3,\n",
       "       1, 7, 3, 3, 3, 1, 7, 1])"
      ]
     },
     "execution_count": 20,
     "metadata": {},
     "output_type": "execute_result"
    }
   ],
   "source": [
    "cluster.labels_"
   ]
  },
  {
   "cell_type": "code",
   "execution_count": 40,
   "metadata": {},
   "outputs": [
    {
     "data": {
      "text/plain": [
       "array([ 0,  1,  2,  5,  5,  5,  4,  5,  5,  5,  6,  6,  6,  6,  6,  6,  6,\n",
       "        6,  6,  6, 15, 15,  7,  8,  9, 15, 11, 15, 15, 12, 14, 14, 14, 14,\n",
       "       13, 14, 14, 14, 14, 15, 16, 15, 15, 15, 15, 15, 15, 15, 18, 15, 15,\n",
       "       15, 15, 15, 15, 15, 15, 15, 25, 15, 15, 15, 15, 24,  3, 25, 25, 15,\n",
       "       25, 15, 15, 15, 15, 15, 15, 15, 15, 15, 15, 15, 20, 15, 19, 15, 15,\n",
       "       20, 15, 21, 15, 15, 15, 15, 15, 15, 15, 15, 15, 15, 15, 15,  6, 22,\n",
       "        6,  6, 22, 22,  6, 23,  6,  6,  6,  6,  6,  6,  6,  6,  6,  6,  6,\n",
       "        6, 15, 15, 15, 15, 15, 15, 15, 15, 15, 15, 15, 15, 15, 15, 15, 15,\n",
       "       15, 15, 15, 15, 25, 24, 15, 15, 25, 15, 24, 15, 15, 15, 15, 15, 15,\n",
       "       15, 15, 15, 24, 15, 15, 15, 15, 15, 15, 15, 15, 15, 15, 15, 15, 15,\n",
       "       15, 15, 15, 15, 15, 15, 15, 15, 15, 15, 15,  3, 15, 15, 25, 15, 15,\n",
       "       17, 15, 15, 15, 15, 15, 15, 15, 15, 25, 15, 15, 15, 15, 15, 15, 15,\n",
       "       15, 15, 15, 15, 15, 15, 15, 15, 15,  6, 17, 15,  6,  3, 15, 25, 15,\n",
       "       15, 15, 15, 15, 15, 15, 15, 15, 15, 15, 15, 15, 15, 25, 15, 15, 15,\n",
       "       15, 15, 15,  3, 15, 15, 15, 25, 24, 15, 15,  3, 15,  3, 15, 24, 15,\n",
       "       15, 15, 15, 15, 15, 15, 15, 15, 15, 15, 15, 15, 15, 15, 15, 25, 15,\n",
       "       15, 15, 15, 25, 15, 15, 25, 15, 24, 15,  6, 15,  6,  6, 15,  6, 15,\n",
       "       15, 15, 15, 15, 15, 15, 15, 15, 15, 15, 15, 15, 15, 15, 15, 15, 15,\n",
       "       15, 15, 15, 15, 15, 15, 15, 15, 15, 15, 15, 15, 15, 15, 10, 15, 15,\n",
       "       15, 15, 15, 15, 15, 15, 15])"
      ]
     },
     "execution_count": 40,
     "metadata": {},
     "output_type": "execute_result"
    }
   ],
   "source": [
    "x_label = 0 \n",
    "for i in set(cluster_labels): \n",
    "    cluster_labels[cluster_labels==i] = x_label\n",
    "    x_label += 1 \n",
    "    \n",
    "cluster_labels"
   ]
  },
  {
   "cell_type": "code",
   "execution_count": null,
   "metadata": {},
   "outputs": [],
   "source": []
  },
  {
   "cell_type": "code",
   "execution_count": 21,
   "metadata": {},
   "outputs": [
    {
     "data": {
      "text/plain": [
       "<matplotlib.colorbar.Colorbar at 0x112956550>"
      ]
     },
     "execution_count": 21,
     "metadata": {},
     "output_type": "execute_result"
    },
    {
     "data": {
      "image/png": "[encoded data removed]",
      "text/plain": [
       "<Figure size 432x288 with 2 Axes>"
      ]
     },
     "metadata": {
      "needs_background": "light"
     },
     "output_type": "display_data"
    }
   ],
   "source": [
    "plt.scatter(np.arange(len(rmsds)), rmsds, c=cluster.labels_) \n",
    "plt.colorbar()"
   ]
  },
  {
   "cell_type": "raw",
   "metadata": {},
   "source": [
    "ros_file = open('./models/PK3CA_HUMAN/PK3CA_HUMAN_5DXH_A/alignment.ros')\n",
    "\n",
    "align_file = ros_file.readlines()\n",
    "\n",
    "target_seq = align_file[3][2:-1]\n",
    "\n",
    "temp_seq = align_file[4][2:-1]\n",
    "\n",
    "len_target = len(target_seq.replace('-', '')) \n",
    "len_template = len(temp_seq.replace('-', ''))\n",
    "\n",
    "print(len_target, len_template)\n",
    "\n",
    "ros_align_files = glob.glob('./models/PK3CA_HUMAN/*/alignment.ros')\n",
    "\n",
    "for ros_file in ros_align_files: \n",
    "    align_file = open(ros_file).readlines() \n",
    "    target_seq = align_file[3][2:-1]\n",
    "\n",
    "    temp_seq = align_file[4][2:-1]\n",
    "\n",
    "    len_target = len(target_seq.replace('-', '')) \n",
    "    len_template = len(temp_seq.replace('-', ''))\n",
    "\n",
    "    print(len_target, len_template, len_template/len_target)"
   ]
  },
  {
   "cell_type": "code",
   "execution_count": 13,
   "metadata": {},
   "outputs": [],
   "source": [
    "seq_ratios = open('./models/PK3CA_HUMAN/sequence-ratios.txt').read().split()\n",
    "seq_ratio_dict = dict(zip(seq_ratios[::2], seq_ratios[1::2]))"
   ]
  },
  {
   "cell_type": "code",
   "execution_count": 17,
   "metadata": {},
   "outputs": [],
   "source": []
  },
  {
   "cell_type": "code",
   "execution_count": 36,
   "metadata": {},
   "outputs": [
    {
     "name": "stdout",
     "output_type": "stream",
     "text": [
      "0 ID: PK3CA_HUMAN_2ENQ_A\n",
      "Name: PK3CA_HUMAN_2ENQ_A\n",
      "Description: PK3CA_HUMAN_2ENQ_A\n",
      "Number of features: 0\n",
      "Seq('NSALRIKILCATYVNVNIRDIDKIYVRTGIYHGGEPLCDNVNTQRVPCSNPRWN...WFS', SingleLetterAlphabet())\n",
      "1 ID: PK3CA_HUMAN_2RD0_A\n",
      "Name: PK3CA_HUMAN_2RD0_A\n",
      "Description: PK3CA_HUMAN_2RD0_A\n",
      "Number of features: 0\n",
      "Seq('GELWGIHLMPPRILVECLLPNGMIVTLECLREATLITIKHELFKEARKYPLHQL...HGG', SingleLetterAlphabet())\n",
      "2 ID: PK3CA_HUMAN_3HHM_A\n",
      "Name: PK3CA_HUMAN_3HHM_A\n",
      "Description: PK3CA_HUMAN_3HHM_A\n",
      "Number of features: 0\n",
      "Seq('PSSGELWGIHLMPPRILVECLLPNGMIVTLECLREATLITIKHELFKEARKYPL...HTI', SingleLetterAlphabet())\n",
      "3 ID: PK3CA_HUMAN_3HIZ_A\n",
      "Name: PK3CA_HUMAN_3HIZ_A\n",
      "Description: PK3CA_HUMAN_3HIZ_A\n",
      "Number of features: 0\n",
      "Seq('PSSGELWGIHLMPPRILVECLLPNGMIVTLECLREATLITIKHELFKEARKYPL...HTI', SingleLetterAlphabet())\n",
      "4 ID: PK3CA_HUMAN_3ZIM_A\n",
      "Name: PK3CA_HUMAN_3ZIM_A\n",
      "Description: PK3CA_HUMAN_3ZIM_A\n",
      "Number of features: 0\n",
      "Seq('NREEKILNREIGFAIGMPVCEFDMVKDPEVQDFRRNILNVCKEAVDLRDLNSPH...NDA', SingleLetterAlphabet())\n",
      "5 ID: PK3CA_HUMAN_4JPS_A\n",
      "Name: PK3CA_HUMAN_4JPS_A\n",
      "Description: PK3CA_HUMAN_4JPS_A\n",
      "Number of features: 0\n",
      "Seq('PPRPSSGELWGIHLMPPRILVECLLPNGMIVTLECLREATLITIKHELFKEARK...FHT', SingleLetterAlphabet())\n",
      "6 ID: PK3CA_HUMAN_4L1B_A\n",
      "Name: PK3CA_HUMAN_4L1B_A\n",
      "Description: PK3CA_HUMAN_4L1B_A\n",
      "Number of features: 0\n",
      "Seq('GELWGIHLMPPRILVECLLPNGMIVTLECLREATLITIKHELFKEARKYPLHQL...DWI', SingleLetterAlphabet())\n",
      "7 ID: PK3CA_HUMAN_4L23_A\n",
      "Name: PK3CA_HUMAN_4L23_A\n",
      "Description: PK3CA_HUMAN_4L23_A\n",
      "Number of features: 0\n",
      "Seq('GELWGIHLMPPRILVECLLPNGMIVTLECLREATLITIKHELFKEARKYPLHQL...WIF', SingleLetterAlphabet())\n",
      "8 ID: PK3CA_HUMAN_4L2Y_A\n",
      "Name: PK3CA_HUMAN_4L2Y_A\n",
      "Description: PK3CA_HUMAN_4L2Y_A\n",
      "Number of features: 0\n",
      "Seq('GELWGIHLMPPRILVECLLPNGMIVTLECLREATLITIKHELFKEARKYPLHQL...WTT', SingleLetterAlphabet())\n",
      "9 ID: PK3CA_HUMAN_4OVU_A\n",
      "Name: PK3CA_HUMAN_4OVU_A\n",
      "Description: PK3CA_HUMAN_4OVU_A\n",
      "Number of features: 0\n",
      "Seq('SSGELWGIHLMPPRILVECLLPNGMIVTLECLREATLITIKHELFKEARKYPLH...GWT', SingleLetterAlphabet())\n",
      "10 ID: PK3CA_HUMAN_4OVV_A\n",
      "Name: PK3CA_HUMAN_4OVV_A\n",
      "Description: PK3CA_HUMAN_4OVV_A\n",
      "Number of features: 0\n",
      "Seq('RPSSGELWGIHLMPPRILVECLLPNGMIVTLECLREATLITIKHELFKEARKYP...WTT', SingleLetterAlphabet())\n",
      "11 ID: PK3CA_HUMAN_4TUU_A\n",
      "Name: PK3CA_HUMAN_4TUU_A\n",
      "Description: PK3CA_HUMAN_4TUU_A\n",
      "Number of features: 0\n",
      "Seq('NREEKILNREIGFAIGMPVCEFDMVKDPEVQDFRRNILNVCKEAVDLRDLNSPH...NDA', SingleLetterAlphabet())\n",
      "12 ID: PK3CA_HUMAN_4TV3_A\n",
      "Name: PK3CA_HUMAN_4TV3_A\n",
      "Description: PK3CA_HUMAN_4TV3_A\n",
      "Number of features: 0\n",
      "Seq('NREEKILNREIGFAIGMPVCEFDMVKDPEVQDFRRNILNVCKEAVDLRDLNSPH...NDA', SingleLetterAlphabet())\n",
      "13 ID: PK3CA_HUMAN_4WAF_A\n",
      "Name: PK3CA_HUMAN_4WAF_A\n",
      "Description: PK3CA_HUMAN_4WAF_A\n",
      "Number of features: 0\n",
      "Seq('PPRPSSGELWGIHLMPPRILVECLLPNGMIVTLECLREATLITIKHELFKEARK...FHT', SingleLetterAlphabet())\n",
      "14 ID: PK3CA_HUMAN_4YKN_A\n",
      "Name: PK3CA_HUMAN_4YKN_A\n",
      "Description: PK3CA_HUMAN_4YKN_A\n",
      "Number of features: 0\n",
      "Seq('AEWYWGDISREEVNEKLRDTADGTFLVRDYTLTLRKGGNNKLIKIFHYGFSDPL...GWT', SingleLetterAlphabet())\n",
      "15 ID: PK3CA_HUMAN_4ZOP_A\n",
      "Name: PK3CA_HUMAN_4ZOP_A\n",
      "Description: PK3CA_HUMAN_4ZOP_A\n",
      "Number of features: 0\n",
      "Seq('PPRPSSGELWGIHLMPPRILVECLLPNGMIVTLECLREATLITIKHELFKEARK...FHT', SingleLetterAlphabet())\n",
      "16 ID: PK3CA_HUMAN_5DXH_A\n",
      "Name: PK3CA_HUMAN_5DXH_A\n",
      "Description: PK3CA_HUMAN_5DXH_A\n",
      "Number of features: 0\n",
      "Seq('PPRPSSGELWGIHLMPPRILVECLLPNGMIVTLECLREATLITIKHELFKEARK...HTI', SingleLetterAlphabet())\n",
      "17 ID: PK3CA_HUMAN_5DXH_D\n",
      "Name: PK3CA_HUMAN_5DXH_D\n",
      "Description: PK3CA_HUMAN_5DXH_D\n",
      "Number of features: 0\n",
      "Seq('PPRPSSGELWGIHLMPPRILVECLLPNGMIVTLECLREATLITIKHELFKEARK...HTI', SingleLetterAlphabet())\n",
      "18 ID: PK3CA_HUMAN_5DXT_A\n",
      "Name: PK3CA_HUMAN_5DXT_A\n",
      "Description: PK3CA_HUMAN_5DXT_A\n",
      "Number of features: 0\n",
      "Seq('NREEKILNREIGFAIGMPVCEFDMVKDPEVQDFRRNILNVCKEAVDLRDLNSPH...GGW', SingleLetterAlphabet())\n",
      "19 ID: PK3CA_HUMAN_5FI4_A\n",
      "Name: PK3CA_HUMAN_5FI4_A\n",
      "Description: PK3CA_HUMAN_5FI4_A\n",
      "Number of features: 0\n",
      "Seq('PPRPSSGELWGIHLMPPRILVECLLPNGMIVTLECLREATLITIKHELFKEARK...HTI', SingleLetterAlphabet())\n",
      "20 ID: PK3CA_HUMAN_5ITD_A\n",
      "Name: PK3CA_HUMAN_5ITD_A\n",
      "Description: PK3CA_HUMAN_5ITD_A\n",
      "Number of features: 0\n",
      "Seq('PPRPSSGELWGIHLMPPRILVECLLPNGMIVTLECLREATLITIKHELFKEARK...WIF', SingleLetterAlphabet())\n",
      "21 ID: PK3CA_HUMAN_5SW8_A\n",
      "Name: PK3CA_HUMAN_5SW8_A\n",
      "Description: PK3CA_HUMAN_5SW8_A\n",
      "Number of features: 0\n",
      "Seq('MPPRPSSGELWGIHLMPPRILVECLLPNGMIVTLECLREATLITIKHELFKEAR...WTT', SingleLetterAlphabet())\n",
      "22 ID: PK3CA_HUMAN_5SWG_A\n",
      "Name: PK3CA_HUMAN_5SWG_A\n",
      "Description: PK3CA_HUMAN_5SWG_A\n",
      "Number of features: 0\n",
      "Seq('MPPRPSSGELWGIHLMPPRILVECLLPNGMIVTLECLREATLITIKHELFKEAR...GWT', SingleLetterAlphabet())\n",
      "23 ID: PK3CA_HUMAN_5SWO_A\n",
      "Name: PK3CA_HUMAN_5SWO_A\n",
      "Description: PK3CA_HUMAN_5SWO_A\n",
      "Number of features: 0\n",
      "Seq('MPPRPSSGELWGIHLMPPRILVECLLPNGMIVTLECLREATLITIKHELFKEAR...GWT', SingleLetterAlphabet())\n",
      "24 ID: PK3CA_HUMAN_5SWP_A\n",
      "Name: PK3CA_HUMAN_5SWP_A\n",
      "Description: PK3CA_HUMAN_5SWP_A\n",
      "Number of features: 0\n",
      "Seq('MPPRPSGELWGIHLMPPRILVECLLPNGMIVTLECLREATLITIKHELFKEARK...TTK', SingleLetterAlphabet())\n",
      "25 ID: PK3CA_HUMAN_5SWR_A\n",
      "Name: PK3CA_HUMAN_5SWR_A\n",
      "Description: PK3CA_HUMAN_5SWR_A\n",
      "Number of features: 0\n",
      "Seq('MPPRPSGELWGIHLMPPRILVECLLPNGMIVTLECLREATLITIKHELFKEARK...GWT', SingleLetterAlphabet())\n",
      "26 ID: PK3CA_HUMAN_5SWT_A\n",
      "Name: PK3CA_HUMAN_5SWT_A\n",
      "Description: PK3CA_HUMAN_5SWT_A\n",
      "Number of features: 0\n",
      "Seq('MPPRPSGELWGIHLMPPRILVECLLPNGMIVTLECLREATLITIKHELFKEARK...TTK', SingleLetterAlphabet())\n",
      "27 ID: PK3CA_HUMAN_5SX8_A\n",
      "Name: PK3CA_HUMAN_5SX8_A\n",
      "Description: PK3CA_HUMAN_5SX8_A\n",
      "Number of features: 0\n",
      "Seq('PPRPSSGELWGIHLMPPRILVECLLPNGMIVTLECLREATLITIKHELFKEARK...TTK', SingleLetterAlphabet())\n",
      "28 ID: PK3CA_HUMAN_5SX9_A\n",
      "Name: PK3CA_HUMAN_5SX9_A\n",
      "Description: PK3CA_HUMAN_5SX9_A\n",
      "Number of features: 0\n",
      "Seq('MPPRPSSGELWGIHLMPPRILVECLLPNGMIVTLECLREATLITIKHELFKEAR...WTT', SingleLetterAlphabet())\n",
      "29 ID: PK3CA_HUMAN_5SXA_A\n",
      "Name: PK3CA_HUMAN_5SXA_A\n",
      "Description: PK3CA_HUMAN_5SXA_A\n",
      "Number of features: 0\n",
      "Seq('PRGELWGIHLMPPRILVECLLPNGMIVTLECLREATLITIKHELFKEARKYPLH...DWI', SingleLetterAlphabet())\n",
      "30 ID: PK3CA_HUMAN_5SXB_A\n",
      "Name: PK3CA_HUMAN_5SXB_A\n",
      "Description: PK3CA_HUMAN_5SXB_A\n",
      "Number of features: 0\n",
      "Seq('MPPRPSGELWGIHLMPPRILVECLLPNGMIVTLECLREATLITIKHELFKEARK...KMD', SingleLetterAlphabet())\n",
      "31 ID: PK3CA_HUMAN_5SXC_A\n",
      "Name: PK3CA_HUMAN_5SXC_A\n",
      "Description: PK3CA_HUMAN_5SXC_A\n",
      "Number of features: 0\n",
      "Seq('PPRPSGELWGIHLMPPRILVECLLPNGMIVTLECLREATLITIKHELFKEARKY...GWT', SingleLetterAlphabet())\n",
      "32 ID: PK3CA_HUMAN_5SXD_A\n",
      "Name: PK3CA_HUMAN_5SXD_A\n",
      "Description: PK3CA_HUMAN_5SXD_A\n",
      "Number of features: 0\n",
      "Seq('MPPRPSGELWGIHLMPPRILVECLLPNGMIVTLECLREATLITIKHELFKEARK...TTK', SingleLetterAlphabet())\n",
      "33 ID: PK3CA_HUMAN_5SXE_A\n",
      "Name: PK3CA_HUMAN_5SXE_A\n",
      "Description: PK3CA_HUMAN_5SXE_A\n",
      "Number of features: 0\n",
      "Seq('MPPRPSGELWGIHLMPPRILVECLLPNGMIVTLECLREATLITIKHELFKEARK...TTK', SingleLetterAlphabet())\n",
      "34 ID: PK3CA_HUMAN_5SXF_A\n",
      "Name: PK3CA_HUMAN_5SXF_A\n",
      "Description: PK3CA_HUMAN_5SXF_A\n",
      "Number of features: 0\n",
      "Seq('RPSSGELWGIHLMPPRILVECLLPNGMIVTLECLREATLITIKHELFKEARKYP...GGW', SingleLetterAlphabet())\n",
      "35 ID: PK3CA_HUMAN_5SXI_A\n",
      "Name: PK3CA_HUMAN_5SXI_A\n",
      "Description: PK3CA_HUMAN_5SXI_A\n",
      "Number of features: 0\n",
      "Seq('PSGELWGIHLMPPRILVECLLPNGMIVTLECLREATLITIKHELFKEARKYPLH...KMD', SingleLetterAlphabet())\n",
      "36 ID: PK3CA_HUMAN_5SXJ_A\n",
      "Name: PK3CA_HUMAN_5SXJ_A\n",
      "Description: PK3CA_HUMAN_5SXJ_A\n",
      "Number of features: 0\n",
      "Seq('PRSGELWGIHLMPPRILVECLLPNGMIVTLECLREATLITIKHELFKEARKYPL...GGW', SingleLetterAlphabet())\n",
      "37 ID: PK3CA_HUMAN_5SXK_A\n",
      "Name: PK3CA_HUMAN_5SXK_A\n",
      "Description: PK3CA_HUMAN_5SXK_A\n",
      "Number of features: 0\n",
      "Seq('MPPRPSSGELWGIHLMPPRILVECLLPNGMIVTLECLREATLITIKHELFKEAR...GWT', SingleLetterAlphabet())\n",
      "38 ID: PK3CA_HUMAN_5UBR_A\n",
      "Name: PK3CA_HUMAN_5UBR_A\n",
      "Description: PK3CA_HUMAN_5UBR_A\n",
      "Number of features: 0\n",
      "Seq('NREEKILNREIGFAIGMPVCEFDMVKDPEVQDFRRNILNVCKEAVDLRDLNSPH...HGG', SingleLetterAlphabet())\n",
      "39 ID: PK3CA_HUMAN_5UK8_A\n",
      "Name: PK3CA_HUMAN_5UK8_A\n",
      "Description: PK3CA_HUMAN_5UK8_A\n",
      "Number of features: 0\n",
      "Seq('PPRPSSGELWGIHLMPPRILVECLLPNGMIVTLECLREATLITIKHELFKEARK...MDW', SingleLetterAlphabet())\n",
      "40 ID: PK3CA_HUMAN_5UKJ_A\n",
      "Name: PK3CA_HUMAN_5UKJ_A\n",
      "Description: PK3CA_HUMAN_5UKJ_A\n",
      "Number of features: 0\n",
      "Seq('PPRPSSGELWGIHLMPPRILVECLLPNGMIVTLECLREATLITIKHELFKEARK...WTT', SingleLetterAlphabet())\n",
      "41 ID: PK3CA_HUMAN_5UL1_A\n",
      "Name: PK3CA_HUMAN_5UL1_A\n",
      "Description: PK3CA_HUMAN_5UL1_A\n",
      "Number of features: 0\n",
      "Seq('PPRPSSGELWGIHLMPPRILVECLLPNGMIVTLECLREATLITIKHELFKEARK...WTT', SingleLetterAlphabet())\n",
      "42 ID: PK3CA_HUMAN_5XGH_A\n",
      "Name: PK3CA_HUMAN_5XGH_A\n",
      "Description: PK3CA_HUMAN_5XGH_A\n",
      "Number of features: 0\n",
      "Seq('GELWGIHLMPPRILVECLLPNGMIVTLECLREATLITIKHELFKEARKYPLHQL...TKM', SingleLetterAlphabet())\n",
      "43 ID: PK3CA_HUMAN_5XGI_A\n",
      "Name: PK3CA_HUMAN_5XGI_A\n",
      "Description: PK3CA_HUMAN_5XGI_A\n",
      "Number of features: 0\n",
      "Seq('GELWGIHLMPPRILVECLLPNGMIVTLECLREATLITIKHELFKEARKYPLHQL...WIF', SingleLetterAlphabet())\n",
      "44 ID: PK3CA_HUMAN_5XGJ_A\n",
      "Name: PK3CA_HUMAN_5XGJ_A\n",
      "Description: PK3CA_HUMAN_5XGJ_A\n",
      "Number of features: 0\n",
      "Seq('GELWGIHLMPPRILVECLLPNGMIVTLECLREATLITIKHELFKEARKYPLHQL...TKM', SingleLetterAlphabet())\n"
     ]
    }
   ],
   "source": [
    "for i, seq in enumerate(templates_resolved_seq): \n",
    "    print(i, seq)"
   ]
  },
  {
   "cell_type": "code",
   "execution_count": null,
   "metadata": {},
   "outputs": [],
   "source": []
  }
 ],
 "metadata": {
  "kernelspec": {
   "display_name": "Python 3",
   "language": "python",
   "name": "python3"
  },
  "language_info": {
   "codemirror_mode": {
    "name": "ipython",
    "version": 3
   },
   "file_extension": ".py",
   "mimetype": "text/x-python",
   "name": "python",
   "nbconvert_exporter": "python",
   "pygments_lexer": "ipython3",
   "version": "3.6.7"
  }
 },
 "nbformat": 4,
 "nbformat_minor": 2
}
