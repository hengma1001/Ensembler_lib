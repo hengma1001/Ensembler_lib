{
 "cells": [
  {
   "cell_type": "code",
   "execution_count": 1,
   "metadata": {},
   "outputs": [],
   "source": [
    "import sys, os\n",
    "\n",
    "sys.path.append('../')\n",
    "\n",
    "import ensembler\n",
    "\n",
    "# from ensembler.build_env import Ensembler_proj_init, GatherTargetsFromUniprot, gather_templates_from_uniprot \n",
    "# from ensembler.modeling import model_template_loops, align_targets_and_templates\n",
    "# from ensembler.core import default_project_dirnames, mpistate \n",
    "\n",
    "search_string = 'accession:p42336 taxonomy:\"Homo sapiens (Human) [9606]\"' \n",
    "loglevel='debug'"
   ]
  },
  {
   "cell_type": "markdown",
   "metadata": {},
   "source": [
    "# Initializaion of the project"
   ]
  },
  {
   "cell_type": "code",
   "execution_count": 3,
   "metadata": {},
   "outputs": [
    {
     "name": "stdout",
     "output_type": "stream",
     "text": [
      "File ./targets exists, pass...\n",
      "File ./templates exists, pass...\n",
      "File ./structures exists, pass...\n",
      "File ./models exists, pass...\n",
      "File ./packaged_models exists, pass...\n",
      "File ./structures/pdb exists, pass...\n",
      "File ./structures/sifts exists, pass...\n",
      "File ./templates/structures-resolved exists, pass...\n",
      "File ./templates/structures-modeled-loops exists, pass...\n",
      "Done.\n"
     ]
    },
    {
     "data": {
      "text/plain": [
       "<ensembler.build_env.Ensembler_proj_init at 0x110504f98>"
      ]
     },
     "execution_count": 3,
     "metadata": {},
     "output_type": "execute_result"
    }
   ],
   "source": [
    "ensembler.build_env.Ensembler_proj_init()"
   ]
  },
  {
   "cell_type": "markdown",
   "metadata": {},
   "source": [
    "# Download target from Uniprot"
   ]
  },
  {
   "cell_type": "code",
   "execution_count": 4,
   "metadata": {},
   "outputs": [
    {
     "name": "stdout",
     "output_type": "stream",
     "text": [
      "Querying Uniprot web server...\n",
      "Number of entries returned from initial UniProt search: 2\n",
      "\n",
      "Set of unique domain names returned from the initial UniProt search using the query string 'accession:p42336 taxonomy:\"Homo sapiens (Human) [9606]\"':\n",
      "{'PIK helical', 'PI3K-RBD', 'PI3K/PI4K', 'PI3K-ABD', 'C2 PI3K-type'}\n",
      "\n",
      "Done.\n"
     ]
    },
    {
     "data": {
      "text/plain": [
       "<ensembler.build_env.GatherTargetsFromUniprot at 0x1191a1d68>"
      ]
     },
     "execution_count": 4,
     "metadata": {},
     "output_type": "execute_result"
    }
   ],
   "source": [
    "ensembler.build_env.GatherTargetsFromUniprot(search_string)"
   ]
  },
  {
   "cell_type": "markdown",
   "metadata": {},
   "source": [
    "# Download templates from Uniprot"
   ]
  },
  {
   "cell_type": "code",
   "execution_count": 5,
   "metadata": {
    "scrolled": false
   },
   "outputs": [
    {
     "name": "stdout",
     "output_type": "stream",
     "text": [
      "Set of unique domain names returned from the initial UniProt search using the query string 'accession:p42336 taxonomy:\"Homo sapiens (Human) [9606]\"':\n",
      "{'PIK helical', 'PI3K-RBD', 'PI3K/PI4K', 'PI3K-ABD', 'C2 PI3K-type'}\n",
      "\n",
      "45 PDB chains selected.\n",
      "Selected PDB chains: ['PK3CA_HUMAN_2ENQ_A', 'PK3CA_HUMAN_2RD0_A', 'PK3CA_HUMAN_3HHM_A', 'PK3CA_HUMAN_3HIZ_A', 'PK3CA_HUMAN_3ZIM_A', 'PK3CA_HUMAN_4JPS_A', 'PK3CA_HUMAN_4L1B_A', 'PK3CA_HUMAN_4L23_A', 'PK3CA_HUMAN_4L2Y_A', 'PK3CA_HUMAN_4OVU_A', 'PK3CA_HUMAN_4OVV_A', 'PK3CA_HUMAN_4TUU_A', 'PK3CA_HUMAN_4TV3_A', 'PK3CA_HUMAN_4WAF_A', 'PK3CA_HUMAN_4YKN_A', 'PK3CA_HUMAN_4ZOP_A', 'PK3CA_HUMAN_5DXH_A', 'PK3CA_HUMAN_5DXH_D', 'PK3CA_HUMAN_5DXT_A', 'PK3CA_HUMAN_5FI4_A', 'PK3CA_HUMAN_5ITD_A', 'PK3CA_HUMAN_5SW8_A', 'PK3CA_HUMAN_5SWG_A', 'PK3CA_HUMAN_5SWO_A', 'PK3CA_HUMAN_5SWP_A', 'PK3CA_HUMAN_5SWR_A', 'PK3CA_HUMAN_5SWT_A', 'PK3CA_HUMAN_5SX8_A', 'PK3CA_HUMAN_5SX9_A', 'PK3CA_HUMAN_5SXA_A', 'PK3CA_HUMAN_5SXB_A', 'PK3CA_HUMAN_5SXC_A', 'PK3CA_HUMAN_5SXD_A', 'PK3CA_HUMAN_5SXE_A', 'PK3CA_HUMAN_5SXF_A', 'PK3CA_HUMAN_5SXI_A', 'PK3CA_HUMAN_5SXJ_A', 'PK3CA_HUMAN_5SXK_A', 'PK3CA_HUMAN_5UBR_A', 'PK3CA_HUMAN_5UK8_A', 'PK3CA_HUMAN_5UKJ_A', 'PK3CA_HUMAN_5UL1_A', 'PK3CA_HUMAN_5XGH_A', 'PK3CA_HUMAN_5XGI_A', 'PK3CA_HUMAN_5XGJ_A']\n",
      "Extracting residues from PDB chains...\n",
      "45 templates selected.\n",
      "\n",
      "Writing template structures...\n",
      "Done.\n"
     ]
    }
   ],
   "source": [
    "ensembler.build_env.gather_templates_from_uniprot(search_string, loglevel='debug')"
   ]
  },
  {
   "cell_type": "markdown",
   "metadata": {
    "slideshow": {
     "slide_type": "-"
    }
   },
   "source": [
    "# Loop model"
   ]
  },
  {
   "cell_type": "raw",
   "metadata": {},
   "source": [
    "model_template_loops(loglevel='debug')"
   ]
  },
  {
   "cell_type": "markdown",
   "metadata": {},
   "source": [
    "# Alignment "
   ]
  },
  {
   "cell_type": "code",
   "execution_count": 6,
   "metadata": {},
   "outputs": [
    {
     "name": "stdout",
     "output_type": "stream",
     "text": [
      "Working on target PK3CA_HUMAN...\n",
      "File models/PK3CA_HUMAN exists, pass...\n",
      "File /Users/hm0/Documents/Research/Ensembler/Ensembler_lib/examples/models/PK3CA_HUMAN/PK3CA_HUMAN_2ENQ_A exists, pass...\n",
      "File /Users/hm0/Documents/Research/Ensembler/Ensembler_lib/examples/models/PK3CA_HUMAN/PK3CA_HUMAN_2RD0_A exists, pass...\n",
      "File /Users/hm0/Documents/Research/Ensembler/Ensembler_lib/examples/models/PK3CA_HUMAN/PK3CA_HUMAN_3HHM_A exists, pass...\n",
      "File /Users/hm0/Documents/Research/Ensembler/Ensembler_lib/examples/models/PK3CA_HUMAN/PK3CA_HUMAN_3HIZ_A exists, pass...\n",
      "File /Users/hm0/Documents/Research/Ensembler/Ensembler_lib/examples/models/PK3CA_HUMAN/PK3CA_HUMAN_3ZIM_A exists, pass...\n",
      "File /Users/hm0/Documents/Research/Ensembler/Ensembler_lib/examples/models/PK3CA_HUMAN/PK3CA_HUMAN_4JPS_A exists, pass...\n",
      "File /Users/hm0/Documents/Research/Ensembler/Ensembler_lib/examples/models/PK3CA_HUMAN/PK3CA_HUMAN_4L1B_A exists, pass...\n",
      "File /Users/hm0/Documents/Research/Ensembler/Ensembler_lib/examples/models/PK3CA_HUMAN/PK3CA_HUMAN_4L23_A exists, pass...\n",
      "File /Users/hm0/Documents/Research/Ensembler/Ensembler_lib/examples/models/PK3CA_HUMAN/PK3CA_HUMAN_4L2Y_A exists, pass...\n",
      "File /Users/hm0/Documents/Research/Ensembler/Ensembler_lib/examples/models/PK3CA_HUMAN/PK3CA_HUMAN_4OVU_A exists, pass...\n",
      "File /Users/hm0/Documents/Research/Ensembler/Ensembler_lib/examples/models/PK3CA_HUMAN/PK3CA_HUMAN_4OVV_A exists, pass...\n",
      "File /Users/hm0/Documents/Research/Ensembler/Ensembler_lib/examples/models/PK3CA_HUMAN/PK3CA_HUMAN_4TUU_A exists, pass...\n",
      "File /Users/hm0/Documents/Research/Ensembler/Ensembler_lib/examples/models/PK3CA_HUMAN/PK3CA_HUMAN_4TV3_A exists, pass...\n",
      "File /Users/hm0/Documents/Research/Ensembler/Ensembler_lib/examples/models/PK3CA_HUMAN/PK3CA_HUMAN_4WAF_A exists, pass...\n",
      "File /Users/hm0/Documents/Research/Ensembler/Ensembler_lib/examples/models/PK3CA_HUMAN/PK3CA_HUMAN_4YKN_A exists, pass...\n",
      "File /Users/hm0/Documents/Research/Ensembler/Ensembler_lib/examples/models/PK3CA_HUMAN/PK3CA_HUMAN_4ZOP_A exists, pass...\n",
      "File /Users/hm0/Documents/Research/Ensembler/Ensembler_lib/examples/models/PK3CA_HUMAN/PK3CA_HUMAN_5DXH_A exists, pass...\n",
      "File /Users/hm0/Documents/Research/Ensembler/Ensembler_lib/examples/models/PK3CA_HUMAN/PK3CA_HUMAN_5DXH_D exists, pass...\n",
      "File /Users/hm0/Documents/Research/Ensembler/Ensembler_lib/examples/models/PK3CA_HUMAN/PK3CA_HUMAN_5DXT_A exists, pass...\n",
      "File /Users/hm0/Documents/Research/Ensembler/Ensembler_lib/examples/models/PK3CA_HUMAN/PK3CA_HUMAN_5FI4_A exists, pass...\n",
      "File /Users/hm0/Documents/Research/Ensembler/Ensembler_lib/examples/models/PK3CA_HUMAN/PK3CA_HUMAN_5ITD_A exists, pass...\n",
      "File /Users/hm0/Documents/Research/Ensembler/Ensembler_lib/examples/models/PK3CA_HUMAN/PK3CA_HUMAN_5SW8_A exists, pass...\n",
      "File /Users/hm0/Documents/Research/Ensembler/Ensembler_lib/examples/models/PK3CA_HUMAN/PK3CA_HUMAN_5SWG_A exists, pass...\n",
      "File /Users/hm0/Documents/Research/Ensembler/Ensembler_lib/examples/models/PK3CA_HUMAN/PK3CA_HUMAN_5SWO_A exists, pass...\n",
      "File /Users/hm0/Documents/Research/Ensembler/Ensembler_lib/examples/models/PK3CA_HUMAN/PK3CA_HUMAN_5SWP_A exists, pass...\n",
      "File /Users/hm0/Documents/Research/Ensembler/Ensembler_lib/examples/models/PK3CA_HUMAN/PK3CA_HUMAN_5SWR_A exists, pass...\n",
      "File /Users/hm0/Documents/Research/Ensembler/Ensembler_lib/examples/models/PK3CA_HUMAN/PK3CA_HUMAN_5SWT_A exists, pass...\n",
      "File /Users/hm0/Documents/Research/Ensembler/Ensembler_lib/examples/models/PK3CA_HUMAN/PK3CA_HUMAN_5SX8_A exists, pass...\n",
      "File /Users/hm0/Documents/Research/Ensembler/Ensembler_lib/examples/models/PK3CA_HUMAN/PK3CA_HUMAN_5SX9_A exists, pass...\n",
      "File /Users/hm0/Documents/Research/Ensembler/Ensembler_lib/examples/models/PK3CA_HUMAN/PK3CA_HUMAN_5SXA_A exists, pass...\n",
      "File /Users/hm0/Documents/Research/Ensembler/Ensembler_lib/examples/models/PK3CA_HUMAN/PK3CA_HUMAN_5SXB_A exists, pass...\n",
      "File /Users/hm0/Documents/Research/Ensembler/Ensembler_lib/examples/models/PK3CA_HUMAN/PK3CA_HUMAN_5SXC_A exists, pass...\n",
      "File /Users/hm0/Documents/Research/Ensembler/Ensembler_lib/examples/models/PK3CA_HUMAN/PK3CA_HUMAN_5SXD_A exists, pass...\n",
      "File /Users/hm0/Documents/Research/Ensembler/Ensembler_lib/examples/models/PK3CA_HUMAN/PK3CA_HUMAN_5SXE_A exists, pass...\n",
      "File /Users/hm0/Documents/Research/Ensembler/Ensembler_lib/examples/models/PK3CA_HUMAN/PK3CA_HUMAN_5SXF_A exists, pass...\n",
      "File /Users/hm0/Documents/Research/Ensembler/Ensembler_lib/examples/models/PK3CA_HUMAN/PK3CA_HUMAN_5SXI_A exists, pass...\n",
      "File /Users/hm0/Documents/Research/Ensembler/Ensembler_lib/examples/models/PK3CA_HUMAN/PK3CA_HUMAN_5SXJ_A exists, pass...\n",
      "File /Users/hm0/Documents/Research/Ensembler/Ensembler_lib/examples/models/PK3CA_HUMAN/PK3CA_HUMAN_5SXK_A exists, pass...\n",
      "File /Users/hm0/Documents/Research/Ensembler/Ensembler_lib/examples/models/PK3CA_HUMAN/PK3CA_HUMAN_5UBR_A exists, pass...\n",
      "File /Users/hm0/Documents/Research/Ensembler/Ensembler_lib/examples/models/PK3CA_HUMAN/PK3CA_HUMAN_5UK8_A exists, pass...\n",
      "File /Users/hm0/Documents/Research/Ensembler/Ensembler_lib/examples/models/PK3CA_HUMAN/PK3CA_HUMAN_5UKJ_A exists, pass...\n",
      "File /Users/hm0/Documents/Research/Ensembler/Ensembler_lib/examples/models/PK3CA_HUMAN/PK3CA_HUMAN_5UL1_A exists, pass...\n",
      "File /Users/hm0/Documents/Research/Ensembler/Ensembler_lib/examples/models/PK3CA_HUMAN/PK3CA_HUMAN_5XGH_A exists, pass...\n",
      "File /Users/hm0/Documents/Research/Ensembler/Ensembler_lib/examples/models/PK3CA_HUMAN/PK3CA_HUMAN_5XGI_A exists, pass...\n",
      "File /Users/hm0/Documents/Research/Ensembler/Ensembler_lib/examples/models/PK3CA_HUMAN/PK3CA_HUMAN_5XGJ_A exists, pass...\n",
      "Done.\n"
     ]
    }
   ],
   "source": [
    "ensembler.modeling.align_targets_and_templates(loglevel=loglevel)"
   ]
  },
  {
   "cell_type": "markdown",
   "metadata": {},
   "source": [
    "# Modeling "
   ]
  },
  {
   "cell_type": "code",
   "execution_count": null,
   "metadata": {},
   "outputs": [
    {
     "name": "stdout",
     "output_type": "stream",
     "text": [
      "=========================================================================\n",
      "Working on target \"PK3CA_HUMAN\"\n",
      "=========================================================================\n",
      "-------------------------------------------------------------------------\n",
      "Modelling \"PK3CA_HUMAN\" => \"PK3CA_HUMAN_2ENQ_A\"\n",
      "-------------------------------------------------------------------------\n"
     ]
    }
   ],
   "source": [
    "ensembler.modeling.build_models(loglevel=loglevel) "
   ]
  },
  {
   "cell_type": "code",
   "execution_count": null,
   "metadata": {},
   "outputs": [],
   "source": []
  }
 ],
 "metadata": {
  "kernelspec": {
   "display_name": "Python 3",
   "language": "python",
   "name": "python3"
  },
  "language_info": {
   "codemirror_mode": {
    "name": "ipython",
    "version": 3
   },
   "file_extension": ".py",
   "mimetype": "text/x-python",
   "name": "python",
   "nbconvert_exporter": "python",
   "pygments_lexer": "ipython3",
   "version": "3.6.7"
  }
 },
 "nbformat": 4,
 "nbformat_minor": 2
}
