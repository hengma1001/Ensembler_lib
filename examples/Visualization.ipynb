{
 "cells": [
  {
   "cell_type": "code",
   "execution_count": 1,
   "metadata": {},
   "outputs": [],
   "source": [
    "import __main__\n",
    "__main__.pymol_argv = [ 'pymol', '-qc']\n",
    "import pymol\n",
    "pymol.finish_launching()"
   ]
  },
  {
   "cell_type": "code",
   "execution_count": 2,
   "metadata": {},
   "outputs": [],
   "source": [
    "import glob "
   ]
  },
  {
   "cell_type": "code",
   "execution_count": 3,
   "metadata": {},
   "outputs": [],
   "source": [
    "pdbs = open('./models/PK3CA_HUMAN/unique-models.txt', 'r').read().split()"
   ]
  },
  {
   "cell_type": "code",
   "execution_count": 4,
   "metadata": {},
   "outputs": [],
   "source": [
    "pymol_names = []\n",
    "for i, pdb in enumerate(pdbs): \n",
    "    pymol_name = pdb[-21:-17] + pdb[-8:-4]\n",
    "    pymol.cmd.load(pdb, pymol_name) \n",
    "    pymol_names.append(pymol_name)"
   ]
  },
  {
   "cell_type": "code",
   "execution_count": 5,
   "metadata": {},
   "outputs": [
    {
     "data": {
      "text/plain": [
       "['5FI40004',\n",
       " '4L1B0003',\n",
       " '2RD00008',\n",
       " '2RD00002',\n",
       " '4L1B0007',\n",
       " '5ITD0009',\n",
       " '4JPS0002',\n",
       " '2RD00003',\n",
       " '2RD00001',\n",
       " '4JPS0001',\n",
       " '4JPS0008',\n",
       " '5FI40007',\n",
       " '4L1B0006',\n",
       " '4WAF0003',\n",
       " '2RD00010',\n",
       " '4OVV0006',\n",
       " '4JPS0005',\n",
       " '4JPS0003',\n",
       " '4WAF0001']"
      ]
     },
     "execution_count": 5,
     "metadata": {},
     "output_type": "execute_result"
    }
   ],
   "source": [
    "pymol_names"
   ]
  },
  {
   "cell_type": "code",
   "execution_count": 6,
   "metadata": {},
   "outputs": [],
   "source": [
    "for pymol_name in pymol_names[1:]: \n",
    "    pymol.cmd.align(pymol_name, pymol_names[0])"
   ]
  },
  {
   "cell_type": "code",
   "execution_count": 7,
   "metadata": {},
   "outputs": [],
   "source": [
    "pymol.cmd.zoom()"
   ]
  },
  {
   "cell_type": "code",
   "execution_count": 9,
   "metadata": {},
   "outputs": [],
   "source": [
    "pymol.cmd.png('./model.png', 1920, 1280, dpi=300, ray=1) "
   ]
  },
  {
   "cell_type": "code",
   "execution_count": null,
   "metadata": {},
   "outputs": [],
   "source": []
  }
 ],
 "metadata": {
  "kernelspec": {
   "display_name": "Python 2",
   "language": "python",
   "name": "python2"
  },
  "language_info": {
   "codemirror_mode": {
    "name": "ipython",
    "version": 2
   },
   "file_extension": ".py",
   "mimetype": "text/x-python",
   "name": "python",
   "nbconvert_exporter": "python",
   "pygments_lexer": "ipython2",
   "version": "2.7.14"
  }
 },
 "nbformat": 4,
 "nbformat_minor": 2
}
